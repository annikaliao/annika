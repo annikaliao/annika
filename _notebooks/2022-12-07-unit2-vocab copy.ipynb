{
 "cells": [
  {
   "attachments": {},
   "cell_type": "markdown",
   "metadata": {},
   "source": [
    "# Unit 2 Vocab: Binary/Data Terms\n",
    "> Definitions and code examples\n",
    "\n",
    "- title: Unit 2 Vocab\n",
    "- toc: true \n",
    "- badges: true\n",
    "- comments: false\n",
    "- categories: [jupyter]"
   ]
  },
  {
   "attachments": {},
   "cell_type": "markdown",
   "metadata": {},
   "source": [
    "<html>\n",
    "<head>\n",
    "<meta charset=\"UTF-8\">\n",
    "<table>\n",
    "    <tr>\n",
    "        <th>Term</th>\n",
    "        <th>Definition</th>\n",
    "        <th>Example</th>\n",
    "    </tr>\n",
    "    <tr>\n",
    "        <td>Bits</td>\n",
    "        <td>The smallest unit of data that a computer can process and store, with two possible states represented by single binary value, 0 or 1 </td>\n",
    "        <td> 1 0 1 1 0 1 0 <mark>0</mark></td>\n",
    "    </tr>\n",
    "    <tr>\n",
    "        <td>Bytes</td>\n",
    "        <td>A unit of data consisting of 8 bits</td>\n",
    "        <td> 1 0 1 1 0 1 0 0</td>\n",
    "    </tr>\n",
    "    <tr>\n",
    "        <td>Nibbles</td>\n",
    "        <td>A unit of data consisting of 4 bits, or, half a byte</td>\n",
    "        <td>1 0 1 1</td>\n",
    "    </tr>\n",
    "    <tr>\n",
    "        <td>Hexadecimal</td>\n",
    "        <td>A numbering system with base 16, used to represent large number with fewer digits. 16 possible symbols: 0 through 9, then A through F. Used to represent digital data because it has fewer digits than binary. </td>\n",
    "        <td><img src=\"https://upload.wikimedia.org/wikipedia/commons/thumb/e/eb/Hexadecimal_multiplication_table.svg/2000px-Hexadecimal_multiplication_table.svg.png\" width=\"200\" height=\"200\"></td>\n",
    "    </tr>\n",
    "    <tr>\n",
    "        <td>Unsigned Integer</td>\n",
    "        <td> Integers with no + or -, meaning they can only be zero or positive values, represented as a binary number</td>\n",
    "        <td rowspan=\"2\"><img src=\"https://i.stack.imgur.com/0SQVh.png\" width=\"400\" height=\"100\"></td>\n",
    "    </tr>\n",
    "    <tr>\n",
    "        <td>Signed Integer</td>\n",
    "        <td>A 32-bit datum that encodes an integer in the range [-2147483648 to 2147483647]</td>\n",
    "    </tr>\n",
    "    <tr>\n",
    "        <td>Floating Point</td>\n",
    "        <td>A positive or negative whole number with a decimal point. Method is float(). </td>\n",
    "        <td><pre>i = 5.5</pre></td>\n",
    "    </tr>\n",
    "    <tr>\n",
    "        <td>Boolean</td>\n",
    "        <td>Datatype that has two possible values, true or false.</td>\n",
    "        <td><pre>x = True<br>y = False</pre></td>\n",
    "    </tr>\n",
    "    <tr>\n",
    "        <td>ASCII</td>\n",
    "        <td>A common set of conventions established for converting between binary values and alphanumeric characters. 27 values (7 bits) can represent 123 different characters. </td>\n",
    "        <td><img src=\"https://upload.wikimedia.org/wikipedia/commons/c/cf/USASCII_code_chart.png\" width=\"400\" height=\"200\"></td>\n",
    "    </tr>\n",
    "    <tr>\n",
    "        <td>Unicode</td>\n",
    "        <td> A binary encoding system that can represent more of the world's text than ASCII. Unicode allows computers to represent most languages' alphabets, not just English. 216 values (16 bits) can represent 65,536 different characters. </td>\n",
    "        <td>&#128513;<br>I implemented this using: &# 128513 ;</td>\n",
    "    </tr>\n",
    "    <tr>\n",
    "        <td>RGB</td>\n",
    "        <td> (Red, green, and blue). Refers to a system for representing the colors to be used on a computer display. Red, green, and blue can be combined in various proportions to obtain any color in the visible spectrum. </td>\n",
    "        <td bgcolor=\"rgb(250, 100, 75)\"> rgb(250, 100, 75) </td>\n",
    "    </tr>\n",
    "    <tr>\n",
    "        <td>Lossy</td>\n",
    "        <td></td>\n",
    "        <td></td>\n",
    "    </tr>\n",
    "    <tr>\n",
    "        <td>Lossless</td>\n",
    "        <td></td>\n",
    "        <td></td>\n",
    "    </tr>\n",
    "</table>\n",
    "\n",
    "</html>"
   ]
  }
 ],
 "metadata": {
  "kernelspec": {
   "display_name": "Python 3.8.10 64-bit",
   "language": "python",
   "name": "python3"
  },
  "language_info": {
   "codemirror_mode": {
    "name": "ipython",
    "version": 3
   },
   "file_extension": ".py",
   "mimetype": "text/x-python",
   "name": "python",
   "nbconvert_exporter": "python",
   "pygments_lexer": "ipython3",
   "version": "3.8.10"
  },
  "orig_nbformat": 4,
  "vscode": {
   "interpreter": {
    "hash": "916dbcbb3f70747c44a77c7bcd40155683ae19c65e1c03b4aa3499c5328201f1"
   }
  }
 },
 "nbformat": 4,
 "nbformat_minor": 2
}

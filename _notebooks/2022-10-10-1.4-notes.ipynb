{
 "cells": [
  {
   "cell_type": "markdown",
   "metadata": {},
   "source": [
    "# 1.4 Identifying and Correcting Errors\n",
    "> Notes on topic 1.4\n",
    "\n",
    "- toc: true\n",
    "- image: /images/errorquizresults.png\n",
    "- layout: default\n",
    "- categories: [jupyter] \n",
    "- tags: [python]"
   ]
  },
  {
   "cell_type": "markdown",
   "metadata": {},
   "source": [
    "## Daily Video 1\n",
    "> Learning Objectives:\n",
    "> - For errors in an algorithm or program, **identify the error**\n",
    "\n",
    "- Errors are part of the programming progress\n",
    "- Identify one of four errors: \n",
    "    - **Logic error**\n",
    "        - Mistake in the algorithm or program that causes it to behave incorrectly or unexpectedly\n",
    "    - **Syntax error** \n",
    "        - Mistake in the program where the rules of the programming language are not followed\n",
    "        - Causes the program to fail to run/compile\n",
    "        - Common examples of this are forgetting to include: colon/semicolon, parenthesis, curly brackets, indentation, quotes, variable definition\n",
    "    - **Run-time error** \n",
    "        - Mistake in the program that occurs during the execution of a program\n",
    "        - Programming languages define their own runtime errors\n",
    "        - AKA \"bug\"\n",
    "        - The key to identifying a run-time error is that the program runs/compiles initially, but fails and cannot complete its processes\n",
    "        - A run-time error may result from: dividing by zero, inappropriately entered data type, many other advanced possibilities\n",
    "    - **Overflow error**\n",
    "        - Error that occurs when a computer attempts to handle a number that is outside of the defined range of values\n",
    "        - Due to memory allocation constraints that programming languages require, certain values are too big to calculate and/or display\n",
    "\n",
    "## Daily Video 2\n",
    "> Learning Objectives:\n",
    "> - For errors in an algorithm or program, **correct the error**\n",
    "\n",
    "- Ways to find and correct errors: \n",
    "    - test cases\n",
    "    - hand tracing\n",
    "    - visualizations\n",
    "    - debuggers\n",
    "    - adding extra output statement\n",
    "- The easiest error to correct is usually the syntax error\n",
    "    - Most integrated development environments (IDEs) display information when there is a syntax error\n",
    "    - This information usually directs the programmer to the line in the program where the error has occurred\n",
    "    - Sometimes the user needs to do a little digging to find the error \n",
    "- More difficult to find and correct are logic errors\n",
    "    - A logic error is not always immediately noticed\n",
    "    - Using multiple test cases is the first strategy programmers use to find logic errors\n",
    "- Hand-tracing is most useful with iteration (loops)\n",
    "    - Hand tracing is simply writing out the values of the variables within the loop as it iterates to determine if the outcome is correct\n",
    "    - Hand tracing can be useful for small code segments and loops that iterate a small number of times\n",
    "    - Larger code segments or loops might require a debugging program\n",
    "- Another strategy is adding extra output statements\n",
    "    - A programmer would use this strategy to help find and fix an error\n",
    "    - Once the error is corrected, the extra output statements are usually removed\n",
    "    - This has a similar effect as hand tracing, but allows the computer to do more of the work\n",
    "- If those strategies fail\n",
    "    - Some IDEs allow programmers to use visualizations and/or debuggers \n",
    "        - Visualiztions show graphs, images, color etc. that help determine if a program is working correctly\n",
    "        - Debuggers use software designed to run a program, allowing it to be paused and tested iin the midst of running to determine if it is working properly\n",
    "\n",
    "## Daily Video 3\n",
    "> Learning Objectives:\n",
    "> - Identify inputs and corresponding expected outputs or behaviors that can be used to check the correctness of an algorithm or program\n",
    "\n",
    "- Start thinking about testing at the onset of development\n",
    "- In the development process, testing uses defined inputs to ensure that an algorithm or program is producing the expected outcomes\n",
    "- Specifications influence testing\n",
    "    - Specifications list behaviors, events, corresponding responses/outputs the program supports\n",
    "    - Programmers need to define inputs that will determine whether or not the program specifications are met\n",
    "- Testing program development\n",
    "    - Once the inputs and corresponding outputs are determined, programmers test\n",
    "    - After testing, programmers use the results the revise, refine, and improve their programs.\n",
    "    - And then they test them again and again.\n",
    "    - After the programmers test, then users test, and then the programmers refine even more\n",
    "    - And finally, the program is released\n",
    "\n",
    "## Identifying and Correcting Errors Quiz\n",
    "![]({{ site.baseurl }}/images/errorquizresults.png)\n",
    "\n",
    "## Challenge "
   ]
  },
  {
   "cell_type": "code",
   "execution_count": 1,
   "metadata": {},
   "outputs": [
    {
     "name": "stdout",
     "output_type": "stream",
     "text": [
      "Menu\n",
      "burger $3.99\n",
      "fries $1.99\n",
      "drink $0.99\n",
      "3.99\n"
     ]
    }
   ],
   "source": [
    "menu =  {\"burger\": 3.99,\n",
    "         \"fries\": 1.99,\n",
    "         \"drink\": 0.99}\n",
    "total = 0\n",
    "\n",
    "#shows the user the menu and prompts them to select an item\n",
    "print(\"Menu\")\n",
    "for k,v in menu.items():\n",
    "    print(k + \" $\" + str(v)) #why does v have \"str\" in front of it?\n",
    "\n",
    "#ideally the code should prompt the user multiple times\n",
    "item = input(\"Please select an item from the menu\")\n",
    "\n",
    "total = menu[item] #Here is the added code to make this program function! This defines the total when an item is selected.\n",
    "\n",
    "#code should add the price of the menu items selected by the user \n",
    "print(total)"
   ]
  },
  {
   "cell_type": "markdown",
   "metadata": {},
   "source": [
    "## Hacks\n",
    "- What errors may arise in your project?\n",
    "    - There are some guaranteed some coding issues, as most members of our group are completely new to coding and programming. This means there will probably a lot of logic and syntax errors. \n",
    "- What are some test cases that can be used?\n",
    "    - I plan to use as many test cases as I can to make the project run as smoothly as possible. This includes using functionability, performance, database test cases, etc. "
   ]
  }
 ],
 "metadata": {
  "kernelspec": {
   "display_name": "Python 3.8.10 64-bit",
   "language": "python",
   "name": "python3"
  },
  "language_info": {
   "codemirror_mode": {
    "name": "ipython",
    "version": 3
   },
   "file_extension": ".py",
   "mimetype": "text/x-python",
   "name": "python",
   "nbconvert_exporter": "python",
   "pygments_lexer": "ipython3",
   "version": "3.8.10"
  },
  "orig_nbformat": 4,
  "vscode": {
   "interpreter": {
    "hash": "916dbcbb3f70747c44a77c7bcd40155683ae19c65e1c03b4aa3499c5328201f1"
   }
  }
 },
 "nbformat": 4,
 "nbformat_minor": 2
}

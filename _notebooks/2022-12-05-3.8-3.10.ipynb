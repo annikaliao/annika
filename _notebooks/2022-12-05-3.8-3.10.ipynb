{
 "cells": [
  {
   "cell_type": "markdown",
   "metadata": {},
   "source": [
    "# Lesson 3.8 and 3.10\n",
    "> Notes, questions, and hacks\n",
    "\n",
    "- toc: true \n",
    "- badges: true\n",
    "- comments: false\n",
    "- categories: [jupyter]"
   ]
  },
  {
   "cell_type": "markdown",
   "metadata": {},
   "source": [
    "## Notes\n",
    "- Iteration: a repeating portion of an algorithm, repeats a specified number of times or until a given condition is met\n",
    "- Iteration Statements: change the sequential flow of control by repeating a set of statements zero or more times, until a stopping condition is met\n",
    "- Repeat Until: if the condition evaluates to true initially, the loop body is not executed at all, due to the condition being checked before the loop\n",
    "- Range function: use variable to represent what the range of numbers the output can show. Use with for loop\n",
    "    - when using the range function, the last number, or the ending value, is not included in the output, therefore we would have to add 1 to receive the correct output\n",
    "- For loop: process stops if next element meets statement\n",
    "- While loop: process is repeated until statement is met\n",
    "- In lists: \n",
    "    - append(): adding element to the end of the list\n",
    "    - insert(): adding an element in a specific position\n",
    "    - remove(): remove an item from a list\n",
    "    - len(): returns number of items in a list\n",
    "    - sort(): permanently changes order of list \n",
    "    - sorted(): returns copy of list, leaving original copy unchanged\n",
    "    - range(): range of number able to use, makes working with numbers more efficient\n",
    "    - min(): find the least value in a list\n",
    "    - max(): find highest value in a list\n",
    "    - sum(): sum of all values in a list\n",
    "- Traversing a list is process of visiting each element in a list in a sequential order. Used to access, search for, and modify elements in the list\n",
    "    - Complete Traversal: All elements in a list are assessed \n",
    "    - Partial Traversal: Only a given portion of elements are assessed\n",
    "    - Iterative Traversal: When loops are used to iterate through a list and to access each single element at a time.\n"
   ]
  },
  {
   "cell_type": "code",
   "execution_count": null,
   "metadata": {},
   "outputs": [],
   "source": []
  },
  {
   "cell_type": "markdown",
   "metadata": {},
   "source": [
    "## Hacks \n",
    "\n",
    "### Section 3.8.1\n",
    "Iteration: part of an algorithm that is repeated until a certain condition is met\n",
    "\n",
    "1. "
   ]
  },
  {
   "cell_type": "code",
   "execution_count": null,
   "metadata": {},
   "outputs": [],
   "source": []
  }
 ],
 "metadata": {
  "kernelspec": {
   "display_name": "Python 3.8.10 64-bit",
   "language": "python",
   "name": "python3"
  },
  "language_info": {
   "name": "python",
   "version": "3.8.10"
  },
  "orig_nbformat": 4,
  "vscode": {
   "interpreter": {
    "hash": "916dbcbb3f70747c44a77c7bcd40155683ae19c65e1c03b4aa3499c5328201f1"
   }
  }
 },
 "nbformat": 4,
 "nbformat_minor": 2
}

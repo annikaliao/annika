{
 "cells": [
  {
   "attachments": {},
   "cell_type": "markdown",
   "metadata": {},
   "source": [
    "# Imperative Programming for Databases\n",
    "> Application to CPT project, creating CRUD functions with SQL commands\n",
    "\n",
    "- toc: true \n",
    "- badges: true\n",
    "- comments: false\n",
    "- categories: [jupyter, week26]"
   ]
  },
  {
   "attachments": {},
   "cell_type": "markdown",
   "metadata": {},
   "source": [
    "## Imports and Flask Objects"
   ]
  },
  {
   "cell_type": "code",
   "execution_count": 120,
   "metadata": {},
   "outputs": [],
   "source": [
    "\"\"\"\n",
    "These imports define the key objects\n",
    "\"\"\"\n",
    "\n",
    "from flask import Flask\n",
    "from flask_sqlalchemy import SQLAlchemy\n",
    "\n",
    "\"\"\"\n",
    "These object and definitions are used throughout the Jupyter Notebook.\n",
    "\"\"\"\n",
    "\n",
    "# Setup of key Flask object (app)\n",
    "app = Flask(__name__) \n",
    "# Setup SQLAlchemy object and properties for the database (db)\n",
    "data = 'sqlite:///sqlite.db'  # path and filename of database\n",
    "app.config['SQLALCHEMY_TRACK_MODIFICATIONS'] = False\n",
    "app.config['SQLALCHEMY_DATABASE_URI'] = data\n",
    "app.config['SECRET_KEY'] = 'SECRET_KEY'\n",
    "db = SQLAlchemy() #SQLAlchemy object called here\n",
    "\n",
    "\n",
    "# This belongs in place where it runs once per project\n",
    "db.init_app(app) # app object called here"
   ]
  },
  {
   "attachments": {},
   "cell_type": "markdown",
   "metadata": {},
   "source": [
    "## Database Model"
   ]
  },
  {
   "cell_type": "code",
   "execution_count": 121,
   "metadata": {},
   "outputs": [],
   "source": [
    "\"\"\" database dependencies to support sqlite examples \"\"\"\n",
    "import datetime\n",
    "from datetime import datetime\n",
    "import json\n",
    "\n",
    "from sqlalchemy.exc import IntegrityError\n",
    "from werkzeug.security import generate_password_hash, check_password_hash\n",
    "\n",
    "\n",
    "''' Tutorial: https://www.sqlalchemy.org/library.html#tutorials, try to get into a Python shell and follow along '''\n",
    "\n",
    "# Define the User class to manage actions in the 'users' table\n",
    "# -- Object Relational Mapping (ORM) is the key concept of SQLAlchemy\n",
    "# -- a.) db.Model is like an inner layer of the onion in ORM\n",
    "# -- b.) User represents data we want to store, something that is built on db.Model\n",
    "# -- c.) SQLAlchemy ORM is layer on top of SQLAlchemy Core, then SQLAlchemy engine, SQL\n",
    "class Period(db.Model): \n",
    "# -- class User defining the template for users, used to create Objects\n",
    "# -- db.Model is inheritance. Allows class Uers to use database attributes and methods.\n",
    "    __tablename__ = 'periods'  # table name is plural, class name is singular\n",
    "    __table_args__ = {'extend_existing': True}\n",
    "    # Define the User schema with \"vars\" from object\n",
    "    id = db.Column(db.Integer, primary_key=True)\n",
    "    _name = db.Column(db.String(255), unique=True, nullable=False)\n",
    "    _periodlength = db.Column(db.Integer, unique=False, nullable=False)\n",
    "    _cyclelength = db.Column(db.Integer, unique=False, nullable=False)\n",
    "    _perioddate = db.Column(db.Date)\n",
    "\n",
    "    # constructor of a User object, initializes the instance variables within object (self)\n",
    "    def __init__(self, name, periodlength, cyclelength, perioddate=datetime.today()): # -- \"constructor\". init method allows us to initialize an object from our User class\n",
    "        self._name = name    # variables with self prefix become part of the object, \n",
    "        self._periodlength = periodlength\n",
    "        self._cyclelength = cyclelength\n",
    "        if isinstance(perioddate, str):  # not a date type     \n",
    "            perioddate = date=datetime.today()\n",
    "        self._perioddate = perioddate\n",
    "\n",
    "    # a name getter method, extracts name from object, allows properties to be accessed like attributes of the object\n",
    "    @property\n",
    "    def name(self):\n",
    "        return self._name\n",
    "    \n",
    "    # a setter function, allows name to be updated after initial object creation\n",
    "    @name.setter\n",
    "    def name(self, name):\n",
    "        self._name = name\n",
    "    \n",
    "    # a getter method, extracts email from object\n",
    "    @property\n",
    "    def periodlength(self):\n",
    "        return self._periodlength\n",
    "    \n",
    "    # a setter function, allows name to be updated after initial object creation\n",
    "    @periodlength.setter\n",
    "    def periodlength(self, periodlength):\n",
    "        self._periodlength = periodlength\n",
    "        \n",
    "    # check if uid parameter matches user id in object, return boolean\n",
    "    def is_name(self, name):\n",
    "        return self._name == name\n",
    "    \n",
    "    @property\n",
    "    def cyclelength(self):\n",
    "        return self._cyclelength\n",
    "    \n",
    "    # a setter function, allows name to be updated after initial object creation\n",
    "    @cyclelength.setter\n",
    "    def cyclelength(self, cyclelength):\n",
    "        self._cyclelength = cyclelength\n",
    "    \n",
    "    # dob property is returned as string, to avoid unfriendly outcomes\n",
    "    @property\n",
    "    def perioddate(self):\n",
    "        perioddate_string = self._perioddate.strftime('%m-%d-%Y')\n",
    "        return perioddate_string\n",
    "    \n",
    "    # dob should be have verification for type date\n",
    "    @perioddate.setter\n",
    "    def perioddate(self, perioddate):\n",
    "        if isinstance(perioddate, str):  # not a date type     \n",
    "            perioddate = date=datetime.today()\n",
    "        self._perioddate = perioddate\n",
    "    \n",
    "    # output content using str(object) in human readable form, uses getter\n",
    "    # output content using json dumps, this is ready for API response\n",
    "    def __str__(self):\n",
    "        return json.dumps(self.read())\n",
    "    \n",
    "    def create(self):\n",
    "        try:\n",
    "            # creates a person object from User(db.Model) class, passes initializers\n",
    "            db.session.add(self)  # add prepares to persist person object to Users table\n",
    "            db.session.commit()  # SqlAlchemy \"unit of work pattern\" requires a manual commit\n",
    "            return self\n",
    "        except IntegrityError:\n",
    "            db.session.remove()\n",
    "            return None\n",
    "\n",
    "    # CRUD read converts self to dictionary\n",
    "    # returns dictionary\n",
    "    def read(self):\n",
    "        return {\n",
    "            \"id\": self.id,\n",
    "            \"name\": self.name,\n",
    "            \"periodlength\": self.periodlength,\n",
    "            \"perioddate\": self.perioddate,\n",
    "        }\n",
    "\n",
    "    # CRUD update: updates user name, password, phone\n",
    "    # returns self\n",
    "    def update(self, name=\"\", periodlength=\"\", cyclelength=\"\", perioddate=\"\",):\n",
    "        \"\"\"only updates values with length\"\"\"\n",
    "        if len(name) > 0:\n",
    "            self.name = name\n",
    "        if len(periodlength) > 0:\n",
    "            self.periodlength = periodlength\n",
    "        if len(cyclelength) > 0:\n",
    "            self.cyclelength = cyclelength\n",
    "        if len(perioddate) > 0:\n",
    "            self.cyclelength = perioddate\n",
    "        db.session.commit()\n",
    "        return self\n",
    "\n",
    "    # CRUD delete: remove self\n",
    "    # None\n",
    "    def delete(self):\n",
    "        db.session.delete(self)\n",
    "        db.session.commit()\n",
    "        return None"
   ]
  },
  {
   "attachments": {},
   "cell_type": "markdown",
   "metadata": {},
   "source": [
    "## Inital Data"
   ]
  },
  {
   "cell_type": "code",
   "execution_count": 107,
   "metadata": {},
   "outputs": [
    {
     "name": "stdout",
     "output_type": "stream",
     "text": [
      "Records exist uid Annika Liao, or error.\n",
      "Records exist uid Claire Chen, or error.\n",
      "Records exist uid Claire Zhao, or error.\n",
      "Records exist uid Grace Wang, or error.\n",
      "Records exist uid Emma Shen, or error.\n"
     ]
    }
   ],
   "source": [
    "\"\"\"Database Creation and Testing \"\"\"\n",
    "\n",
    "\n",
    "# Builds working data for testing\n",
    "def initPeriods():\n",
    "    with app.app_context():\n",
    "        \"\"\"Create database and tables\"\"\"\n",
    "        db.create_all() # this line creates the tables in the database, to allow data to be added\n",
    "        \"\"\"Tester data for table\"\"\"\n",
    "        u1 = Period(name='Annika Liao', periodlength=6, cyclelength=28, perioddate=datetime(2023, 3, 10)) \n",
    "        u2 = Period(name='Claire Chen', periodlength=5, cyclelength=40, perioddate=datetime(2023, 2, 12)) \n",
    "        u3 = Period(name='Claire Zhao', periodlength=4, cyclelength=31, perioddate=datetime(2023, 3, 17)) \n",
    "        u4 = Period(name='Grace Wang', periodlength=7, cyclelength=35, perioddate=datetime(2023, 3, 1)) \n",
    "        u5 = Period(name='Emma Shen', periodlength=6, cyclelength=24, perioddate=datetime(2023, 2, 27)) \n",
    "        # user object is user in database. It takes the 4 arguments of name, uid, password, and dob.\n",
    "\n",
    "        periods = [u1, u2, u3, u4, u5]\n",
    "\n",
    "        \"\"\"Builds sample user/note(s) data\"\"\"\n",
    "        for period in periods:\n",
    "            try:\n",
    "                '''add user to table'''\n",
    "                object = period.create()\n",
    "                print(f\"Created new uid {object.name}\") # try block is creation of user in database. If successful,this message will print.\n",
    "            except:  # error raised if object nit created\n",
    "                '''fails with bad or duplicate data'''\n",
    "                print(f\"Records exist uid {period.name}, or error.\") #if try block fails, except block is executed, and this message will print.\n",
    "        \n",
    "                \n",
    "initPeriods()\n",
    "            "
   ]
  },
  {
   "attachments": {},
   "cell_type": "markdown",
   "metadata": {},
   "source": [
    "## Schema of Periods table"
   ]
  },
  {
   "cell_type": "code",
   "execution_count": 108,
   "metadata": {},
   "outputs": [
    {
     "name": "stdout",
     "output_type": "stream",
     "text": [
      "(0, 'id', 'INTEGER', 1, None, 1)\n",
      "(1, '_name', 'VARCHAR(255)', 1, None, 0)\n",
      "(2, '_periodlength', 'INTEGER', 1, None, 0)\n",
      "(3, '_cyclelength', 'INTEGER', 1, None, 0)\n",
      "(4, '_perioddate', 'DATE', 0, None, 0)\n"
     ]
    }
   ],
   "source": [
    "import sqlite3\n",
    "\n",
    "database = 'instance/sqlite.db' # this is location of database\n",
    "\n",
    "def schema():\n",
    "    \n",
    "    # Connect to the database file\n",
    "    conn = sqlite3.connect(database)\n",
    "\n",
    "    # Create a cursor object to execute SQL queries\n",
    "    cursor = conn.cursor()\n",
    "    \n",
    "    # Fetch results of Schema\n",
    "    results = cursor.execute(\"PRAGMA table_info('periods')\").fetchall()\n",
    "\n",
    "    # Print the results\n",
    "    for row in results:\n",
    "        print(row)\n",
    "\n",
    "    # Close the database connection\n",
    "    conn.close()\n",
    "    \n",
    "schema()\n",
    "# metadata for database"
   ]
  },
  {
   "attachments": {},
   "cell_type": "markdown",
   "metadata": {},
   "source": [
    "I use the data types of integer, varchar, and date in my SQL table"
   ]
  },
  {
   "cell_type": "code",
   "execution_count": 114,
   "metadata": {},
   "outputs": [],
   "source": [
    "# SQLAlchemy extracts single user from database matching User ID\n",
    "def find_by_name(name):\n",
    "    with app.app_context():\n",
    "        user = Period.query.filter_by(_name=name).first() # this method constructs a query that retrieves all users in the database where _uid matches their uid\n",
    "    return user # returns user object"
   ]
  },
  {
   "attachments": {},
   "cell_type": "markdown",
   "metadata": {},
   "source": [
    "## CRUD Operations\n",
    "\n",
    "### Read"
   ]
  },
  {
   "cell_type": "code",
   "execution_count": 113,
   "metadata": {},
   "outputs": [
    {
     "name": "stdout",
     "output_type": "stream",
     "text": [
      "(2, 'Annika Liao', 8, 28, '2023-03-10')\n",
      "(3, 'Claire Chen', 5, 40, '2023-02-12')\n",
      "(4, 'Claire Zhao', 4, 31, '2023-03-17')\n",
      "(5, 'Grace Wang', 7, 35, '2023-03-01')\n",
      "(6, 'Emma Shen', 6, 24, '2023-02-27')\n",
      "(7, 'John Mortensen', 0, 0, '0000-00-00')\n"
     ]
    }
   ],
   "source": [
    "import sqlite3\n",
    "\n",
    "def read():\n",
    "    # Connect to the database file\n",
    "    conn = sqlite3.connect(database)\n",
    "\n",
    "    # Create a cursor object to execute SQL queries\n",
    "    cursor = conn.cursor()\n",
    "    \n",
    "    # Execute a SELECT statement to retrieve data from a table\n",
    "    results = cursor.execute('SELECT * FROM periods').fetchall()\n",
    "\n",
    "    # Print the results\n",
    "    if len(results) == 0:\n",
    "        print(\"Table is empty\")\n",
    "    else:\n",
    "        for row in results:\n",
    "            print(row)\n",
    "\n",
    "    # Close the cursor and connection objects\n",
    "    cursor.close()\n",
    "    conn.close()\n",
    "    \n",
    "read()\n"
   ]
  },
  {
   "attachments": {},
   "cell_type": "markdown",
   "metadata": {},
   "source": [
    "### Create"
   ]
  },
  {
   "cell_type": "code",
   "execution_count": 101,
   "metadata": {},
   "outputs": [
    {
     "name": "stdout",
     "output_type": "stream",
     "text": [
      "A new record John Mortensen has been created\n"
     ]
    }
   ],
   "source": [
    "import sqlite3\n",
    "\n",
    "def create():\n",
    "    name = input(\"Enter your name:\")\n",
    "    periodlength = input(\"Enter your last period length:\")\n",
    "    cyclelength = input(\"Enter your usual menstrual cycle length\")\n",
    "    perioddate = input(\"Enter the date of your last period 'YYYY-MM-DD'\")\n",
    "    \n",
    "    # Connect to the database file\n",
    "    conn = sqlite3.connect(database)\n",
    "\n",
    "    # Create a cursor object to execute SQL commands\n",
    "    cursor = conn.cursor()\n",
    "\n",
    "    try:\n",
    "        # Execute an SQL command to insert data into a table\n",
    "        cursor.execute(\"INSERT INTO periods (_name, _periodlength, _cyclelength, _perioddate) VALUES (?, ?, ?, ?)\", (name, periodlength, cyclelength, perioddate))\n",
    "        \n",
    "        # Commit the changes to the database\n",
    "        conn.commit()\n",
    "        print(f\"A new record {name} has been created\")\n",
    "                \n",
    "    except sqlite3.Error as error:\n",
    "        print(\"Error while executing the INSERT:\", error)\n",
    "\n",
    "\n",
    "    # Close the cursor and connection objects\n",
    "    cursor.close()\n",
    "    conn.close()\n",
    "    \n",
    "create()"
   ]
  },
  {
   "attachments": {},
   "cell_type": "markdown",
   "metadata": {},
   "source": [
    "### Update"
   ]
  },
  {
   "cell_type": "code",
   "execution_count": 110,
   "metadata": {},
   "outputs": [
    {
     "name": "stdout",
     "output_type": "stream",
     "text": [
      "Current user information:\n",
      "{'id': 2, 'name': 'Annika Liao', 'periodlength': 6, 'perioddate': '03-10-2023'}\n",
      "The row with name Annika Liao has been updated, period length changed to 8\n"
     ]
    }
   ],
   "source": [
    "import sqlite3\n",
    "\n",
    "def update():\n",
    "    name = input(\"Enter your name to update records\")\n",
    "    user = find_by_name(name)\n",
    "\n",
    "    if user is None:\n",
    "        print(f\"No user found with name {name}\")\n",
    "        return\n",
    "    \n",
    "    print(\"Current user information:\")\n",
    "    print(user.read())\n",
    "\n",
    "    periodlength = input(\"Enter latest period length\")\n",
    "    if periodlength:\n",
    "        user.periodlength = periodlength\n",
    "\n",
    "    # Connect to the database file\n",
    "    conn = sqlite3.connect(database)\n",
    "\n",
    "    # Create a cursor object to execute SQL commands\n",
    "    cursor = conn.cursor()\n",
    "\n",
    "    try:\n",
    "        # Execute an SQL command to update data in a table\n",
    "        cursor.execute(\"UPDATE periods SET _periodlength = ? WHERE _name = ?\", (periodlength, name))\n",
    "        if cursor.rowcount == 0:\n",
    "            # The uid was not found in the table\n",
    "            print(f\"No name {name} was found in the table\")\n",
    "        else:\n",
    "            print(f\"The row with name {name} has been updated, period length changed to {periodlength}\")\n",
    "            conn.commit()\n",
    "    except sqlite3.Error as error:\n",
    "        print(\"Error while executing the UPDATE:\", error)\n",
    "        \n",
    "    \n",
    "    # Close the cursor and connection objects\n",
    "    cursor.close()\n",
    "    conn.close()\n",
    "    \n",
    "update()\n"
   ]
  },
  {
   "attachments": {},
   "cell_type": "markdown",
   "metadata": {},
   "source": [
    "### Delete"
   ]
  },
  {
   "cell_type": "code",
   "execution_count": 111,
   "metadata": {},
   "outputs": [
    {
     "name": "stdout",
     "output_type": "stream",
     "text": [
      "The record of name  was successfully deleted\n"
     ]
    }
   ],
   "source": [
    "import sqlite3\n",
    "\n",
    "def delete():\n",
    "    name = input(\"Enter name to delete\")\n",
    "\n",
    "    # Connect to the database file\n",
    "    conn = sqlite3.connect(database)\n",
    "\n",
    "    # Create a cursor object to execute SQL commands\n",
    "    cursor = conn.cursor()\n",
    "    \n",
    "    try:\n",
    "        cursor.execute(\"DELETE FROM periods WHERE _name = ?\", (name,))\n",
    "        if cursor.rowcount == 0:\n",
    "            # The uid was not found in the table\n",
    "            print(f\"Name {name} was not found in the table\")\n",
    "        else:\n",
    "            # The uid was found in the table and the row was deleted\n",
    "            print(f\"The record of name {name} was successfully deleted\")\n",
    "        conn.commit()\n",
    "    except sqlite3.Error as error:\n",
    "        print(\"Error while executing the DELETE:\", error)\n",
    "        \n",
    "    # Close the cursor and connection objects\n",
    "    cursor.close()\n",
    "    conn.close()\n",
    "    \n",
    "delete()"
   ]
  },
  {
   "attachments": {},
   "cell_type": "markdown",
   "metadata": {},
   "source": [
    "### Menu of all operations"
   ]
  },
  {
   "cell_type": "code",
   "execution_count": 124,
   "metadata": {},
   "outputs": [
    {
     "name": "stdout",
     "output_type": "stream",
     "text": [
      "(2, 'Annika Liao', 8, 28, '2023-03-10')\n",
      "(3, 'Claire Chen', 5, 40, '2023-02-12')\n",
      "(4, 'Claire Zhao', 4, 31, '2023-03-17')\n",
      "(5, 'Grace Wang', 7, 35, '2023-03-01')\n",
      "(6, 'Emma Shen', 6, 24, '2023-02-27')\n",
      "(7, 'John Mortensen', 0, 0, '0000-00-00')\n",
      "A new record Olivia Newton-John has been created\n",
      "(2, 'Annika Liao', 8, 28, '2023-03-10')\n",
      "(3, 'Claire Chen', 5, 40, '2023-02-12')\n",
      "(4, 'Claire Zhao', 4, 31, '2023-03-17')\n",
      "(5, 'Grace Wang', 7, 35, '2023-03-01')\n",
      "(6, 'Emma Shen', 6, 24, '2023-02-27')\n",
      "(7, 'John Mortensen', 0, 0, '0000-00-00')\n",
      "(8, 'Olivia Newton-John', 5, 30, '2000-05-18')\n",
      "The record of name John Mortensen was successfully deleted\n",
      "(2, 'Annika Liao', 8, 28, '2023-03-10')\n",
      "(3, 'Claire Chen', 5, 40, '2023-02-12')\n",
      "(4, 'Claire Zhao', 4, 31, '2023-03-17')\n",
      "(5, 'Grace Wang', 7, 35, '2023-03-01')\n",
      "(6, 'Emma Shen', 6, 24, '2023-02-27')\n",
      "(8, 'Olivia Newton-John', 5, 30, '2000-05-18')\n",
      "(2, 'Annika Liao', 8, 28, '2023-03-10')\n",
      "(3, 'Claire Chen', 5, 40, '2023-02-12')\n",
      "(4, 'Claire Zhao', 4, 31, '2023-03-17')\n",
      "(5, 'Grace Wang', 7, 35, '2023-03-01')\n",
      "(6, 'Emma Shen', 6, 24, '2023-02-27')\n",
      "(8, 'Olivia Newton-John', 5, 30, '2000-05-18')\n",
      "No user found with name Olivia Newton\n",
      "Current user information:\n",
      "{'id': 8, 'name': 'Olivia Newton-John', 'periodlength': 5, 'perioddate': '05-18-2000'}\n",
      "The row with name Olivia Newton-John has been updated, period length changed to \n",
      "Current user information:\n",
      "{'id': 8, 'name': 'Olivia Newton-John', 'periodlength': '', 'perioddate': '05-18-2000'}\n",
      "The row with name Olivia Newton-John has been updated, period length changed to 10\n",
      "(2, 'Annika Liao', 8, 28, '2023-03-10')\n",
      "(3, 'Claire Chen', 5, 40, '2023-02-12')\n",
      "(4, 'Claire Zhao', 4, 31, '2023-03-17')\n",
      "(5, 'Grace Wang', 7, 35, '2023-03-01')\n",
      "(6, 'Emma Shen', 6, 24, '2023-02-27')\n",
      "(8, 'Olivia Newton-John', 10, 30, '2000-05-18')\n",
      "(2, 'Annika Liao', 8, 28, '2023-03-10')\n",
      "(3, 'Claire Chen', 5, 40, '2023-02-12')\n",
      "(4, 'Claire Zhao', 4, 31, '2023-03-17')\n",
      "(5, 'Grace Wang', 7, 35, '2023-03-01')\n",
      "(6, 'Emma Shen', 6, 24, '2023-02-27')\n",
      "(8, 'Olivia Newton-John', 10, 30, '2000-05-18')\n",
      "Current user information:\n",
      "{'id': 8, 'name': 'Olivia Newton-John', 'periodlength': 10, 'perioddate': '05-18-2000'}\n",
      "The row with name Olivia Newton-John has been updated, period length changed to 10\n",
      "(2, 'Annika Liao', 8, 28, '2023-03-10')\n",
      "(3, 'Claire Chen', 5, 40, '2023-02-12')\n",
      "(4, 'Claire Zhao', 4, 31, '2023-03-17')\n",
      "(5, 'Grace Wang', 7, 35, '2023-03-01')\n",
      "(6, 'Emma Shen', 6, 24, '2023-02-27')\n",
      "(8, 'Olivia Newton-John', 10, 30, '2000-05-18')\n",
      "No user found with name \n"
     ]
    }
   ],
   "source": [
    "# Menu, to run other cells from one control point\n",
    "def menu():\n",
    "    operation = input(\"Enter: (C)reate (R)ead (U)pdate or (D)elete or (S)chema\")\n",
    "    if operation.lower() == 'c':\n",
    "        create()\n",
    "    elif operation.lower() == 'r':\n",
    "        read()\n",
    "    elif operation.lower() == 'u':\n",
    "        update()\n",
    "    elif operation.lower() == 'd':\n",
    "        delete()\n",
    "    elif operation.lower() == 's':\n",
    "        schema()\n",
    "    elif len(operation)==0: # Escape Key\n",
    "        return\n",
    "    else:\n",
    "        print(\"Please enter c, r, u, or d\") \n",
    "    menu() # recursion, repeat menu\n",
    "        \n",
    "try:\n",
    "    menu() # start menu\n",
    "except:\n",
    "    print(\"Perform Jupyter 'Run All' prior to starting menu\")\n"
   ]
  }
 ],
 "metadata": {
  "kernelspec": {
   "display_name": "base",
   "language": "python",
   "name": "python3"
  },
  "language_info": {
   "codemirror_mode": {
    "name": "ipython",
    "version": 3
   },
   "file_extension": ".py",
   "mimetype": "text/x-python",
   "name": "python",
   "nbconvert_exporter": "python",
   "pygments_lexer": "ipython3",
   "version": "3.9.12"
  },
  "orig_nbformat": 4
 },
 "nbformat": 4,
 "nbformat_minor": 2
}

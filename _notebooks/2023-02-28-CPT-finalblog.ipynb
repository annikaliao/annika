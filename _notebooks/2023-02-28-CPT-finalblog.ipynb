{
 "cells": [
  {
   "attachments": {},
   "cell_type": "markdown",
   "metadata": {},
   "source": [
    "# CPT Project Guide\n",
    "> How my feature followed the College Board requirements for the CPT\n",
    "\n",
    "- toc: true \n",
    "- badges: true\n",
    "- comments: false\n",
    "- categories: [jupyter, week16]"
   ]
  },
  {
   "attachments": {},
   "cell_type": "markdown",
   "metadata": {},
   "source": [
    "## Row 1: Program Purpose and Function\n",
    "\n",
    "[Video](https://user-images.githubusercontent.com/111464916/221785103-567a7474-d7c9-4cff-a79a-386b4cec77ad.mp4)\n",
    "\n",
    "The purpose of the program is to provide a simple application with which women can track their periods, for health and education. \n",
    "\n",
    "As shown in the video, a user is able to input the day of their last period, how many days it lasted, and the length of their normal menstrual cycle. The program uses these values to calculate their next period, the date of which being the output. The program also logs all this information into a database, so the user is able to come back to the site and reference their last periods, to see if they're on track or not. "
   ]
  },
  {
   "attachments": {},
   "cell_type": "markdown",
   "metadata": {},
   "source": [
    "## Row 2: Data Abstraction"
   ]
  },
  {
   "cell_type": "code",
   "execution_count": null,
   "metadata": {
    "vscode": {
     "languageId": "javascript"
    }
   },
   "outputs": [],
   "source": [
    "function addData(){\n",
    "if(document.getElementById(\"lastperiod\").value&&document.getElementById(\"periodlength\").value&&document.getElementById(\"cyclelength\").value)\n",
    "    myData = {\"nextperiod\": document.getElementById(\"lastperiod\").value, \"periodlength\": document.getElementById(\"periodlength\").value, \"cyclelength\": document.getElementById(\"cyclelength\").value};"
   ]
  },
  {
   "cell_type": "code",
   "execution_count": null,
   "metadata": {
    "vscode": {
     "languageId": "javascript"
    }
   },
   "outputs": [],
   "source": [
    "create_user(document.getElementById(\"lastperiod\").value, document.getElementById(\"periodlength\").value, document.getElementById(\"cyclelength\").value);\n",
    "add_row(myData);\n",
    "}"
   ]
  },
  {
   "attachments": {},
   "cell_type": "markdown",
   "metadata": {},
   "source": [
    "The list is called \"myData\". The data contained in the list is grabbed from the user input and is sent, in the list, to another function that saves all of it in a database."
   ]
  },
  {
   "attachments": {},
   "cell_type": "markdown",
   "metadata": {},
   "source": [
    "## Row 3: Managing Complexity\n",
    "\n",
    "If the program were to run without \"myData\", the process of sending the user data to the backend would be much more tedious. I would have to get every element and put it in its own function call, resulting in three calls to the same function with different data that is to be stored together. By putting the values in a list, with only one function call, all three values are sent to the next function at once."
   ]
  },
  {
   "attachments": {},
   "cell_type": "markdown",
   "metadata": {},
   "source": [
    "## Row 4: Procedural Abstraction"
   ]
  },
  {
   "cell_type": "code",
   "execution_count": null,
   "metadata": {
    "vscode": {
     "languageId": "javascript"
    }
   },
   "outputs": [],
   "source": [
    "function printDate(x, y, z) {\n",
    "    // get user inputs\n",
    "    var x = document.getElementById(\"lastperiod\").value;\n",
    "    var y = document.getElementById(\"cyclelength\").value;\n",
    "    var z = document.getElementById(\"periodlength\").value;\n",
    "    // calculate date\n",
    "    var resDate = new Date(x);\n",
    "    resDate.setDate(resDate.getDate() + parseInt(y));\n",
    "    var year = resDate.getUTCFullYear();\n",
    "    var month = resDate.getUTCMonth() + 1;\n",
    "    var startdate = resDate.getUTCDate();\n",
    "    // print dates onto site\n",
    "    const periodstart = `${month}/${startdate}/${year}`;\n",
    "    document.getElementById(\"nextperiod\").innerHTML = periodstart\n",
    "    var enddate = resDate.getUTCDate() + parseInt(z);\n",
    "    const periodend = `${month}/${enddate}/${year}`\n",
    "    document.getElementById(\"nextperiodend\").innerHTML = periodend\n",
    "    // conditional for if period has unhealthy schedule\n",
    "    if(parseInt(z) <= 2) {\n",
    "      document.getElementById(\"unhealthy\").innerHTML = \"NOTICE: Your period is abnormally short. This may be a sign of some health concerns.   <a href=\\\"https://www.everydayhealth.com/pms/short-periods.aspx#:~:text=A%20short%20menstrual%20period%20might,even%20a%20serious%20medical%20problem.\\\">Learn More</a>\" ;\n",
    "    }\n",
    "  }"
   ]
  },
  {
   "cell_type": "code",
   "execution_count": null,
   "metadata": {
    "vscode": {
     "languageId": "html"
    }
   },
   "outputs": [],
   "source": [
    "<tr id=\"input\">\n",
    "    <td><input type=\"date\" id=\"lastperiod\" required></td>\n",
    "    <td><input type=\"number\" id=\"periodlength\" step=\"1\" min=\"1\" max=\"10\" placeholder=\"1-10\" required/></td>\n",
    "    <td><input type=\"number\" id=\"cyclelength\" step=\"1\" min=\"10\" max=\"50\" placeholder=\"10-50\" required/></td>\n",
    "  </tr>\n",
    "<tr>\n",
    "  <td></td>\n",
    "  <td>\n",
    "    <button class=\"track\" type=\"button\" onclick=\"printDate(); validate()\">\n",
    "      TRACK\n",
    "    </button>\n",
    "  </td>\n",
    "</tr>"
   ]
  },
  {
   "attachments": {},
   "cell_type": "markdown",
   "metadata": {},
   "source": [
    "The function, printDate(), calculates the output, aka the user's next period. It retrieves the user input, then runs it through calculations, to provide the output. This function is basically the whole functionality of the first part of my feature, as it directly retrieves input and directly provides output, without running through other functions. "
   ]
  },
  {
   "attachments": {},
   "cell_type": "markdown",
   "metadata": {},
   "source": [
    "## Row 5: Algorithm Implementation"
   ]
  },
  {
   "attachments": {},
   "cell_type": "markdown",
   "metadata": {},
   "source": [
    "printDate() retrieves the data from the user, then sets all of thes values as variables. The date variable "
   ]
  }
 ],
 "metadata": {
  "kernelspec": {
   "display_name": "Python 3",
   "language": "python",
   "name": "python3"
  },
  "language_info": {
   "name": "python",
   "version": "3.8.10"
  },
  "orig_nbformat": 4,
  "vscode": {
   "interpreter": {
    "hash": "916dbcbb3f70747c44a77c7bcd40155683ae19c65e1c03b4aa3499c5328201f1"
   }
  }
 },
 "nbformat": 4,
 "nbformat_minor": 2
}

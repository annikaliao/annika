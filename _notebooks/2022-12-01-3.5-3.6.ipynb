{
 "cells": [
  {
   "cell_type": "markdown",
   "metadata": {},
   "source": [
    "# Lesson 3.5-3.7\n",
    "> Notes, questions, and hacks\n",
    "\n",
    "- toc: true \n",
    "- badges: true\n",
    "- comments: false\n",
    "- categories: [jupyter]"
   ]
  },
  {
   "cell_type": "markdown",
   "metadata": {},
   "source": [
    "## Notes\n",
    "\n",
    "- Boolean is a denoting system of algebraic notation to represent logical propositions\n",
    "    - Booleans are only either true or false\n",
    "- Relational operators is the mathematical relationship between two variable\n",
    "    - Determines output by whether statement is true\n",
    "- Logical operators include: not, and, or\n",
    "- NOT displays opposite of data\n",
    "    - does not affect the variablre\n",
    "- AND evaluates two conditions together and determines if both conditions are met\n",
    "- OR allows function to run only if one of the conditions is met\n",
    "- Conditionals allow for the expression of algorithms that utilize selection without a programming language\n",
    "- Conditional Statement / If-Statement: A statement that affects the sequence of control by executing certain statements depending on the value of a boolean\n",
    "- Nested conditional statements consist of conditional statements within conditional statements\n",
    "    - i.e. An else if inside of another else if\n",
    "- The first if statement can represent if two coditions are true. The first else if can represent if only one or the other is true. The last else if represents if neither of the conditions are true"
   ]
  },
  {
   "cell_type": "markdown",
   "metadata": {},
   "source": [
    "## Hacks\n",
    "\n",
    "### Logical operators \n",
    "> Define and exemplify\n",
    "\n",
    "NOT: returns the opposite of the inputted value; true displays false, false displays true "
   ]
  },
  {
   "cell_type": "code",
   "execution_count": 10,
   "metadata": {},
   "outputs": [
    {
     "name": "stdout",
     "output_type": "stream",
     "text": [
      "It is cold:\n",
      "False\n"
     ]
    }
   ],
   "source": [
    "print(\"It is cold:\")\n",
    "\n",
    "isCold = True\n",
    "result = not(isCold)\n",
    "print(result)\n",
    "\n",
    "# as data, isCold is True, but prints as False because of  not() "
   ]
  },
  {
   "cell_type": "markdown",
   "metadata": {},
   "source": [
    "AND: returns true only if both conditions of the statement are met "
   ]
  },
  {
   "cell_type": "code",
   "execution_count": 29,
   "metadata": {},
   "outputs": [
    {
     "name": "stdout",
     "output_type": "stream",
     "text": [
      "Bad weather\n"
     ]
    }
   ],
   "source": [
    "temp = 58\n",
    "rain = True\n",
    "if temp <= 60 and rain == True:\n",
    "    print(\"Bad weather\")\n",
    "    \n",
    "# both of the conditions are met so the code runs. if only one condition was met, the code woud not run."
   ]
  },
  {
   "cell_type": "markdown",
   "metadata": {},
   "source": [
    "OR: returns true if at least one of the conditions are met"
   ]
  },
  {
   "cell_type": "code",
   "execution_count": 27,
   "metadata": {},
   "outputs": [
    {
     "name": "stdout",
     "output_type": "stream",
     "text": [
      "Bad weather\n"
     ]
    }
   ],
   "source": [
    "rainy = False\n",
    "cold = True\n",
    "if rainy == True or cold == True:\n",
    "    print(\"Bad weather\")\n",
    "\n",
    "# one of the conditions is met, so the code runs. if both conditions were met, the code would also run.\n"
   ]
  },
  {
   "cell_type": "markdown",
   "metadata": {},
   "source": [
    "### Conditionals\n",
    "> Definitions with examples\n",
    "\n",
    "Selection: the section of code only runs if a condition is met"
   ]
  },
  {
   "cell_type": "code",
   "execution_count": 26,
   "metadata": {},
   "outputs": [
    {
     "name": "stdout",
     "output_type": "stream",
     "text": [
      "good weather!\n"
     ]
    }
   ],
   "source": [
    "temp = 70\n",
    "\n",
    "if temp < 60:\n",
    "    print(\"brrr it's cold\")\n",
    "elif temp > 80:\n",
    "    print(\"whew it's hot\")\n",
    "else:\n",
    "    print(\"good weather!\")\n",
    "\n",
    "# code runs based on the condition that is met"
   ]
  },
  {
   "cell_type": "markdown",
   "metadata": {},
   "source": [
    "Algorithm: a set of steps that completes a task"
   ]
  },
  {
   "cell_type": "code",
   "execution_count": 31,
   "metadata": {},
   "outputs": [
    {
     "name": "stdout",
     "output_type": "stream",
     "text": [
      "12\n"
     ]
    }
   ],
   "source": [
    "x = 5\n",
    "y = x + 2\n",
    "result = x + y\n",
    "print(result)\n",
    "\n",
    "# steps are carried out in order for the code to print the result "
   ]
  },
  {
   "cell_type": "markdown",
   "metadata": {},
   "source": [
    "Conditional Statement / If-Statement: program executing depending on whether a condition is true or false"
   ]
  },
  {
   "cell_type": "code",
   "execution_count": 1,
   "metadata": {},
   "outputs": [
    {
     "name": "stdout",
     "output_type": "stream",
     "text": [
      "Condition is true\n"
     ]
    }
   ],
   "source": [
    "x = 30\n",
    "if x < 50:\n",
    "    print (\"Condition is true\")\n",
    "\n",
    "# code runs if condition is met"
   ]
  },
  {
   "cell_type": "markdown",
   "metadata": {},
   "source": [
    "### Nested Conditionals\n",
    "> Examples, flowcharts and their resulting code"
   ]
  },
  {
   "cell_type": "markdown",
   "metadata": {},
   "source": [
    "![](https://mail.google.com/mail/u/0?ui=2&ik=307c2bfad8&attid=0.1&permmsgid=msg-a:r-8607684232997899420&th=184dcde3bbf3830b&view=att&disp=safe&realattid=f_lb99vysp0)"
   ]
  },
  {
   "cell_type": "code",
   "execution_count": 23,
   "metadata": {},
   "outputs": [
    {
     "name": "stdout",
     "output_type": "stream",
     "text": [
      "Good weather! Go enjoy the day!\n"
     ]
    }
   ],
   "source": [
    "temp = 70\n",
    "\n",
    "if temp < 60:\n",
    "    print(\"Brrr it's cold, stay warm!\")\n",
    "else:\n",
    "    if temp > 80:\n",
    "        print(\"It's hot out, let's go to the beach!\")\n",
    "    else:\n",
    "        print(\"Good weather! Go enjoy the day!\")"
   ]
  },
  {
   "cell_type": "code",
   "execution_count": 19,
   "metadata": {},
   "outputs": [
    {
     "name": "stdout",
     "output_type": "stream",
     "text": [
      "The parking rate is as follows: \n",
      " Less than one hour: Free \n",
      " 1-2 hours: $5 \n",
      " 2-3 hours: $8 \n",
      " 3-4 hours: $10 \n",
      " 4+ hours: $12\n",
      "How many hours have you parked at this garage?\n",
      "1.5 hours costs:\n",
      "$5\n",
      "Have a good day!\n"
     ]
    }
   ],
   "source": [
    "print(\"The parking rate is as follows: \\n Less than one hour: Free \\n 1-2 hours: $5 \\n 2-3 hours: $8 \\n 3-4 hours: $10 \\n 4+ hours: $12\")\n",
    "\n",
    "time = float(input(\"How many hours have you parked at this garage?\"))\n",
    "print(\"How many hours have you parked at this garage?\")\n",
    "print(time, \"hours costs:\")\n",
    "\n",
    "if time < 1 :\n",
    "    print(\"Free\")\n",
    "elif time >= 1 and time < 2 :\n",
    "    print(\"$5\")\n",
    "elif time >= 2 and time < 3 :\n",
    "    print(\"$8\")\n",
    "elif time >= 3 and time < 4 :\n",
    "    print(\"$10\")\n",
    "else:\n",
    "    print(\"$12\")\n",
    "\n",
    "print(\"Have a good day!\")"
   ]
  },
  {
   "cell_type": "code",
   "execution_count": 22,
   "metadata": {},
   "outputs": [
    {
     "name": "stdout",
     "output_type": "stream",
     "text": [
      "What classes should you take?\n",
      "You should take history, english, and an art course!\n"
     ]
    }
   ],
   "source": [
    "print(\"What classes should you take?\")\n",
    "\n",
    "stem = input(\"Do you enjoy STEM?\")\n",
    "if stem == \"yes\":\n",
    "    mathsci = input(\"Cool! Are you more into the math or science side of STEM?\")\n",
    "    if mathsci == \"math\":\n",
    "        print(\"You should take algebra, geometry, and calculus!\")\n",
    "    elif mathsci== \"science\":\n",
    "        print(\"You should take biology, chemistry, and physics!\")\n",
    "elif stem == \"no\":\n",
    "    hmnts = input(\"Do you enjoy humanities?\")\n",
    "    if hmnts == \"yes\":\n",
    "        print(\"You should take history, english, and an art course!\")\n",
    "    elif hmnts == \"no\":\n",
    "        print(\"You should just try PE, I guess!\")\n"
   ]
  }
 ],
 "metadata": {
  "kernelspec": {
   "display_name": "Python 3.8.10 64-bit",
   "language": "python",
   "name": "python3"
  },
  "language_info": {
   "codemirror_mode": {
    "name": "ipython",
    "version": 3
   },
   "file_extension": ".py",
   "mimetype": "text/x-python",
   "name": "python",
   "nbconvert_exporter": "python",
   "pygments_lexer": "ipython3",
   "version": "3.8.10"
  },
  "orig_nbformat": 4,
  "vscode": {
   "interpreter": {
    "hash": "916dbcbb3f70747c44a77c7bcd40155683ae19c65e1c03b4aa3499c5328201f1"
   }
  }
 },
 "nbformat": 4,
 "nbformat_minor": 2
}

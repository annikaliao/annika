{
 "cells": [
  {
   "cell_type": "markdown",
   "metadata": {},
   "source": [
    "# College Board Create Performance Task Outline\n",
    "> My initial outline for my College Board Create Performance Task\n",
    "\n",
    "- title: College Board Create Performance Task Outline\n",
    "- badges: true\n",
    "- toc: true\n",
    "- categories: [jupyter]"
   ]
  },
  {
   "cell_type": "markdown",
   "metadata": {},
   "source": [
    "# Idea 1: Song Snippet Game\n",
    "\n",
    "## Performance Task Outline\n",
    "\n",
    "My first idea was to create a quiz-type game, where the questions each play a snippet of a song (5-10 seconds), and the user is to guess as many songs as possible before the timer runs out. I want to be able to link Spotify to the site, so that the song selections are personalized for each user, but if that is not possible, the song selection will be a pre-curated playlist of current top songs. The more songs you guess correct, the higher your score, which you will be able to compare with others through a leaderboard. Also, the faster you guess a song, the more points you will be rewarded.\n",
    "\n",
    "## College Board Requirements\n",
    "\n",
    "### Program Purpose and Function\n",
    "\n",
    "The purpose of this program is entertainment, to test the user's knowledge on their own favorite songs, as well as current trending songs. After playing the song snippet, the user will input their guess on the song, and the output will be the user's score at the end of the quiz. \n",
    "\n",
    "### Data Abstraction\n",
    "\n",
    "The data will be the user's guesses, collected at each question and in lists. Once the timer runs out, the data will be added together to provide the output, which is the score. The data will also be stored in a database to compare to other scores in the leaderboard. Also, there will be data collected from the user's personal Spotify account in order to create the personalized song snippets. \n",
    "\n",
    "### Managing Complexity\n",
    "\n",
    "The amount of points rewarded will be different depending on how quick the user answers the question, and there is not specifically a set number of questions, the user will be given questions as long as the timer is ticking. The song snippets in each question will be provided from the user's own Spotify account, making the quiz much more complex. \n",
    "\n",
    "### Procedural Abstraction\n",
    "\n",
    "The procedure is collecting data from the user's personal Spotify account, called song abstraction. This procedure creates an overall personalized quiz and experience for each user. \n",
    "\n",
    "### Algorithm Implementation\n",
    "\n",
    "The main algorithm is collecting the answers that the user inputs into the quiz and giving the score, but collecting the song snippets to form questions will also be an algorithm. The sequence will be collection of data from the user's Spotify, then the generation of questions, then the user will complete the quiz, with the output score at the end. The selection will the user's choice in answer, which will be translated to a specific amount of points. The iteration will be the songs, and the points provided per questions according to the timer.\n",
    "\n",
    "### Testing\n",
    "\n",
    "For the testing, I will record a video of me completing the quiz myself, and upon receiving the score, I will compare it to the other scores in the leaderboard. \n",
    "\n",
    "## Learning Preparation\n",
    "\n",
    "Before beginning on this project, I will need to learn more about databases, algorithms, and iteration in data collection. I will also have to explore a lot to figure out how to incorporate the Spotify Web API into my project's software.\n",
    "\n",
    "# Additional Ideas\n",
    ">These ideas are some other concpets I may want to explore if Idea 1 is not right for me. \n",
    "\n",
    "- Personalized Playlist:\n",
    "  The user can either input their favorite artists and songs, or the system will automatically collect their data. Then, a personalized playlist of songs based off their collective music taste will be created. The user can also select the \"vibe\" of the playlist, such as upbeat or moody, and the playlist will be curated toward that.\n",
    "- Daily Diet:\n",
    "  The user may check off their allergies or dietary restrictions, and this site will provide them with a list of recipes or dish inspiration to meet those restrictions. \n"
   ]
  }
 ],
 "metadata": {
  "kernelspec": {
   "display_name": "Python 3.8.10 64-bit",
   "language": "python",
   "name": "python3"
  },
  "language_info": {
   "name": "python",
   "version": "3.8.10"
  },
  "orig_nbformat": 4,
  "vscode": {
   "interpreter": {
    "hash": "916dbcbb3f70747c44a77c7bcd40155683ae19c65e1c03b4aa3499c5328201f1"
   }
  }
 },
 "nbformat": 4,
 "nbformat_minor": 2
}

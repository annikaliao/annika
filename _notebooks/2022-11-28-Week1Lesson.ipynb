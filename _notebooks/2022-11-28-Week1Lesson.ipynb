{
 "cells": [
  {
   "cell_type": "markdown",
   "metadata": {},
   "source": [
    "# Lesson 3.1-3.2\n",
    "> Notes, questions, and hacks\n",
    "\n",
    "- toc: true \n",
    "- badges: true\n",
    "- comments: false\n",
    "- categories: [jupyter]"
   ]
  },
  {
   "cell_type": "markdown",
   "metadata": {},
   "source": [
    "\n",
    "- variables is an abstraction that holds values \n",
    "- the data in these values can be Booleans, numbers, lists, and strings\n",
    "- "
   ]
  },
  {
   "cell_type": "markdown",
   "metadata": {},
   "source": [
    "## Data Types and Variables\n",
    "\n",
    "### Questions\n",
    "1. What exactly IS a variable?\n",
    "    - A variable is an abstraction made inside a program that holds a value.\n",
    "2. What is the best data type to represent someone’s dog’s name?\n",
    "    - A string, because it's text.\n",
    "3. Why is it important to give variables specific names before containing values?\n",
    "    - It prevents confusion and mistakes by differentiating accordingly.\n",
    "4. What is the best way to represent someone’s phone number?\n",
    "    - A string, because it will be used not as an integer but usually as a set constant.\n",
    "\n",
    "### Hacks"
   ]
  },
  {
   "cell_type": "code",
   "execution_count": 10,
   "metadata": {},
   "outputs": [
    {
     "name": "stdout",
     "output_type": "stream",
     "text": [
      "Hi, my name is Annika. I am 15, and I live in San Diego\n"
     ]
    }
   ],
   "source": [
    "name = \"Annika\" # this is a string variable\n",
    "age = 15 # this is an integer variable\n",
    "city = \"San Diego\"\n",
    "\n",
    "print(\"Hi, my name is \" + name + f\". I am {age}\" + \", and I live in \" + city) \n",
    "# use f'...{}' to integrate an integer variable into the string"
   ]
  },
  {
   "cell_type": "markdown",
   "metadata": {},
   "source": [
    "## Variables \n",
    "\n",
    "### Questions\n",
    "1. In your own words, briefly explain by writing down what an assignment operator is\n",
    "    - An assignment operator is a symbol used to store a value inside a variable, such as an equal sign (=).\n",
    "2. In Collegeboard pseudocode, what symbol is used to assign values to variables?\n",
    "    - An arrow symbol (<--). \n",
    "3. A variable, x, is initially given a value of 15. Later on, the value for x is changed to 22. If you print x, would the command display 15 or 22?\n",
    "    - 22, because it comes after and therefore replaces it.\n",
    "\n",
    "### Hacks"
   ]
  },
  {
   "cell_type": "markdown",
   "metadata": {},
   "source": []
  },
  {
   "cell_type": "markdown",
   "metadata": {},
   "source": [
    "## Lists and Strings Using Variables\n",
    "\n",
    "### Questions\n",
    "1. What is a list?\n",
    "    - A list is a sequence of elements, each of which is a variable.\n",
    "2. What is an element?\n",
    "    - An element is a single fragment of the code.\n",
    "3. What is an easy way to reference the elements in a list or string?\n",
    "    - An index can return the element of a list or string by the position it is at.\n",
    "4. What is an example of a string?\n",
    "    - A series of characters, i.e., a name, a phone number, or a phrase. \n",
    "\n",
    "### Hacks"
   ]
  },
  {
   "cell_type": "code",
   "execution_count": 11,
   "metadata": {},
   "outputs": [
    {
     "name": "stdout",
     "output_type": "stream",
     "text": [
      "['udon', 'penne rosa', 'spam musubi', 'avocado toast', 'brownies']\n",
      "avocado toast\n",
      "spam musubi\n"
     ]
    }
   ],
   "source": [
    "favFoods = ['udon', 'penne rosa', 'spam musubi', 'avocado toast', 'brownies'] \n",
    "# this is a list of elements, all of which are string variables\n",
    "\n",
    "print(favFoods[3]) # this indexes and prints the third item of my list\n",
    "print(favFoods[-3]) # this indexes and prints the third from the end of my list "
   ]
  },
  {
   "cell_type": "markdown",
   "metadata": {},
   "source": [
    "## Data Abstraction with Lists\n",
    "\n",
    "### Hacks"
   ]
  },
  {
   "cell_type": "code",
   "execution_count": 35,
   "metadata": {},
   "outputs": [
    {
     "name": "stdout",
     "output_type": "stream",
     "text": [
      "[3, 4, 5]\n"
     ]
    }
   ],
   "source": [
    "num1 = input(\"Input a number. \")\n",
    "num2 = input(\"Input a number. \")\n",
    "num3 = input(\"Input a number. \")\n",
    "add = input(\"How much would you like to add? \")\n",
    "\n",
    "# Add code in the space below\n",
    "\n",
    "numlist = [int(num1), int(num2), int(num3)]\n",
    "\n",
    "# The following is the code that adds the inputted addend to the other numbers. It is hidden from the user.\n",
    "\n",
    "for i in numlist:\n",
    "    numlist[i-1] += int(add)\n",
    "\n",
    "print(list(numlist))"
   ]
  },
  {
   "cell_type": "markdown",
   "metadata": {},
   "source": [
    "## Managing Complexity with Lists\n",
    "\n",
    "### Hacks\n",
    "![](https://mail.google.com/mail/u/0?ui=2&ik=307c2bfad8&attid=0.1&permmsgid=msg-a:r4582493374494622745&th=184c27275a351a09&view=fimg&fur=ip&sz=s0-l75-ft&attbid=ANGjdJ9N9qZ4_-1F_GgWrShyojfK25q38cTzSRS1LajPdIuJMXD-hSRA5D3tu1zGCtb0FzC2HLmP1hBwZydbm7LKdn3xARKXS7TtD0Kcq9_s5WY7TDxptADtstCf8uk&disp=emb&realattid=ii_lb1xz6480)\n",
    "I scored 2/3 on the quiz"
   ]
  },
  {
   "cell_type": "code",
   "execution_count": 39,
   "metadata": {},
   "outputs": [
    {
     "name": "stdout",
     "output_type": "stream",
     "text": [
      "pizza hot dog sushi strawberry sandwich\n",
      "['pizza', 'hot dog', 'sushi', 'strawberry', 'sandwich']\n"
     ]
    }
   ],
   "source": [
    "food1 = \"pizza\" \n",
    "food2 = \"hot dog\" \n",
    "food3 = \"sushi\"\n",
    "food4 = \"strawberry\"\n",
    "food5 = \"sandwich\"\n",
    "print(food1, food2, food3, food4, food5)\n",
    "\n",
    "# simplifying the list\n",
    "food = ['pizza', 'hot dog', 'sushi', 'strawberry', 'sandwich']\n",
    "print(food)"
   ]
  },
  {
   "cell_type": "markdown",
   "metadata": {},
   "source": [
    "**Why are using lists better for a program, rather than writing out each line of code?**\n",
    "- Writing out each line of code for each variable is tedious and impractical. Using a list manages this complexity, creating a more efficient and coherent code segment. It also reduces the amount of variables used, simplifying the code and making it easier to work on. "
   ]
  },
  {
   "cell_type": "code",
   "execution_count": 40,
   "metadata": {},
   "outputs": [
    {
     "name": "stdout",
     "output_type": "stream",
     "text": [
      "red orange yellow green blue purple\n",
      "['red', 'orange', 'yellow', 'green', 'blue', 'purple']\n"
     ]
    }
   ],
   "source": [
    "color1 = 'red'\n",
    "color2 = 'orange'\n",
    "color3 = 'yellow'\n",
    "color4 = 'green'\n",
    "color5 = 'blue'\n",
    "color6 = 'purple'\n",
    "print(color1, color2, color3, color4, color5, color6)\n",
    "# this is the \"long and slow way\" to write out a list, with separate variables for each item\n",
    "\n",
    "colors = ['red', 'orange', 'yellow', 'green', 'blue', 'purple']\n",
    "print(colors)\n",
    "# I have managed the complexity by placing the items all in one list\n"
   ]
  }
 ],
 "metadata": {
  "kernelspec": {
   "display_name": "Python 3.8.10 64-bit",
   "language": "python",
   "name": "python3"
  },
  "language_info": {
   "codemirror_mode": {
    "name": "ipython",
    "version": 3
   },
   "file_extension": ".py",
   "mimetype": "text/x-python",
   "name": "python",
   "nbconvert_exporter": "python",
   "pygments_lexer": "ipython3",
   "version": "3.8.10"
  },
  "orig_nbformat": 4,
  "vscode": {
   "interpreter": {
    "hash": "916dbcbb3f70747c44a77c7bcd40155683ae19c65e1c03b4aa3499c5328201f1"
   }
  }
 },
 "nbformat": 4,
 "nbformat_minor": 2
}

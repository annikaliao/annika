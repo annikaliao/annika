{
 "cells": [
  {
   "attachments": {},
   "cell_type": "markdown",
   "metadata": {},
   "source": [
    "# Tri 2 Final Project Personal Achievements\n",
    "> My learning path during APCSP tri 2, while doing our final project\n",
    "\n",
    "- toc: true \n",
    "- badges: true\n",
    "- comments: false\n",
    "- categories: [jupyter, week16]"
   ]
  },
  {
   "attachments": {},
   "cell_type": "markdown",
   "metadata": {},
   "source": [
    "### Achievements\n",
    "\n",
    "#### Utilizing debugging (with inspect)\n",
    "Before this project, I knew *of* debugging with inspect, but I never utilized it. Once I learned to, it helped my coding process so incredibly much, I was able to quickly identify and attempt to fix the error as it ran, as well as exactly where in the code to fix. Before, I would scour through lines and lines of code, in attempt to find where the error was, but now I don't have to! The best part of this is that all you have to do is run your program like normal, not like other methods of debugging where the problem code is identified, but you still don't know what to do with it, or you have to put an alert on every function to find it. \n",
    "\n",
    "\n",
    "#### Writing functions\n",
    "I am now much better and more comfortable with writing and calling functions. I was able to implement selection, iteration, and sequencing into my functions, when at the beginning of last trimester, I didn't even know what a function was!"
   ]
  },
  {
   "cell_type": "code",
   "execution_count": null,
   "metadata": {
    "vscode": {
     "languageId": "javascript"
    }
   },
   "outputs": [],
   "source": [
    "function printDate() {\n",
    "    // get user inputs\n",
    "    const x = document.getElementById(\"lastperiod\").value;\n",
    "    var y = document.getElementById(\"cyclelength\").value;\n",
    "    const z = document.getElementById(\"periodlength\").value;\n",
    "    // calculate date\n",
    "    var resDate = new Date(x);\n",
    "    resDate.setDate(resDate.getDate() + parseInt(y));\n",
    "    var year = resDate.getUTCFullYear();\n",
    "    var month = resDate.getUTCMonth() + 1;\n",
    "    var startdate = resDate.getUTCDate();\n",
    "    // print dates onto site\n",
    "    const periodstart = `${month}/${startdate}/${year}`;\n",
    "    document.getElementById(\"nextperiod\").innerHTML = periodstart\n",
    "    var enddate = resDate.getUTCDate() + parseInt(z);\n",
    "    const periodend = `${month}/${enddate}/${year}`\n",
    "    document.getElementById(\"nextperiodend\").innerHTML = periodend\n",
    "    // conditional for if period has unhealthy schedule\n",
    "    if(parseInt(z) <= 2) {\n",
    "      document.getElementById(\"unhealthy\").innerHTML = \"NOTICE: Your period is abnormally short. This may be a sign of some health concerns.   <a href=\\\"https://www.everydayhealth.com/pms/short-periods.aspx#:~:text=A%20short%20menstrual%20period%20might,even%20a%20serious%20medical%20problem.\\\">Learn More</a>\" ;\n",
    "    }\n",
    "  }"
   ]
  },
  {
   "attachments": {},
   "cell_type": "markdown",
   "metadata": {},
   "source": [
    "This function is for UI, it takes user input to calculate the user's next period."
   ]
  },
  {
   "cell_type": "code",
   "execution_count": null,
   "metadata": {
    "vscode": {
     "languageId": "javascript"
    }
   },
   "outputs": [],
   "source": [
    "function delete_user() {\n",
    "    const deleteOptions = {\n",
    "          method: 'DELETE',\n",
    "          headers: {\n",
    "              \"content-type\": \"application/json\",\n",
    "              'Authorization': 'Bearer my-token',\n",
    "          },\n",
    "      };\n",
    "      fetch(delete_fetch, deleteOptions)\n",
    "        .then(response => {\n",
    "          // trap error response from Web API\n",
    "          if (response.status !== 200) {\n",
    "            window.location.reload();\n",
    "            return;\n",
    "          }\n",
    "          // response contains valid result\n",
    "          response.json().then(data => {\n",
    "              console.log(data);\n",
    "          })\n",
    "      })\n",
    "    }"
   ]
  },
  {
   "attachments": {},
   "cell_type": "markdown",
   "metadata": {},
   "source": [
    "This function works with our APIs to delete user data from the database."
   ]
  },
  {
   "attachments": {},
   "cell_type": "markdown",
   "metadata": {},
   "source": [
    "#### Understanding of concepts like FE and BE connection\n",
    "I had no idea how to connect separate repositories of frontend and backend to work together. However, now that we've worked so much on this concept through this project, I have gained so much knowledge and understanding for these computer science principles. I know now that we can retrieve data with APIs that we make. Last trimester, we learned about APIs, but I had no idea that it was pretty simple to make one yourself. With a deployed database, we can retrieve the data, and work with it in the frontend! It is cool to me that totally different programs can come and work together pretty simply."
   ]
  },
  {
   "attachments": {},
   "cell_type": "markdown",
   "metadata": {},
   "source": [
    "### Reflection\n",
    "It may seem to a knowledgeable CS student that my personal achievements are very underwhelming and simple, but before this class, I had zero knowledge about coding. Concepts like FE and BE connection I haven't even thought to think about before entering this class, I know comprehend. So now, to understand so many concepts and be able to write my own code, is a very large achievement for me. I am able to write my own functions now without little help (instead of copying off of W3Schools haha), which basically is the foundation of coding. And if I do need help, I first use debugging to figure out the issue, and if I can solve it myself, before asking others. I feel like I am becoming a better and stronger coder."
   ]
  }
 ],
 "metadata": {
  "kernelspec": {
   "display_name": "Python 3",
   "language": "python",
   "name": "python3"
  },
  "language_info": {
   "name": "python",
   "version": "3.8.10"
  },
  "orig_nbformat": 4,
  "vscode": {
   "interpreter": {
    "hash": "916dbcbb3f70747c44a77c7bcd40155683ae19c65e1c03b4aa3499c5328201f1"
   }
  }
 },
 "nbformat": 4,
 "nbformat_minor": 2
}

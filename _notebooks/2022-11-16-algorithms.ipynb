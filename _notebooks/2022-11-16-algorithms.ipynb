{
 "cells": [
  {
   "cell_type": "markdown",
   "metadata": {},
   "source": [
    "# Algorithm Examples\n",
    "> Algorithms for teaching\n",
    "\n",
    "- toc: true \n",
    "- badges: true\n",
    "- comments: false\n",
    "- categories: [jupyter]"
   ]
  },
  {
   "cell_type": "markdown",
   "metadata": {},
   "source": [
    "## Developing Algorithms\n",
    "- When creating an algorithm, its good to outline its process before coding\n",
    "    - This ensures that it is **sequenced** correctly \n",
    "- You should represent the algorithm using a flowchart or natural language \n",
    "    - Visualization can help you better see the flow of the whole algorithm\n",
    "    - This may allow for the coding process to be more efficient and effective\n",
    "\n",
    "## Review of Selection and Iteration\n",
    "- Algorithms with iteration repeat a function until a goal is reached\n",
    "    - To more easily represent an algorithm without showing all the repeated steps, we can use iteration\n",
    "- Algorithms with selection only go through certain functions if certain things are true or false\n",
    "\n",
    "## Example 1\n",
    "\n",
    "|[](https://mail.google.com/mail/u/0?ui=2&ik=307c2bfad8&attid=0.1&permmsgid=msg-a:r-3887059261601548865&th=184e4f4ea4a304ff&view=att&disp=safe&realattid=f_lbbiony40)\n",
    "\n",
    "1. Start\n",
    "2. The number of pretzels in the pack is 6\n",
    "3. Eat one fruit snack, number of pretzels in pack goes down by 1\n",
    "4. How many pretzels are left?\n",
    "4. Repeat step 3 until number of pretzels is 0\n",
    "5. Pack is finished"
   ]
  },
  {
   "cell_type": "code",
   "execution_count": 5,
   "metadata": {},
   "outputs": [
    {
     "name": "stdout",
     "output_type": "stream",
     "text": [
      "5\n",
      "4\n",
      "3\n",
      "2\n",
      "1\n",
      "0\n",
      "All done!\n"
     ]
    }
   ],
   "source": [
    "pretzel = 6\n",
    "while (pretzel > 0):\n",
    "    pretzel -= 1\n",
    "    print(pretzel)\n",
    "    if pretzel == 0:\n",
    "        print(\"All done!\")"
   ]
  },
  {
   "cell_type": "markdown",
   "metadata": {},
   "source": [
    "## Example 2\n",
    "\n",
    "![]()\n",
    "\n",
    "1. "
   ]
  },
  {
   "cell_type": "code",
   "execution_count": null,
   "metadata": {},
   "outputs": [],
   "source": []
  },
  {
   "cell_type": "markdown",
   "metadata": {},
   "source": []
  },
  {
   "cell_type": "markdown",
   "metadata": {},
   "source": [
    "## Hacks\n",
    "\n",
    "Develop your own complex algorithm using a flowchart and natural language!\n",
    "\n",
    "Requirements:\n",
    "- Includes both a flowchart AND listed natural language\n",
    "- Incorporates selection OR iteration\n",
    "- Make it creative!\n"
   ]
  }
 ],
 "metadata": {
  "kernelspec": {
   "display_name": "Python 3.8.10 64-bit",
   "language": "python",
   "name": "python3"
  },
  "language_info": {
   "codemirror_mode": {
    "name": "ipython",
    "version": 3
   },
   "file_extension": ".py",
   "mimetype": "text/x-python",
   "name": "python",
   "nbconvert_exporter": "python",
   "pygments_lexer": "ipython3",
   "version": "3.8.10"
  },
  "orig_nbformat": 4,
  "vscode": {
   "interpreter": {
    "hash": "916dbcbb3f70747c44a77c7bcd40155683ae19c65e1c03b4aa3499c5328201f1"
   }
  }
 },
 "nbformat": 4,
 "nbformat_minor": 2
}

{
 "cells": [
  {
   "cell_type": "markdown",
   "metadata": {},
   "source": [
    "# Algorithm Examples\n",
    "> Algorithms for teaching\n",
    "\n",
    "- toc: true \n",
    "- badges: true\n",
    "- comments: false\n",
    "- categories: [jupyter]"
   ]
  },
  {
   "cell_type": "markdown",
   "metadata": {},
   "source": [
    "## Developing Algorithms\n",
    "- When creating an algorithm, its good to outline its process before coding\n",
    "    - This ensures that it is **sequenced** correctly \n",
    "- You should represent the algorithm using a flowchart or natural language \n",
    "    - Visualization can help you better see the flow of the whole algorithm\n",
    "    - This may allow for the coding process to be more efficient and effective\n",
    "\n",
    "## Review of Selection and Iteration\n",
    "- Algorithms with iteration repeat a function until a goal is reached\n",
    "    - To more easily represent an algorithm without showing all the repeated steps, we can use iteration\n",
    "- Algorithms with selection only go through certain functions if certain things are true or false\n",
    "\n",
    "## Example 1\n",
    "\n",
    "![](https://mail.google.com/mail/u/0?ui=2&ik=307c2bfad8&attid=0.1&permmsgid=msg-a:r-3887059261601548865&th=184e4f4ea4a304ff&view=att&disp=safe&realattid=f_lbbiony40)\n",
    "\n",
    "1. Start\n",
    "2. The number of pretzels in the pack is 6\n",
    "3. Eat one fruit snack, number of pretzels in pack goes down by 1\n",
    "4. How many pretzels are left?\n",
    "4. Repeat step 3 until number of pretzels is 0\n",
    "5. Display that pack is empty\n",
    "6. Finish"
   ]
  },
  {
   "cell_type": "code",
   "execution_count": 5,
   "metadata": {},
   "outputs": [
    {
     "name": "stdout",
     "output_type": "stream",
     "text": [
      "5\n",
      "4\n",
      "3\n",
      "2\n",
      "1\n",
      "0\n",
      "All done!\n"
     ]
    }
   ],
   "source": [
    "pretzel = 6\n",
    "while (pretzel > 0):\n",
    "    pretzel -= 1\n",
    "    print(pretzel)\n",
    "    if pretzel == 0:\n",
    "        print(\"All done!\")"
   ]
  },
  {
   "cell_type": "markdown",
   "metadata": {},
   "source": [
    "## Example 2\n",
    "\n",
    "The parking rate for a garage is as follows: <br> \n",
    "Less than one hour: Free <br>\n",
    "1-2 hours: $5 <br>\n",
    "2-3 hours: $8 <br> \n",
    "3-4 hours: $10 <br> \n",
    "4+ hours: $12\n",
    "\n",
    "![](https://mail.google.com/mail/u/0?ui=2&ik=307c2bfad8&attid=0.1&permmsgid=msg-a:r2030496128188097827&th=184e52d1193a9407&view=att&disp=inline&realattid=f_lbbkvkt70)\n",
    "\n",
    "1. Start\n",
    "2. Input number of hours parked\n",
    "3. If hours is less than 1, cost is free\n",
    "4. If hours is between 1 and 2, cost is $5\n",
    "5. If hours is between 2 and 3, cost is $8\n",
    "6. If hours is between 3 and 4, cost is $10\n",
    "7. If hours is more than 4, cost is $12\n",
    "8. Display cost and goodbye\n",
    "9. Finish"
   ]
  },
  {
   "cell_type": "code",
   "execution_count": null,
   "metadata": {},
   "outputs": [],
   "source": [
    "print(\"The parking rate is as follows: \\n Less than one hour: Free \\n 1-2 hours: $5 \\n 2-3 hours: $8 \\n 3-4 hours: $10 \\n 4+ hours: $12\")\n",
    "\n",
    "time = float(input(\"How many hours have you parked at this garage?\"))\n",
    "print(\"How many hours have you parked at this garage?\")\n",
    "print(time, \"hours costs:\")\n",
    "\n",
    "if time < 1 :\n",
    "    print(\"Free\")\n",
    "elif time >= 1 and time < 2 :\n",
    "    print(\"$5\")\n",
    "elif time >= 2 and time < 3 :\n",
    "    print(\"$8\")\n",
    "elif time >= 3 and time < 4 :\n",
    "    print(\"$10\")\n",
    "else:\n",
    "    print(\"$12\")\n",
    "\n",
    "print(\"Have a good day!\")"
   ]
  },
  {
   "cell_type": "markdown",
   "metadata": {},
   "source": [
    "## Hacks\n",
    "\n",
    "Develop your own complex algorithm using a flowchart and natural language, then code it!\n",
    "\n",
    "Requirements:\n",
    "- Includes both a flowchart AND natural language\n",
    "- Working code of the same algorithm\n",
    "- Incorporates selection AND/OR iteration\n",
    "- Make it creative!\n",
    "\n",
    "Tips:\n",
    "- [This site](https://online.visual-paradigm.com/app/diagrams/#diagram:proj=0&type=Flowchart&width=11&height=8.5&unit=inch) is good for making flowcharts!\n",
    "- Natural language should just be a list\n",
    "- Think about the whole process, not just the end result"
   ]
  }
 ],
 "metadata": {
  "kernelspec": {
   "display_name": "Python 3.8.10 64-bit",
   "language": "python",
   "name": "python3"
  },
  "language_info": {
   "codemirror_mode": {
    "name": "ipython",
    "version": 3
   },
   "file_extension": ".py",
   "mimetype": "text/x-python",
   "name": "python",
   "nbconvert_exporter": "python",
   "pygments_lexer": "ipython3",
   "version": "3.8.10"
  },
  "orig_nbformat": 4,
  "vscode": {
   "interpreter": {
    "hash": "916dbcbb3f70747c44a77c7bcd40155683ae19c65e1c03b4aa3499c5328201f1"
   }
  }
 },
 "nbformat": 4,
 "nbformat_minor": 2
}

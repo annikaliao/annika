{
 "cells": [
  {
   "cell_type": "markdown",
   "metadata": {},
   "source": [
    "# Algorithm Examples\n",
    "> Algorithms for teaching\n",
    "\n",
    "- toc: true \n",
    "- badges: true\n",
    "- comments: false\n",
    "- categories: [jupyter]"
   ]
  },
  {
   "cell_type": "markdown",
   "metadata": {},
   "source": [
    "## Example of Selection in an Algorithm\n",
    "\n",
    "There is a sale with different discounts per tag:\n",
    "Red tag is 25% off\n",
    "Green tag is 60% off\n",
    "What is the cost of your item?"
   ]
  },
  {
   "cell_type": "code",
   "execution_count": 6,
   "metadata": {},
   "outputs": [
    {
     "name": "stdout",
     "output_type": "stream",
     "text": [
      "What color tag does the item have?\n",
      "green\n",
      "what is the cost of this item?\n",
      "Total: 8.25\n"
     ]
    }
   ],
   "source": [
    "print(\"What color tag does the item have?\")\n",
    "tag = input()\n",
    "print(tag)\n",
    "\n",
    "if tag :\n",
    "    print(\"what is the cost of this item?\")\n",
    "    cost = input()\n",
    "    cost = (float(cost)*0.75)\n",
    "if tag == \"red\":\n",
    "    print(\"what is the cost of this item?\")\n",
    "    cost = input()\n",
    "    cost = (float(cost)*0.4)\n",
    "\n",
    "cost = (float(cost)*1.1)\n",
    "\n",
    "print(\"Total: \" + str(cost))"
   ]
  },
  {
   "cell_type": "code",
   "execution_count": 26,
   "metadata": {},
   "outputs": [
    {
     "name": "stdout",
     "output_type": "stream",
     "text": [
      "2\n"
     ]
    }
   ],
   "source": [
    "attempts = 0\n",
    "score = 0\n",
    "\n",
    "import random\n",
    "tempScore = (random.randint(0,10))\n",
    "print(tempScore)\n",
    "if tempScore > score:\n",
    "    score = tempScore\n",
    "attempts = attempts + 1\n",
    "if attempts == 4:\n",
    "    print(tempScore)"
   ]
  }
 ],
 "metadata": {
  "kernelspec": {
   "display_name": "Python 3.8.10 64-bit",
   "language": "python",
   "name": "python3"
  },
  "language_info": {
   "codemirror_mode": {
    "name": "ipython",
    "version": 3
   },
   "file_extension": ".py",
   "mimetype": "text/x-python",
   "name": "python",
   "nbconvert_exporter": "python",
   "pygments_lexer": "ipython3",
   "version": "3.8.10"
  },
  "orig_nbformat": 4,
  "vscode": {
   "interpreter": {
    "hash": "916dbcbb3f70747c44a77c7bcd40155683ae19c65e1c03b4aa3499c5328201f1"
   }
  }
 },
 "nbformat": 4,
 "nbformat_minor": 2
}

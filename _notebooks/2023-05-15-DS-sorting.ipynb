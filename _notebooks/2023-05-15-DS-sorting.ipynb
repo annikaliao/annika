{
 "cells": [
  {
   "attachments": {},
   "cell_type": "markdown",
   "metadata": {},
   "source": [
    "# Sorting Algorithms\n",
    "> Working with Data Structures and manipulating data.\n",
    "\n",
    "- toc: true\n",
    "- categories: []\n",
    "- type: pbl\n",
    "- week: 34"
   ]
  },
  {
   "attachments": {},
   "cell_type": "markdown",
   "metadata": {},
   "source": [
    "[wget link](https://raw.githubusercontent.com/nighthawkcoders/APCSP/master/_notebooks/2023-05-15-DS-sorting.ipynb)"
   ]
  },
  {
   "cell_type": "code",
   "execution_count": 6,
   "metadata": {},
   "outputs": [
    {
     "name": "stdout",
     "output_type": "stream",
     "text": [
      "Random List\n",
      "[92, 34, 68, 6, 19, 96, 36, 11, 43, 36]\n"
     ]
    }
   ],
   "source": [
    "import random\n",
    "\n",
    "numbers = []\n",
    "for i in range(10):\n",
    "    numbers.append(random.randint(0,100))\n",
    "print(\"Random List\")\n",
    "print(numbers)"
   ]
  },
  {
   "attachments": {},
   "cell_type": "markdown",
   "metadata": {},
   "source": [
    "# Warm Up\n",
    "\n",
    "> Discuss with a partner... \n",
    "What are some strategies you would use to sort this list? (Don't worry about writing code for now)\n",
    "- Look at each number of the list and if number is less than the last, move it to before."
   ]
  },
  {
   "attachments": {},
   "cell_type": "markdown",
   "metadata": {},
   "source": [
    "# Explore\n",
    "\n",
    "Get into groups of 3\n",
    "\n",
    "We will be focusing on 4 algorithms today.\n",
    "\n",
    "We will look at the first one together, Bubble Sort\n",
    "\n",
    "![](images/bubble-sort.png)\n",
    "\n",
    "What is happening with this sort?<br>\n",
    "It compares two numbers at a time in the list, and the larger is already on the right it moves on, and if it on the left, it swaps places with the other number it was compared to.\n",
    "\n",
    "In your groups you will each choose to be an expert on a sorting algorithm. Merge, Selection, and Insertion.\n",
    "Take about 5 minutes to read about your algorithm (Geek for Geeks linked below) and be ready to explain it to your other group members. \n",
    "\n",
    "[Merge](https://www.geeksforgeeks.org/merge-sort/#)\n",
    "- Merge sort is basically sub-sorting. It divides the list into multiple smaller lists, then sorts each of the smaller lists. Then, it reassembles the sections into the original list, but now it is sorted. Advantages of merge sort is that it is time-efficient and it is a stable sort.\n",
    "\n",
    "[Selection](https://www.geeksforgeeks.org/selection-sort/)\n",
    "- Selection sort is a simple and efficient sorting algorithm that works by repeatedly selecting the smallest (or largest) element from the unsorted portion of the list and moving it to the sorted portion of the list. \n",
    "\n",
    "[Insertion](https://www.geeksforgeeks.org/insertion-sort/)\n",
    "- The array is virtually split into a sorted and an unsorted part. Values from the unsorted part are picked and placed at the correct position in the sorted part."
   ]
  },
  {
   "attachments": {},
   "cell_type": "markdown",
   "metadata": {},
   "source": [
    "## Practice\n",
    "\n",
    "[75, 17, 46, 80, 67, 45, 69, 79, 40, 0]\n",
    "\n",
    "How would you sort this list with... \n",
    "- Bubble Sort: First, take the first two numbers, 75 and 17, and since 75 is greater than 17, it swaps places with the 17. Then, it compares 75 and 46 as the second and third numbers of the list, and it is swapped again. Once it goes next to the 80, it does not get swapped this time because 75 is smaller than 80. It continues this check and swap method through the whole list. \n",
    "- Selection Sort: To sort the list [75, 17, 46, 80, 67, 45, 69, 79, 40, 0] using Selection Sort, we start by finding the minimum element (0) and swapping it with the first element (75). Then, we find the minimum element from the remaining unsorted part and swap it with the second element (17). This process continues until the entire list is sorted. The final sorted list is [0, 17, 40, 45, 46, 67, 69, 75, 79, 80].\n",
    "> Explain.\n",
    "\n",
    "[88, 39, 53, 39, 58, 43, 74, 81, 71, 51]\n",
    "\n",
    "How would you sort this list with... \n",
    "- Merge Sort: To sort the list [88, 39, 53, 39, 58, 43, 74, 81, 71, 51] using Merge Sort, we follow a divide-and-conquer approach. First, we recursively divide the list into smaller sublists until each sublist contains only one element. Then, we merge these sublists in a sorted manner. To merge two sublists, we compare the elements from each sublist and place them in the correct order. We continue this process until all the sublists are merged into a single sorted list. Applying Merge Sort to the given list, the final sorted list is [39, 39, 43, 51, 53, 58, 71, 74, 81, 88].\n",
    "- Insertion Sort: Insertion Sort is a simple sorting algorithm that works by iteratively building a sorted portion of the list. Starting with the second element, it compares each element with the ones before it and inserts it at the correct position by shifting elements to the right. This process is repeated for each subsequent element until the entire list is sorted. When applying Insertion Sort to the list [88, 39, 53, 39, 58, 43, 74, 81, 71, 51], the final sorted list is [39, 39, 43, 51, 53, 58, 71, 74, 81, 88].\n",
    "> Explain.\n"
   ]
  },
  {
   "attachments": {},
   "cell_type": "markdown",
   "metadata": {},
   "source": [
    "# Sorting Words\n",
    "> Sorting strings works in the same way as integers. Using your expertise algorithm, sort the following list of random words."
   ]
  },
  {
   "cell_type": "code",
   "execution_count": 7,
   "metadata": {},
   "outputs": [
    {
     "name": "stdout",
     "output_type": "stream",
     "text": [
      "Random List:\n",
      "['solifidian', 'induvial', 'nondegeneration', 'reprovably', 'Caraguata', 'requisitioner', 'antirevolutionary', 'nonconduction', 'deforciant', 'transcriptional']\n",
      "Sorted List (Alphabetical Order):\n",
      "['antirevolutionary', 'Caraguata', 'deforciant', 'induvial', 'nonconduction', 'nondegeneration', 'reprovably', 'requisitioner', 'solifidian', 'transcriptional']\n"
     ]
    },
    {
     "name": "stderr",
     "output_type": "stream",
     "text": [
      "[nltk_data] Downloading package words to /home/annikaliao/nltk_data...\n",
      "[nltk_data]   Package words is already up-to-date!\n"
     ]
    }
   ],
   "source": [
    "import nltk\n",
    "import random\n",
    "\n",
    "nltk.download('words')\n",
    "from nltk.corpus import words\n",
    "\n",
    "english_words = words.words()\n",
    "\n",
    "word_list = []\n",
    "for i in range(10):\n",
    "    word_list.append(english_words[random.randint(0, len(english_words))])\n",
    "\n",
    "print(\"Random List:\")\n",
    "print(word_list)\n",
    "\n",
    "# Sort the list in alphabetical order\n",
    "word_list.sort(key=str.lower)\n",
    "\n",
    "print(\"Sorted List (Alphabetical Order):\")\n",
    "print(word_list)"
   ]
  },
  {
   "attachments": {},
   "cell_type": "markdown",
   "metadata": {},
   "source": [
    "## Discuss \n",
    "Answer the following with your group.\n",
    "\n",
    "- When should you use each algorithm? What makes an algorithm the right choice?\n",
    "- Given the following lists...\n",
    "    - [0, 2, 6, 4, 8, 10]\n",
    "        - Merge sort is the best choice due to its efficient performance.\n",
    "    - [Elephant, Banana, Cat, Dog, Apple]: \n",
    "        - Merge sort can be used, although sorting algorithms are typically designed for numerical values.\n",
    "    - [29, 13, 83, 47, 32, 78, 100, 60, 65, 15, 24, 9, 40, 68, 53, 8, 90, 58, 39, 32, 34, 91, 74, 94, 49, 87, 34, 87, 23, 17, 27, 2, 38, 58, 84, 15, 9, 46, 74, 40, 44, 8, 55, 28, 81, 92, 81, 88, 53, 38, 19, 21, 9, 54, 21, 67, 3, 41, 3, 74, 13, 71, 70, 45, 5, 36, 80, 64, 97, 86, 73, 74, 94, 79, 49, 32, 20, 68, 64, 69, 1, 77, 31, 56, 100, 80, 48, 75, 85, 93, 67, 57, 26, 56, 43, 53, 59, 28, 67, 50]\n",
    "        - Merge sort is the recommended algorithm for efficient sorting.\n",
    "Select the algorithm you believe is best for each, explain."
   ]
  },
  {
   "attachments": {},
   "cell_type": "markdown",
   "metadata": {},
   "source": [
    "## HACKS\n",
    "> Provided below is a Bubble Sort Algorithm sorting a list of dictionaries based off of selected key.\n",
    "\n",
    "- Now it's time to do some coding...\n",
    "\n",
    "- Run code and then research and answer these questions...\n",
    "    - Is a list and/or dictionary in python considered a primitive or collection type?  Why?\n",
    "        - In Python, both lists and dictionaries are considered collection types. A list is an ordered collection of elements, while a dictionary is an unordered collection of key-value pairs. They are not considered primitive types because they can contain multiple values and have built-in methods for manipulation and retrieval.\n",
    "    - Is the list passed into bubble sort \"pass-by-value\" or \"pass-by-reference? Describe why in relation to output.\n",
    "        - In Python, the list passed into the bubble sort function behaves as a pass-by-reference. When you pass a list to a function, a reference to the original list is created, and any modifications made to the list within the function affect the original list. The output reflects this behavior because the changes made inside the bubble sort function are visible outside of it.\n",
    "\n",
    "- Implement new cell(s) and/or organize cells to do the following.\n",
    "    - Create your own list\n",
    "    - Use your expertise sorting algorithm (selection, insertion, merge). Note, I got my bubble sort from Geek for Geeks and made modifications. Each student in a group should have a unique algorithm.\n",
    "    - Test your list with my bubble sort\n",
    "    - Test my list with your new sort\n",
    "    - Research analysis on sorting: comparisons, swaps, time.  Build this into your hacks.\n",
    "    - Find a better way to print the data, key first, then other elements in viewable form.\n",
    "\n",
    "Use the code below to help guide your adventure"
   ]
  },
  {
   "cell_type": "code",
   "execution_count": 11,
   "metadata": {},
   "outputs": [
    {
     "name": "stdout",
     "output_type": "stream",
     "text": [
      "Original\n",
      "[{'name': 'Risa', 'age': 18, 'city': 'New York'}, {'name': 'John', 'age': 63, 'city': 'Eugene'}, {'name': 'Shekar', 'age': 18, 'city': 'San Francisco'}, {'name': 'Ryan', 'age': 21, 'city': 'Los Angeles'}]\n",
      "name\n",
      "[{'name': 'John', 'age': 63, 'city': 'Eugene'}, {'name': 'Risa', 'age': 18, 'city': 'New York'}, {'name': 'Ryan', 'age': 21, 'city': 'Los Angeles'}, {'name': 'Shekar', 'age': 18, 'city': 'San Francisco'}]\n",
      "age\n",
      "[{'name': 'Risa', 'age': 18, 'city': 'New York'}, {'name': 'Shekar', 'age': 18, 'city': 'San Francisco'}, {'name': 'Ryan', 'age': 21, 'city': 'Los Angeles'}, {'name': 'John', 'age': 63, 'city': 'Eugene'}]\n",
      "city\n",
      "[{'name': 'John', 'age': 63, 'city': 'Eugene'}, {'name': 'Ryan', 'age': 21, 'city': 'Los Angeles'}, {'name': 'Risa', 'age': 18, 'city': 'New York'}, {'name': 'Shekar', 'age': 18, 'city': 'San Francisco'}]\n"
     ]
    }
   ],
   "source": [
    "\"\"\"\n",
    "* Creator: Nighthawk Coding Society\n",
    "Bubble Sort of a List with optimizations\n",
    "\"\"\"\n",
    "\n",
    "# bubble sorts a list of dictionaries, base off of provided key\n",
    "def bubbleSort(list, key):\n",
    "    n = len(list) - 1  # list are indexed 0 to n-1, len is n\n",
    "    \n",
    "    # Traverse through list with i index\n",
    "    for i in range(n):\n",
    "        swapped = False  # optimize code, so it exits if now swaps on inner loop\n",
    "\n",
    "        # Inner traversal using j index\n",
    "        for j in range(n-i):  # n-i as positions on right are in order in bubble\n",
    " \n",
    "            # Swap if the element KeyN is greater KeyN1\n",
    "            keyN = list[j].get(key)\n",
    "            keyN1 = list[j+1].get(key)\n",
    "            if keyN > keyN1:\n",
    "                swapped = True\n",
    "                list[j], list[j + 1] = list[j + 1], list[j]  # single line swap\n",
    "         \n",
    "        if not swapped:  # if no swaps on inner pass, list is sorted\n",
    "            return  # exit function\n",
    "    \n",
    "\n",
    "if __name__ == \"__main__\":\n",
    "    # list/dictionary sample\n",
    "    list_of_people = [\n",
    "    {\"name\": \"Risa\", \"age\": 18, \"city\": \"New York\"},\n",
    "    {\"name\": \"John\", \"age\": 63, \"city\": \"Eugene\"},\n",
    "    {\"name\": \"Shekar\", \"age\": 18, \"city\": \"San Francisco\"},\n",
    "    {\"name\": \"Ryan\", \"age\": 21, \"city\": \"Los Angeles\"}\n",
    "    ]\n",
    "    \n",
    "    # assuming uniform keys, pick 1st row as source of keys\n",
    "    key_row = list_of_people[0]\n",
    "\n",
    "    # print list as defined\n",
    "    print(\"Original\")\n",
    "    print(list_of_people)\n",
    "    \n",
    "    for key in key_row:  # finds each key in the row\n",
    "        print(key)\n",
    "        bubbleSort(list_of_people, key)  # sort list of people\n",
    "        print(list_of_people)"
   ]
  },
  {
   "cell_type": "code",
   "execution_count": 12,
   "metadata": {},
   "outputs": [
    {
     "name": "stdout",
     "output_type": "stream",
     "text": [
      "Original List (my_list):\n",
      "[5, 2, 8, 1, 9, 3]\n",
      "Sorted List (bubble sort):\n",
      "[5, 2, 8, 1, 9, 3]\n",
      "Original List (list_of_people):\n",
      "[{'name': 'Risa', 'age': 18, 'city': 'New York'}, {'name': 'Shekar', 'age': 18, 'city': 'San Francisco'}, {'name': 'Ryan', 'age': 21, 'city': 'Los Angeles'}, {'name': 'John', 'age': 63, 'city': 'Eugene'}]\n",
      "Sorted List (selection sort):\n",
      "[{'name': 'Risa', 'age': 18, 'city': 'New York'}, {'name': 'Shekar', 'age': 18, 'city': 'San Francisco'}, {'name': 'Ryan', 'age': 21, 'city': 'Los Angeles'}, {'name': 'John', 'age': 63, 'city': 'Eugene'}]\n"
     ]
    }
   ],
   "source": [
    "# Your code for creating a list and implementing a sorting algorithm goes here\n",
    "\n",
    "# Example list\n",
    "my_list = [5, 2, 8, 1, 9, 3]\n",
    "\n",
    "# Your sorting algorithm implementation (e.g., selection sort)\n",
    "def selectionSort(lst):\n",
    "    n = len(lst)\n",
    "    for i in range(n):\n",
    "        min_index = i\n",
    "        for j in range(i + 1, n):\n",
    "            if lst[j][\"age\"] < lst[min_index][\"age\"]:  # Compare based on \"age\" key\n",
    "                min_index = j\n",
    "        lst[i], lst[min_index] = lst[min_index], lst[i]\n",
    "\n",
    "\n",
    "# Testing your algorithm with my bubble sort\n",
    "print(\"Original List (my_list):\")\n",
    "print(my_list)\n",
    "\n",
    "bubbleSort(list_of_people, \"age\")  # Sorting based on the \"age\" key\n",
    "  # Sorting using bubble sort from the provided code\n",
    "\n",
    "print(\"Sorted List (bubble sort):\")\n",
    "print(my_list)\n",
    "\n",
    "# Testing my list with your sorting algorithm\n",
    "print(\"Original List (list_of_people):\")\n",
    "print(list_of_people)\n",
    "\n",
    "selectionSort(list_of_people)  # Sorting using your selection sort algorithm\n",
    "\n",
    "print(\"Sorted List (selection sort):\")\n",
    "print(list_of_people)\n"
   ]
  }
 ],
 "metadata": {
  "kernelspec": {
   "display_name": "base",
   "language": "python",
   "name": "python3"
  },
  "language_info": {
   "codemirror_mode": {
    "name": "ipython",
    "version": 3
   },
   "file_extension": ".py",
   "mimetype": "text/x-python",
   "name": "python",
   "nbconvert_exporter": "python",
   "pygments_lexer": "ipython3",
   "version": "3.9.12"
  },
  "orig_nbformat": 4
 },
 "nbformat": 4,
 "nbformat_minor": 2
}

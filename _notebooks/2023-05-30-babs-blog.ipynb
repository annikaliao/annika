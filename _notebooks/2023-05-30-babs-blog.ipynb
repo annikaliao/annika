{
 "cells": [
  {
   "attachments": {},
   "cell_type": "markdown",
   "metadata": {},
   "source": [
    "# Code Couture Code Walkthrough\n",
    "> How I coded the Code Couture game!\n",
    "\n",
    "- toc: true \n",
    "- badges: true\n",
    "- comments: false\n",
    "- categories: [jupyter]"
   ]
  },
  {
   "attachments": {},
   "cell_type": "markdown",
   "metadata": {},
   "source": [
    "## Story\n",
    "> In our game, you are able to interact with the story, immersing yourself as the main character\n",
    "\n",
    "After clicking the PLAY NOW button on the homepage, user is prompted to enter their name, which will be saved."
   ]
  },
  {
   "cell_type": "code",
   "execution_count": null,
   "metadata": {
    "vscode": {
     "languageId": "html"
    }
   },
   "outputs": [],
   "source": [
    "<div class=\"nes-field is-inline\">\n",
    "    <label for=\"error_field\">Name</label>\n",
    "        <input type=\"text\" id=\"error_field\" class=\"nes-input is-error\" id=\"nameInput\" placeholder=\"What's Your Name ?\">\n",
    "</div>\n",
    "<!--<a class=\"nes-btn is-error\" href=\"{{ site.baseurl }}/story\" id=\"myButton\">PLAY NOW</a>-->\n",
    "<button class=\"nes-btn is-error\" onclick=\"saveName(); window.location.href='{{ site.baseurl }}/story'\">PLAY NOW</button>"
   ]
  },
  {
   "cell_type": "code",
   "execution_count": null,
   "metadata": {
    "vscode": {
     "languageId": "javascript"
    }
   },
   "outputs": [],
   "source": [
    "function saveName() {\n",
    "    var name = document.getElementById(\"nameInput\").value;\n",
    "    localStorage.setItem(\"userName\", name);\n",
    "    window.location.href = \"page2.html\";\n",
    "}"
   ]
  },
  {
   "attachments": {},
   "cell_type": "markdown",
   "metadata": {},
   "source": [
    "After clicking the continue button, a juicy text conversation plays out on the next page, directly involving the user, and prompts the user to respond. The user may enter whatever text they'd like, and it will be displayed in the chat, next to an icon labeled with their name. "
   ]
  },
  {
   "cell_type": "code",
   "execution_count": null,
   "metadata": {
    "vscode": {
     "languageId": "html"
    }
   },
   "outputs": [],
   "source": [
    "<section class=\"message-list\">\n",
    "        <!--Boyfriend-->\n",
    "        <section class=\"message -left\">\n",
    "          <i class=\"nes-bcrikko\"></i>\n",
    "          <!-- Balloon -->\n",
    "          <div class=\"nes-balloon from-left\">\n",
    "            <p>Hey, I need to be honest with you. I cheated on you.</p>\n",
    "          </div>\n",
    "        </section>\n",
    "        <!--Boyfriend-->\n",
    "        <section class=\"message -left\">\n",
    "          <i class=\"nes-bcrikko\"></i>\n",
    "          <!-- Balloon -->\n",
    "          <div class=\"nes-balloon from-left\">\n",
    "            <p>Honestly, they are better than you anyways.</p>\n",
    "          </div>\n",
    "        </section>\n",
    "        <section align=\"right\" class=\"message -right\">\n",
    "          <!-- Balloon -->\n",
    "          <div class=\"nes-balloon from-right\">\n",
    "            <p id=\"contentDisplay\"><span id=\"inputMessage\"></span></p>\n",
    "          </div>\n",
    "          <i class=\"nes-bcrikko\"></i>\n",
    "          <div align=\"right\" id=\"nameDisplay\"></div>\n",
    "        </section>\n",
    "      </section>\n",
    "      <div class=\"nes-field\">\n",
    "        <label for=\"name_field\"></label>\n",
    "        <input type=\"text\" id=\"name_field\" class=\"nes-input\" id=\"textInput\" onkeydown=\"keyEnter(event)\" placeholder=\"Click ENTER key to send\">\n",
    "        <!--<button type=\"button\" class=\"nes-btn is-primary\" onclick=\"printMessage()\">send</button>-->\n",
    "      </div>"
   ]
  },
  {
   "attachments": {},
   "cell_type": "markdown",
   "metadata": {},
   "source": [
    "savedName() calls the stored name input from the last page, and displays it under the icon. keyEnter() senses when teh enter key is clicked, and when clicked, the content from the text input is displayed on the text bubble. It appears that the user is responding to the text messages from before. Now, the user clicks continue to go to the game. "
   ]
  },
  {
   "cell_type": "code",
   "execution_count": null,
   "metadata": {
    "vscode": {
     "languageId": "javascript"
    }
   },
   "outputs": [],
   "source": [
    "var savedName = localStorage.getItem(\"userName\");\n",
    "if (savedName) {\n",
    "    document.getElementById(\"nameDisplay\").textContent = savedName;\n",
    "} else {\n",
    "    document.getElementById(\"nameDisplay\").textContent = \"User\";\n",
    "}\n",
    "function keyEnter(event) {\n",
    "if (event.keyCode === 13) {\n",
    "    event.preventDefault();\n",
    "    displayContent();\n",
    "    }\n",
    "}\n",
    "function displayContent() {\n",
    "    var input = document.getElementById(\"textInput\").value;\n",
    "    document.getElementById(\"contentDisplay\").textContent = input;\n",
    "    document.getElementById(\"textInput\").value = \"\"; // Reset input value\n",
    "}"
   ]
  },
  {
   "attachments": {},
   "cell_type": "markdown",
   "metadata": {},
   "source": [
    "## Game"
   ]
  },
  {
   "attachments": {},
   "cell_type": "markdown",
   "metadata": {},
   "source": [
    "Canvases positioned on the left side of the page holds all of the elements. On load, the blank base body is the only thing visible on the base canvas. Each type of clothing that the user can put on their doll has its own canvas in the same position as the base canvas, which is where the image will be displayed. The base body images and the clothing images will appear to be layered. There are three buttons under the canvas, each with different skin tones. The user can click the skin tone they want, and the base body will have that skin color. "
   ]
  },
  {
   "cell_type": "code",
   "execution_count": null,
   "metadata": {
    "vscode": {
     "languageId": "html"
    }
   },
   "outputs": [],
   "source": [
    "<div id=\"display\">\n",
    "    <div id=\"canvas\">\n",
    "      <canvas id=\"base\"></canvas>\n",
    "      <canvas id=\"shoes\"></canvas>\n",
    "      <canvas id=\"dress\"></canvas>\n",
    "      <canvas id=\"pants\"></canvas>\n",
    "      <canvas id=\"shirtbase\"></canvas>\n",
    "      <canvas id=\"shirt\"></canvas>\n",
    "      <canvas id=\"eyes\"></canvas>\n",
    "      <canvas id=\"hair\"></canvas>\n",
    "      <canvas id=\"accessories\"></canvas>\n",
    "      <canvas id=\"blank\"></canvas>\n",
    "      <img id=\"results\">\n",
    "    </div>\n",
    "    <audio id=\"music\" src=\"audio/gametheme.mp3\" autoplay loop></audio>\n",
    "    <div id=\"skin\">\n",
    "      <button id=\"medskin\" onclick=\"medskin()\">\n",
    "        <span class=\"medskin-icon\"></span>\n",
    "      </button>\n",
    "      <button id=\"lightskin\" onclick=\"lightskin()\">\n",
    "        <span class=\"lightskin-icon\"></span>\n",
    "      </button>\n",
    "      <button id=\"darkskin\" onclick=\"darkskin()\">\n",
    "        <span class=\"darkskin-icon\"></span>\n",
    "      </button>\n",
    "    </div>\n",
    "  </div>"
   ]
  },
  {
   "attachments": {},
   "cell_type": "markdown",
   "metadata": {},
   "source": [
    "When changing the skin color, a corresponding function is assigned to each color button. Each skin color is a new base body image. On click of the button, the function clears the canvas of the previous image, and displays the new one."
   ]
  },
  {
   "cell_type": "code",
   "execution_count": null,
   "metadata": {
    "vscode": {
     "languageId": "javascript"
    }
   },
   "outputs": [],
   "source": [
    "function medskin() {\n",
    "    context.clearRect(0, 0, canvas.width, canvas.height);\n",
    "    baseimg.src='https://raw.githubusercontent.com/codecouturebaddies/codec/gh-pages/images/base/base1.png';\n",
    "    baseimg.onload = function() {\n",
    "        context.drawImage(baseimg, 0, 0, canvas.width, canvas.height);\n",
    "    }\n",
    "}\n",
    "\n",
    "function lightskin() {\n",
    "    context.clearRect(0, 0, canvas.width, canvas.height);\n",
    "    baseimg.src='https://raw.githubusercontent.com/codecouturebaddies/codec/gh-pages/images/base/base2.png';\n",
    "    baseimg.onload = function() {\n",
    "        context.drawImage(baseimg, 0, 0, canvas.width, canvas.height);\n",
    "    }\n",
    "}\n",
    "\n",
    "function darkskin() {\n",
    "    context.clearRect(0, 0, canvas.width, canvas.height);\n",
    "    baseimg.src='https://raw.githubusercontent.com/codecouturebaddies/codec/gh-pages/images/base/base3.png';\n",
    "    baseimg.onload = function() {\n",
    "        context.drawImage(baseimg, 0, 0, canvas.width, canvas.height);\n",
    "    }\n",
    "}"
   ]
  },
  {
   "attachments": {},
   "cell_type": "markdown",
   "metadata": {},
   "source": [
    "On the right of the screen, there is a menu holding all of the clothing options. The categories are displayed on the top of the menu, and the user can click between them. On each page, there are several images of clothing that they can click for it to appear on the canvas on the body. The function of the buttons will be explained in the next segment..."
   ]
  },
  {
   "cell_type": "code",
   "execution_count": null,
   "metadata": {
    "vscode": {
     "languageId": "html"
    }
   },
   "outputs": [],
   "source": [
    "<div class=\"content-item\" id=\"dress-content\">\n",
    "  <table>\n",
    "    <tr>\n",
    "      <td><button onclick=\"dressbtn(0)\"><img src=\"images/dresses/dress1.png\" alt=\"dress1\"></button></td>\n",
    "    </tr>\n",
    "    <tr>\n",
    "      <td><button onclick=\"dressbtn(1)\"><img src=\"images/dresses/dress2.png\" alt=\"dress2\"></button></td>\n",
    "    </tr>\n",
    "  </table>\n",
    "</div>\n",
    "<div class=\"content-item\" id=\"shirt-content\">\n",
    "  <table>\n",
    "    <tr>\n",
    "      <td><button onclick=\"shirtbtn(0)\"><img src=\"images/zcropped/top1c.png\" alt=\"shirt1\"></button></td>\n",
    "    </tr>\n",
    "    <tr>\n",
    "      <td><button onclick=\"shirtbtn(1)\"><img src=\"images/zcropped/top2c.png\" alt=\"shirt2\"></button></td>          \n",
    "    </tr>\n",
    "    <tr>\n",
    "      <td><button onclick=\"shirtbtn(2)\"><img src=\"images/zcropped/top3c.png\" alt=\"shirt3\"></button></td>        \n",
    "    </tr>\n",
    "    <tr>\n",
    "      <td><button onclick=\"shirtbtn(3)\"><img src=\"images/zcropped/top4c.png\" alt=\"shirt4\"></button></td>           \n",
    "    </tr>\n",
    "  </table>\n",
    "</div>\n",
    "<div class=\"content-item\" id=\"pants-content\">\n",
    "  <table>\n",
    "    <tr>\n",
    "      <td><button onclick=\"pantsbtn(0)\"><img src=\"images/zcropped/bottom1c.png\" alt=\"pants1\"></button></td>           \n",
    "    </tr>\n",
    "    <tr>\n",
    "      <td><button onclick=\"pantsbtn(1)\"><img src=\"images/zcropped/bottom2c.png\" alt=\"pants2\"></button></td>          \n",
    "    </tr>\n",
    "    <tr>\n",
    "      <td><button onclick=\"pantsbtn(2)\"><img src=\"images/zcropped/bottom3c.png\" alt=\"pants3\"></button></td>           \n",
    "    </tr>\n",
    "    <tr>\n",
    "      <td><button onclick=\"pantsbtn(3)\"><img src=\"images/zcropped/bottom4c.png\" alt=\"pants4\"></button></td>          \n",
    "    </tr>\n",
    "    <tr>\n",
    "      <td><button onclick=\"pantsbtn(4)\"><img src=\"images/zcropped/bottom5c.png\" alt=\"pants5\"></button></td>          \n",
    "    </tr>\n",
    "    <tr>\n",
    "      <td><button onclick=\"pantsbtn(5)\"><img src=\"images/zcropped/bottom6c.png\" alt=\"pants6\"></button></td>         \n",
    "    </tr>\n",
    "  </table>\n",
    "</div>\n",
    "<div class=\"content-item\" id=\"shoes-content\">\n",
    "  <table>\n",
    "    <tr>\n",
    "      <td><button onclick=\"shoesbtn(0)\"><img src=\"images/zcropped/shoe1c.png\" alt=\"shoe1\"></button></td>\n",
    "    </tr>\n",
    "    <tr>\n",
    "      <td><button onclick=\"shoesbtn(1)\"><img src=\"images/zcropped/shoe2c.png\" alt=\"shoe2\"></button></td>\n",
    "    </tr>\n",
    "    <tr>\n",
    "      <td><button onclick=\"shoesbtn(2)\"><img src=\"images/zcropped/shoe3c.png\" alt=\"shoe3\"></button></td>\n",
    "    </tr>\n",
    "    <tr>\n",
    "      <td><button onclick=\"shoesbtn(3)\"><img src=\"images/zcropped/shoe4c.png\" alt=\"shoe4\"></button></td>\n",
    "    </tr>\n",
    "    <tr>\n",
    "      <td><button onclick=\"shoesbtn(4)\"><img src=\"images/zcropped/shoe5c.png\" alt=\"shoe5\"></button></td>\n",
    "    </tr>\n",
    "  </table>\n",
    "</div>"
   ]
  },
  {
   "attachments": {},
   "cell_type": "markdown",
   "metadata": {},
   "source": [
    "Upon click of the image/button, a function with an index is called. Each element, or piece of clothing, has a different assigned index. If the user selects the first shirt as the shirt they'd like to put on their doll: "
   ]
  },
  {
   "cell_type": "code",
   "execution_count": null,
   "metadata": {
    "vscode": {
     "languageId": "javascript"
    }
   },
   "outputs": [],
   "source": [
    "\n",
    "var shirtcanvas = document.getElementById('shirt');\n",
    "var shirtcontext = shirtcanvas.getContext('2d');\n",
    "\n",
    "\n",
    "var shirtImages = [\n",
    "  'https://raw.githubusercontent.com/codecouturebaddies/codec/gh-pages/images/tops/top1.png',\n",
    "  'https://raw.githubusercontent.com/codecouturebaddies/codec/gh-pages/images/tops/top2.png',\n",
    "  'https://raw.githubusercontent.com/codecouturebaddies/codec/gh-pages/images/tops/top3.png',\n",
    "  \"https://raw.githubusercontent.com/codecouturebaddies/codec/gh-pages/images/tops/top4.png\",\n",
    "];\n",
    "\n",
    "var shirtImage = new Image();\n",
    "var shirtIndex = -1; // Track the current shirt index\n",
    "var shirtVisible = false; // Flag to track shirt visibility\n",
    "\n",
    "function shirtbtn(index) {\n",
    "  if (index === shirtIndex) {\n",
    "    // Same button clicked again\n",
    "    if (shirtVisible) {\n",
    "      shirtcontext.clearRect(0, 0, shirtcanvas.width, shirtcanvas.height);\n",
    "      shirtVisible = false;\n",
    "    } else {\n",
    "      shirtcontext.drawImage(shirtImage, 0, 0, shirtcanvas.width, shirtcanvas.height);\n",
    "      shirtVisible = true;\n",
    "    }\n",
    "  } else {\n",
    "    // Different button clicked, update the current index and display the shirt\n",
    "    shirtIndex = index;\n",
    "    shirtImage.onload = function() {\n",
    "      shirtcontext.clearRect(0, 0, shirtcanvas.width, shirtcanvas.height);\n",
    "      shirtcontext.drawImage(shirtImage, 0, 0, shirtcanvas.width, shirtcanvas.height);\n",
    "      shirtVisible = true;\n",
    "    };\n",
    "    shirtImage.src = shirtImages[index];\n",
    "  }\n",
    "}"
   ]
  },
  {
   "attachments": {},
   "cell_type": "markdown",
   "metadata": {},
   "source": [
    "The index of the first shirt is 0, so when the function shirtbtn() is called, 0 is the index used throughout the function. First, it checks whether 0 is already the index, aka if the shirt is already on the doll. If it is, which means the user has already clicked on the same shirt before, it will remove the shirt. It will do this by clearing the shirtcanvas. If the index was previously a different number, then 0 will be assigned to the index. The image comes from the shirtImages list, and the image at index 0 will be called. This is the first shirt in the list, and it will be drawn on the shirt canvas, appearing right on top of the base body. <br>\n",
    "*The original index of shirtIndex is -1, to represent that no shirt is chosen. <br>\n",
    "*If the canvas is cleared, shirtVisible is false. \n",
    "\n",
    "The function is the approximately the same for the dresses, shirts, pants, and shoes. The hair is a little different:"
   ]
  },
  {
   "cell_type": "code",
   "execution_count": null,
   "metadata": {
    "vscode": {
     "languageId": "html"
    }
   },
   "outputs": [],
   "source": [
    "<div id=\"hairbox\">\n",
    "    <div class=\"body-arrow\" id=\"L-arrow\">\n",
    "    <i class=\"fa fa-solid fa-angle-left fa-3x\" id=\"hairbtn-L\" onclick=\"hairbtnL()\"></i>\n",
    "    </div>\n",
    "    <canvas id=\"hairDcanvas\"></canvas>\n",
    "    <div class=\"body-arrow\" id=\"R-arrow\">\n",
    "    <i class=\"fa fa-solid fa-angle-right fa-3x\" id=\"hairbtn-R\" onclick=\"hairbtnR()\"></i>\n",
    "    </div>\n",
    "</div>\n",
    "<div id=\"hair-setting\">\n",
    "    <div><button id=\"hairundo\" onclick=\"hairundobtn()\"> Remove </button></div>\n",
    "</div>"
   ]
  },
  {
   "attachments": {},
   "cell_type": "markdown",
   "metadata": {},
   "source": [
    "The user is able to click arrows in order to select the hair that they want. The hair selected will be displayed on the menu as well as on the doll. "
   ]
  },
  {
   "cell_type": "code",
   "execution_count": null,
   "metadata": {
    "vscode": {
     "languageId": "javascript"
    }
   },
   "outputs": [],
   "source": [
    "\n",
    "var haircanvas = document.getElementById('hair');\n",
    "var haircontext = haircanvas.getContext('2d');\n",
    "var hairDcanvas = document.getElementById('hairDcanvas');\n",
    "var hairDcontext = hairDcanvas.getContext('2d');\n",
    "\n",
    "var hairImages = [\n",
    "  'https://raw.githubusercontent.com/codecouturebaddies/codec/gh-pages/images/hair/hairL-Bla.png',\n",
    "  'https://raw.githubusercontent.com/codecouturebaddies/codec/gh-pages/images/hair/hairL-Blo.png',\n",
    "  'https://raw.githubusercontent.com/codecouturebaddies/codec/gh-pages/images/hair/hairL-Bro.png',\n",
    "  \"https://raw.githubusercontent.com/codecouturebaddies/codec/gh-pages/images/hair/hairL-G.png\",\n",
    "  \"https://raw.githubusercontent.com/codecouturebaddies/codec/gh-pages/images/hair/hairS-Bla.png\",\n",
    "  \"https://raw.githubusercontent.com/codecouturebaddies/codec/gh-pages/images/hair/hairS-Blo.png\",\n",
    "  \"https://raw.githubusercontent.com/codecouturebaddies/codec/gh-pages/images/hair/hairS-Bro.png\",\n",
    "  \"https://raw.githubusercontent.com/codecouturebaddies/codec/gh-pages/images/hair/hairS-G.png\",\n",
    "];\n",
    "\n",
    "\n",
    "var hairImage = new Image();\n",
    "var hairIndex = -1; // Track the current hair index\n",
    "var hairVisible = false; // Flag to track hair visibility\n",
    "\n",
    "function hairbtnL() {\n",
    "  hairIndex--;\n",
    "  if (hairIndex < 0) {\n",
    "    hairIndex = hairImages.length - 1;\n",
    "  }\n",
    "  hairbtn(hairIndex);\n",
    "}\n",
    "\n",
    "function hairbtnR() {\n",
    "  hairIndex++;\n",
    "  if (hairIndex >= hairImages.length) {\n",
    "    hairIndex = 0;\n",
    "  }\n",
    "  hairbtn(hairIndex);\n",
    "}\n",
    "\n",
    "function hairbtn(index) {\n",
    "  if (hairundo === true) {\n",
    "    document.querySelector('#hairundo').innerHTML = 'REMOVE';\n",
    "    hairundo = false;\n",
    "  }\n",
    "  hairIndex = index;\n",
    "  hairImage.src = hairImages[index];\n",
    "  hairImage.onload = function() {\n",
    "    haircontext.clearRect(0, 0, haircanvas.width, haircanvas.height);\n",
    "    haircontext.drawImage(hairImage, 0, 0, haircanvas.width, haircanvas.height);\n",
    "    \n",
    "    hairDcontext.clearRect(0, 0, hairDcanvas.width, hairDcanvas.height);    \n",
    "    hairDcontext.drawImage(hairImage, 0, 0, hairDcanvas.width, 350);\n",
    "  };\n",
    "}\n",
    "\n",
    "var hairundo = false;\n",
    "\n",
    "function hairundobtn() {\n",
    "  haircontext.clearRect(0, 0, canvas.width, canvas.height);\n",
    "  hairundo = true;\n",
    "  document.querySelector('#hairundo').innerHTML = 'remove';\n",
    "}\n"
   ]
  },
  {
   "attachments": {},
   "cell_type": "markdown",
   "metadata": {},
   "source": [
    "haircanvas is the one on the doll, hairdcanvas is the one in the menu. The same image is displayed on both. When the user clicks the right arrow button, the hair index increases by one. If the index is more than how many hair items there are, 0 is assigned, which is the first one. When the user clicks left, hair index decreases. If the index becomes less than 0, the last in the list is assigned. Once the arrow is clicked, hairbtn() is called, with the index assigned after increasing or decreasing the previous value. From here, the function is very similar to the other clothing items, except, there is no visibility tracked, instead there is a remove button. The images are drawn on the canvas the same way. If the user clicks the REMOVE button, the canvas is cleared, leaving the doll bald. However, the previous hair will still be displayed on the menu, with the index saved, so if the user clicks the arrow again, the hair list will be at the same place. "
   ]
  },
  {
   "attachments": {},
   "cell_type": "markdown",
   "metadata": {},
   "source": [
    "That is the aspects of our simple Code Couture dress up game. Happy styling!"
   ]
  }
 ],
 "metadata": {
  "language_info": {
   "name": "python"
  },
  "orig_nbformat": 4
 },
 "nbformat": 4,
 "nbformat_minor": 2
}

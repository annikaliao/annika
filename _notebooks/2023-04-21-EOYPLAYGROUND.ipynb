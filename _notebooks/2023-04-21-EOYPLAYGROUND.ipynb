{
 "cells": [
  {
   "attachments": {},
   "cell_type": "markdown",
   "metadata": {},
   "source": [
    "# P4-M 4/24 Big Idea 3\n",
    "> Lesson about Big Idea 3\n",
    "- author: Finn, Edwin, Zeen, Gene, James, Kush, Luka\n",
    "- toc: true\n",
    "- comments: true\n",
    "- week: 30\n",
    "- type: ap\n",
    "- categories: [student]\n",
    "- layout: base"
   ]
  },
  {
   "attachments": {},
   "cell_type": "markdown",
   "metadata": {},
   "source": [
    "## Introduction: Zeen\n",
    "Hello, my name is zeen and today we will be presenting big idea 3. Our topics include 2d arrays, iteration, and lists and dictionaries.\n",
    "\n",
    "### Objectives\n",
    "Master the concepts of iteration, list, 2d-arrays, Dictionaries, and APIs\n",
    "\n",
    "### Vocab\n",
    "Here is some vocab during the lesson, you should be familar with them already no need for me to read these out, now I will pass the speaking off to Kush\n",
    "\n",
    "\n",
    "\n",
    "- **Iteration**: A process that repates itself\n",
    "- **Array**: Sometimes called a list, can keep strings and intergers inside it\n",
    "- **2D-Array**: A collection of data elements arranged in a grid-like structure with rows and columns\n",
    "- **Mutable**:  the ability to be changed or modified \n",
    "- **Key**: A Singular identifier that is associated with a certin value\n"
   ]
  },
  {
   "attachments": {},
   "cell_type": "markdown",
   "metadata": {},
   "source": [
    "## 1: 2D Array\n",
    "> Tic Tac Toe: Kush Sirohi\n",
    "\n",
    "- What are some examples of 2d Arrays\n",
    "- \n",
    "- What is a modern day game that could be classified as a 2D array\n",
    "- "
   ]
  },
  {
   "cell_type": "code",
   "execution_count": 1,
   "metadata": {},
   "outputs": [
    {
     "name": "stdout",
     "output_type": "stream",
     "text": [
      "This is a normal array: ['Hello', 'Hi', 'Whats up']\n",
      "This is a 2D array\n",
      "['Name', 'ID', 'Age']\n",
      "['Kush', '1', '16']\n",
      "['Finn', '2', '16']\n"
     ]
    }
   ],
   "source": [
    "array = [\"Hello\", \"Hi\", \"Whats up\"]\n",
    "twoDArray = [[\"Name\", \"ID\", \"Age\"], [\"Kush\", \"1\", \"16\"], [\"Finn\", \"2\", \"16\"]]\n",
    "\n",
    "print(f\"This is a normal array: {array}\")\n",
    "\n",
    "print(\"This is a 2D array\")\n",
    "for row in twoDArray:\n",
    "    print(row)"
   ]
  },
  {
   "attachments": {},
   "cell_type": "markdown",
   "metadata": {},
   "source": [
    "## How I used 2D Arrays (game example)\n",
    "- Describe a 2D array in your own words\n",
    "  - A 2d array is basically a list within a list"
   ]
  },
  {
   "cell_type": "code",
   "execution_count": 3,
   "metadata": {},
   "outputs": [
    {
     "name": "stdout",
     "output_type": "stream",
     "text": [
      "   0   1   2\n",
      "0        \n",
      "1        \n",
      "2        \n",
      "   0   1   2\n",
      "0        \n",
      "1    X   \n",
      "2        \n",
      "   0   1   2\n",
      "0        \n",
      "1    X O \n",
      "2        \n",
      "   0   1   2\n",
      "0        \n",
      "1    X O \n",
      "2  X     \n",
      "   0   1   2\n",
      "0        \n",
      "1  O X O \n",
      "2  X     \n",
      "   0   1   2\n",
      "0      X \n",
      "1  O X O \n",
      "2  X     \n",
      "X wins!\n"
     ]
    }
   ],
   "source": [
    "board = [[' ', ' ', ' '],\n",
    "         [' ', ' ', ' '],\n",
    "         [' ', ' ', ' ']]\n",
    "         \n",
    "# Function to print the current state of the game board\n",
    "def print_board():\n",
    "    print(\"   0   1   2\")\n",
    "    for i in range(3):\n",
    "        print(i, end='  ')\n",
    "        for j in range(3):\n",
    "            print(board[i][j], end=' ')\n",
    "        print()\n",
    "\n",
    "# Function to check if a player has won the game\n",
    "def check_win(player):\n",
    "    # Check rows for a win\n",
    "    for i in range(3):\n",
    "        if board[i][0] == player and board[i][1] == player and board[i][2] == player:\n",
    "            return True\n",
    "    # Check columns for a win\n",
    "    for j in range(3):\n",
    "        if board[0][j] == player and board[1][j] == player and board[2][j] == player:\n",
    "            return True\n",
    "    # Check diagonals for a win\n",
    "    if board[0][0] == player and board[1][1] == player and board[2][2] == player:\n",
    "        return True\n",
    "    if board[0][2] == player and board[1][1] == player and board[2][0] == player:\n",
    "        return True\n",
    "    # If no win condition is met, return False\n",
    "    return False\n",
    "\n",
    "# Function to check if the game is a tie\n",
    "def check_tie():\n",
    "    for i in range(3):\n",
    "        for j in range(3):\n",
    "            if board[i][j] == ' ':\n",
    "                return False\n",
    "    return True\n",
    "\n",
    "# Function to play the game\n",
    "def play_game():\n",
    "    # Initialize player and turn counter\n",
    "    player = 'X'\n",
    "    turns = 0\n",
    "    # Loop until the game is over\n",
    "    while True:\n",
    "        # Print the current state of the board\n",
    "        print_board()\n",
    "        # Get the player’s move\n",
    "        row = int(input(f\"{player}'s turn. Enter row (0-2): \"))\n",
    "        col = int(input(f\"{player}'s turn. Enter column (0-2): \"))\n",
    "        # Check if the move is valid\n",
    "        if board[row][col] == ' ':\n",
    "            board[row][col] = player\n",
    "            turns += 1\n",
    "            # Check if the player has won\n",
    "            if check_win(player):\n",
    "                print_board()\n",
    "                print(f\"{player} wins!\")\n",
    "                return\n",
    "            # Check if the game is a tie\n",
    "            if check_tie():\n",
    "                print_board()\n",
    "                print(\"It's a tie!\")\n",
    "                return\n",
    "            # Switch players\n",
    "            player = 'O' if player == 'X' else 'X'\n",
    "        else:\n",
    "            print(\"That space is already taken. Try again.\")\n",
    "\n",
    "# Start the game\n",
    "play_game()\n"
   ]
  },
  {
   "attachments": {},
   "cell_type": "markdown",
   "metadata": {},
   "source": [
    "## 2: Iteration\n",
    "> Robot Game: Finn Carpenter\n",
    "- What is the defenition of iteration in your own words\n",
    "- "
   ]
  },
  {
   "cell_type": "code",
   "execution_count": 4,
   "metadata": {},
   "outputs": [
    {
     "name": "stdout",
     "output_type": "stream",
     "text": [
      "hi\n",
      "hi\n",
      "hi\n",
      "hi\n",
      "hi\n",
      "hello\n",
      "hello\n",
      "hello\n",
      "hello\n",
      "hello\n",
      "hello\n",
      "1\n",
      "2\n",
      "3\n",
      "4\n",
      "5\n"
     ]
    }
   ],
   "source": [
    "### Different methods of iteration\n",
    "\n",
    "times = 0\n",
    "numbers = [1, 2, 3, 4, 5]\n",
    "\n",
    "## Loops\n",
    "for i in range(5):\n",
    "    print(\"hi\")\n",
    "\n",
    "\n",
    "while times <= 5:\n",
    "    print(\"hello\")\n",
    "    times = times + 1\n",
    "\n",
    "## Function with a parameters\n",
    "def print_numbers(x):\n",
    "    for num in x:\n",
    "        print(num)\n",
    "\n",
    "print_numbers(numbers)\n",
    "\n"
   ]
  },
  {
   "attachments": {},
   "cell_type": "markdown",
   "metadata": {},
   "source": [
    "## Iteration Game\n",
    "- [Link to the game](https://f1nnc.github.io/Playground/robot)\n",
    "- Play the levels (only play the first 2 in class)\n",
    "- Explain how the game relates to itertation\n",
    "- "
   ]
  },
  {
   "attachments": {},
   "cell_type": "markdown",
   "metadata": {},
   "source": [
    "## How I used iteration (game example)\n",
    "- What parts of the code use iteration\n",
    "    - The for loops that push the movement controls to the array`"
   ]
  },
  {
   "cell_type": "code",
   "execution_count": null,
   "metadata": {
    "vscode": {
     "languageId": "javascript"
    }
   },
   "outputs": [],
   "source": [
    "function run() {\n",
    "    // Read input values from the HTML document and convert them to integers.\n",
    "    UPinput = parseInt(document.getElementById(\"up\").value);\n",
    "    DOWNinput = parseInt(document.getElementById(\"down\").value);\n",
    "    LEFTinput = parseInt(document.getElementById(\"left\").value);\n",
    "    RIGHTinput = parseInt(document.getElementById(\"right\").value);\n",
    "    looper = parseInt(document.getElementById(\"loop\").value);\n",
    "\n",
    "    runner.style.opacity = 0;\n",
    "    \n",
    "\n",
    "    // Create an array to hold the movements.\n",
    "    let movements = [];\n",
    "\n",
    "    // Push 'up' movements to the array.\n",
    "    for (let l = 0; l < looper; l++) {\n",
    "        for (let k = 0; k < UPinput; k++) {\n",
    "            movements.push(up);\n",
    "        }\n",
    "\n",
    "        // Push 'down' movements to the array.\n",
    "        for (let i = 0; i < DOWNinput; i++) {\n",
    "            movements.push(down);\n",
    "        }\n",
    "\n",
    "        // Push 'left' movements to the array.\n",
    "        for (let a = 0; a < LEFTinput; a++) {\n",
    "            movements.push(left);\n",
    "        }\n",
    "\n",
    "        // Push 'right' movements to the array.\n",
    "        for (let c = 0; c < RIGHTinput; c++) {\n",
    "            movements.push(right);\n",
    "        }\n",
    "    }\n",
    "\n",
    "\n",
    "    // Set the initial index to 0 and execute each movement in sequence with a delay of 800 milliseconds.\n",
    "    let index = 0;\n",
    "    let intervalId = setInterval(() => {\n",
    "        // If the end of the movements array has been reached, stop executing movements.\n",
    "        if (index >= movements.length) {\n",
    "            clearInterval(intervalId);\n",
    "            win(); // Call the win function.\n",
    "            return;\n",
    "        }\n",
    "        movements[index](); // Execute the movement at the current index.\n",
    "        index++; // Increment the index.\n",
    "    }, 800);\n",
    "}"
   ]
  },
  {
   "attachments": {},
   "cell_type": "markdown",
   "metadata": {},
   "source": [
    "## 3: List and Dictionaries\n",
    "> Scramble Game: Edwin \n"
   ]
  },
  {
   "cell_type": "code",
   "execution_count": 5,
   "metadata": {},
   "outputs": [
    {
     "name": "stdout",
     "output_type": "stream",
     "text": [
      "1\n",
      "Hi\n"
     ]
    }
   ],
   "source": [
    "# List and Dictonary Example\n",
    "\n",
    "List = [1, 2, 3, 4, 5]\n",
    "Dict = {\n",
    "    1: \"Hi\",\n",
    "    2: \"Hello\",\n",
    "    3: \"Whats Up\"\n",
    "}\n",
    "\n",
    "# Why Do I call 0 for the first thing in a list, but 1 for Dict\n",
    "# The index of a list starts at 0\n",
    "\n",
    "print(List[0])\n",
    "print(Dict[1])"
   ]
  },
  {
   "attachments": {},
   "cell_type": "markdown",
   "metadata": {},
   "source": [
    "## How I used a dictonary to make a game\n",
    "> Memory Game: James\n",
    "- [Link](https://f1nnc.github.io/Playground/memory2)\n",
    "- ![Code](https://nighthawkcoders.github.io/APCSP/images/jamescode.png)"
   ]
  },
  {
   "attachments": {},
   "cell_type": "markdown",
   "metadata": {},
   "source": [
    "## How I used List to make a game\n",
    "- Explain which parts of the code use lists\n",
    "- \n",
    "- Explain what list manipulation is happening in that part\n",
    "- "
   ]
  },
  {
   "cell_type": "code",
   "execution_count": 7,
   "metadata": {},
   "outputs": [
    {
     "name": "stdout",
     "output_type": "stream",
     "text": [
      "Unscramble the following Computer Science Word: teldeion\n",
      "Congratulations, you unscrambled the word!\n"
     ]
    }
   ],
   "source": [
    "import random\n",
    "\n",
    "word_list = [\"python\", \"computer\", \"programming\", \"algorithm\", \"database\", \"function\", \"variable\", \"loop\", \"iteration\", \"array\", \"mutable\", \"insertion\", \"deletion\", \"key\", \"API\"]\n",
    "\n",
    "word = random.choice(word_list)\n",
    "\n",
    "scrambled_word = \"\".join(random.sample(word, len(word)))\n",
    "\n",
    "print(f\"Unscramble the following Computer Science Word: {scrambled_word}\")\n",
    "\n",
    "hints = 1\n",
    "guesses = 1\n",
    "guess = \"\"\n",
    "\n",
    "while guess != word and guesses <= 4:\n",
    "    guess = input(\"What's the unscrambled word? \").lower()\n",
    "    if guess != word:\n",
    "        print(\"Sorry, that's not the word. Try again!\")\n",
    "        if guesses == 1:\n",
    "            guesses += 1\n",
    "        elif guesses == 2:\n",
    "            print(f\"Hint 1: The first letter of the word is '{word[0]}'\")\n",
    "            guesses += 1\n",
    "        elif guesses == 3:\n",
    "            print(f\"Hint 2: The second letter of the word is '{word[1]}'\")\n",
    "            guesses += 1\n",
    "        else:\n",
    "            print(f\"All 4 Guesses have been used, you didn't unscramble the word, the word was {word}\")\n",
    "            guesses += 1\n",
    "    else:\n",
    "        print(\"Congratulations, you unscrambled the word!\")"
   ]
  },
  {
   "attachments": {},
   "cell_type": "markdown",
   "metadata": {},
   "source": [
    "# Hacks\n",
    "> Self grade: 0.93/1.0\n",
    "\n",
    "## General 0.3\n",
    "- [x] Copy this noteboook into your personal fastpages\n",
    "- [x] Answer all questions\n",
    "  1. What are some examples of 2D arrays?\n",
    "     - Spreadsheets, images, chessboard, etc. They all consist of rows and columns.\n",
    "  2. What is a modern day game that could be classified as a 2D array?\n",
    "     - Sudoku is a 2D array game. The game is played on a 9x9 grid of squares, which is rows and columns, so it can be conisdered a 2D array. \n",
    "  3. Describe a 2D array in your own words\n",
    "     - A 2D array is a data collection type where data is indexed by two indices. It is visually comprised of 2 dimensions (hence 2D), which are rows and columns, so it is structured like a table. It can also be visualized as a collection of arrays, with each array representing a row of data (basically lists within a list).\n",
    "  4. What is the definition of iteration in your own words\n",
    "     - Iteration is the process of repeating an operation or block of code multiple times. This usually takes place in a loop, until a condition is met, then it stops. \n",
    "  5. Explain how the game relates to iteration\n",
    "     - Iteration is used to create an array of movements and execute them in a sequence. It allows the code to repeat the certain instruction a certain amount of times. Without it, the code would manually execute each movement, which is not efficient. \n",
    "  6. What parts of the code use iteration\n",
    "     - There are several for loops in the code. The one that iterates over the looper variable determines how many times the set of movements should be excuted. The four for loops within that add movement to the array.\n",
    "  7. Explain which parts of the code use lists\n",
    "     - At the beginning of the code, a list of string words are assigned to the variable word_list. The random module selects one of these items from the list to scramble for the game\n",
    "  8. Explain what list manipulation is happening in that part\n",
    "     - There is list manipulation happening through the random.sample() function. The function returns a list of the string scrambled. The items of the list is being manipulated, by having the letters be mixed up. \n",
    "\n",
    "## Iteration 0.2 (can get up to 0.23)\n",
    " - [x] Get to level 5\n",
    "    1. <img src=\"https://i.imgur.com/L9eoFeH.jpg\" width= \"50%\">\n",
    "    2. <img src=\"https://i.imgur.com/YCebjy5.jpg\" width= \"50%\">\n",
    "    3. <img src=\"https://i.imgur.com/aEbP8pt.jpg\" width= \"50%\">\n",
    "    4. <img src=\"https://i.imgur.com/teT8eYq.jpg\" width= \"50%\">\n",
    "    5. <img src=\"https://i.imgur.com/IJ8vi4R.jpg\" width= \"50%\">\n",
    " - [x] Create a code segment with iteration that does something cool"
   ]
  },
  {
   "cell_type": "code",
   "execution_count": 19,
   "metadata": {},
   "outputs": [
    {
     "name": "stdout",
     "output_type": "stream",
     "text": [
      "5 is too high.\n",
      "3 is too low.\n",
      "You guessed the number! You win.\n"
     ]
    }
   ],
   "source": [
    "import random\n",
    "\n",
    "def play_game():\n",
    "    answer = random.randint(1, 10) # generate random number between 1 and 10\n",
    "    guess_count = 0 #count number of guesses\n",
    "    \n",
    "    while guess_count < 3: # user only gets 3 guesses\n",
    "        guess = int(input(\"Guess a number between 1 and 10: \")) # get user input\n",
    "        guess_count += 1 # add to the guess count\n",
    "        \n",
    "        if guess == answer: # check if guess is correct\n",
    "            print(\"You guessed the number! You win.\")\n",
    "            return # end game\n",
    "        elif guess < answer:\n",
    "            print(guess, \"is too low.\")\n",
    "        else:\n",
    "            print(guess, \"is too high.\")\n",
    "    \n",
    "    # user loses if they reach 3 guesses, and does not guess correctly\n",
    "    print(\"You didn't guess the number. Game over.\")\n",
    "\n",
    "play_game() # start the game"
   ]
  },
  {
   "attachments": {},
   "cell_type": "markdown",
   "metadata": {},
   "source": [
    "## 2D array 0.2 (can get up to 0.23)\n",
    " - [x] Explain how the tic tac toe game works\n",
    "   - The tic tac toe game uses a 2d array to represent a 3x3 board. It initially starts off empty, and is printed to the user. The user is instructed to enter the value of the row and column of where they want to position their X or O symbol. If the move is valid (position not already taken), then the board is updated with the symbol in place. Then, the check_win() function checks whether there are any instances of 3 X's or 3 O's in a row, vertically, horizontally, or diagonally. If there are, then the game ends and the winner is declared. A tie can also be checked, when all the spaces are filled up and there are no wins. The game continues in a loop, where each player inputs the position of their respective symbol, until a player wins or there is a tie.\n",
    " - [x] Give 3 Examples of games that can be made from 2D arrays\n",
    "   1. Snake: The game board is made up of a grid of cells, and the values in the array represent the snake and the apple\n",
    "      - Here is me and my groupmate's own snake game with a 2d grid: [Snake](https://ec-2-gal.github.io/TeamWebsite/snake)\n",
    "   2. Sudoku: The puzzle is made up of a 9x9 grid, and the values in the arrays contain the value of a cell in the grid\n",
    "   3. Tetris: The game is made up of a grid of cells, and each cell can either be empty or occupied by a piece\n",
    "\n",
    "## List and Dictionaries 0.2 (can get up to 0.23)\n",
    " - [x] Explain the differences between Lists and Dictionaries\n",
    "   - They are both data collection structures in Python. However, here are some of their differences: \n",
    "      | | Dictionary | List |\n",
    "      | --- | --- | --- |\n",
    "      | Syntax | Curly brackets | Square brackets |\n",
    "      | Indexing | Keys, which may be represented by any data type | Integer indexes |\n",
    "      | Order | Unordered collection of key-value pairs | Ordered collection, order of elements is preserved |\n",
    "      | Duplication | Cannot contain duplicates | Can contain duplicates |\n",
    "      | Pros | - Easy search/lookup <br> - Flexible key types | - Ordered <br> - Allows duplicates <br> - Easy iteration |\n",
    "      | Cons | - Unordered <br> - Keys must be unique | - Slow lookup <br> - Fixed index | \n",
    " - [x] Make a code block that manipulates either a list or a dictionary"
   ]
  },
  {
   "cell_type": "code",
   "execution_count": 25,
   "metadata": {},
   "outputs": [
    {
     "name": "stdout",
     "output_type": "stream",
     "text": [
      "Humbug by Arctic Monkeys\n",
      "1. My Propeller (214 seconds)\n",
      "2. Crying Lightning (204 seconds)\n",
      "3. Dangerous Animals (220 seconds)\n",
      "4. Secret Door (182 seconds)\n",
      "5. Potion Approaching (238 seconds)\n",
      "6. Fire and the Thud (230 seconds)\n",
      "7. Cornerstone (201 seconds)\n",
      "8. Dance Little Liar (336 seconds)\n",
      "9. Pretty Visitors (234 seconds)\n",
      "10. The Jeweller's Hands (345 seconds)\n",
      "\n",
      " Updated track listing:\n",
      "1. My Propeller (214 seconds)\n",
      "2. Crying Lightning (204 seconds)\n",
      "3. Dangerous Animals (220 seconds)\n",
      "4. Secret Door (182 seconds)\n",
      "5. Potion Approaching (238 seconds)\n",
      "6. Fire and the Thud (230 seconds)\n",
      "7. Cornerstone (201 seconds)\n",
      "8. Dance Little Liar (336 seconds)\n",
      "9. Pretty Visitors (234 seconds)\n",
      "10. The Jeweller's Hands (345 seconds)\n",
      "11. Catapult (215 seconds)\n",
      "\n",
      " Total duration of the album: 2619 seconds\n"
     ]
    }
   ],
   "source": [
    "# Humbug album by Arctic Monkeys in a dictionary\n",
    "album = {\n",
    "    'title': 'Humbug',\n",
    "    'artist': 'Arctic Monkeys',\n",
    "    'year': 2009,\n",
    "    'songs': [\n",
    "        {'title': 'My Propeller', 'duration': 214},\n",
    "        {'title': 'Crying Lightning', 'duration': 204},\n",
    "        {'title': 'Dangerous Animals', 'duration': 220},\n",
    "        {'title': 'Secret Door', 'duration': 182},\n",
    "        {'title': 'Potion Approaching', 'duration': 238},\n",
    "        {'title': 'Fire and the Thud', 'duration': 230},\n",
    "        {'title': 'Cornerstone', 'duration': 201},\n",
    "        {'title': 'Dance Little Liar', 'duration': 336},\n",
    "        {'title': 'Pretty Visitors', 'duration': 234},\n",
    "        {'title': 'The Jeweller\\'s Hands', 'duration': 345},\n",
    "    ]\n",
    "}\n",
    "\n",
    "# Print the album's title and artist\n",
    "print(f\"{album['title']} by {album['artist']}\")\n",
    "\n",
    "# Print the tracks with durations\n",
    "for i, song in enumerate(album['songs']):\n",
    "    print(f\"{i+1}. {song['title']} ({song['duration']} seconds)\")\n",
    "\n",
    "# Add a new song to the album (manipulation)\n",
    "new_song = {'title': 'Catapult', 'duration': 215}\n",
    "album['songs'].append(new_song)\n",
    "\n",
    "# Print the updated track listing with durations\n",
    "print(\"\\n Updated track listing:\")\n",
    "for i, song in enumerate(album['songs']):\n",
    "    print(f\"{i+1}. {song['title']} ({song['duration']} seconds)\")\n",
    "\n",
    "# Calculate the total duration of the album\n",
    "total_duration = sum(song['duration'] for song in album['songs'])\n",
    "print(f\"\\n Total duration of the album: {total_duration} seconds\")"
   ]
  },
  {
   "attachments": {},
   "cell_type": "markdown",
   "metadata": {},
   "source": [
    "## How my CPT relates to iteration (extra points):\n",
    "A for loop is used to iterate over the period cycle dates that were calculated. For each cycle, the start and end dates are retrieved from the corresponding list returned by the \"calculateDates()\" function. Depending on the value of the loop variable i, the output is displayed. Once the loop has been completed, the function will be finished displaying the interface with menstrual cycle dates and any identified notice messages."
   ]
  }
 ],
 "metadata": {
  "kernelspec": {
   "display_name": "base",
   "language": "python",
   "name": "python3"
  },
  "language_info": {
   "codemirror_mode": {
    "name": "ipython",
    "version": 3
   },
   "file_extension": ".py",
   "mimetype": "text/x-python",
   "name": "python",
   "nbconvert_exporter": "python",
   "pygments_lexer": "ipython3",
   "version": "3.9.12"
  },
  "orig_nbformat": 4
 },
 "nbformat": 4,
 "nbformat_minor": 2
}

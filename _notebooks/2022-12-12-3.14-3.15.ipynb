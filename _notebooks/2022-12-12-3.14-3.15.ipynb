{
 "cells": [
  {
   "attachments": {},
   "cell_type": "markdown",
   "metadata": {},
   "source": [
    "# Lesson 3.14 and 3.15\n",
    "> Notes, questions, and hacks\n",
    "\n",
    "- toc: true \n",
    "- badges: true\n",
    "- comments: false\n",
    "- categories: [jupyter]"
   ]
  },
  {
   "attachments": {},
   "cell_type": "markdown",
   "metadata": {},
   "source": [
    "## Notes\n",
    "\n",
    "- A software library contians procedures that can be used in creation of new programs\n",
    "- existing segments of code can come from internal or external sources\n",
    "    - Libraries, or previously written code\n",
    "- APIs are specificagions for procedures in a library\n",
    "- Documentation for library or API is necessary in understanding key behaviors and how to utilize\n",
    "- **library**: collection of code from an external source that can be used to add functionality to a program\n",
    "    - Saves time and effort in development\n",
    "    - Implemented using keyword \" .\", tells program to look for library\n",
    "- Randomization generates a value within a range, between 2 numbers\n",
    "- Random includes different methods, such as randit(), seed(), getstate(), etc.\n",
    "- RANDOM(a, b) provides a random integer between a and b"
   ]
  },
  {
   "attachments": {},
   "cell_type": "markdown",
   "metadata": {},
   "source": [
    "## Hacks \n",
    "\n",
    "### Lesson 3.14.1"
   ]
  },
  {
   "cell_type": "code",
   "execution_count": 2,
   "metadata": {},
   "outputs": [
    {
     "name": "stdout",
     "output_type": "stream",
     "text": [
      "Find the hypotenuse of a right triangle!\n",
      "Side a = 3\n",
      "Side b = 4\n",
      "Hypotenuse is 5.0\n"
     ]
    }
   ],
   "source": [
    "import math\n",
    "\n",
    "print(\"Find the hypotenuse of a right triangle!\")\n",
    "\n",
    "a = int(input(\"Input side a\"))\n",
    "print(\"Side a =\", a)\n",
    "b = int(input(\"Input side b\"))\n",
    "print(\"Side b =\", b)\n",
    "\n",
    "def side(x):\n",
    "    return x * x\n",
    "def equation(a, b):\n",
    "    a = side(a)\n",
    "    b = side(b)\n",
    "    result = math.sqrt(a + b)\n",
    "    return result\n",
    "\n",
    "print(\"Hypotenuse is\", equation(a, b))\n"
   ]
  },
  {
   "attachments": {},
   "cell_type": "markdown",
   "metadata": {},
   "source": [
    "I used import math, and created a program that helps you calculate the hypotenuse of a right triangle. The library use is in the function math.sqrt. The function provided the answer in a simple and efficient manner. "
   ]
  },
  {
   "attachments": {},
   "cell_type": "markdown",
   "metadata": {},
   "source": [
    "### Lesson 3.15.1\n",
    "\n",
    "**Import random function** generates a value a completely random number within a range between two numbers.\n",
    "\n",
    "Other imports:\n",
    "- import math\n",
    "- import cmath\n",
    "- import graphlib\n",
    "- import matplotlib\n",
    "- import (your own module with a .py file), as I will do below:"
   ]
  },
  {
   "cell_type": "code",
   "execution_count": null,
   "metadata": {},
   "outputs": [],
   "source": [
    "import module"
   ]
  },
  {
   "attachments": {},
   "cell_type": "markdown",
   "metadata": {},
   "source": [
    "### Lesson 3.15.2"
   ]
  }
 ],
 "metadata": {
  "kernelspec": {
   "display_name": "Python 3",
   "language": "python",
   "name": "python3"
  },
  "language_info": {
   "codemirror_mode": {
    "name": "ipython",
    "version": 3
   },
   "file_extension": ".py",
   "mimetype": "text/x-python",
   "name": "python",
   "nbconvert_exporter": "python",
   "pygments_lexer": "ipython3",
   "version": "3.8.10 (default, Jun 22 2022, 20:18:18) \n[GCC 9.4.0]"
  },
  "orig_nbformat": 4,
  "vscode": {
   "interpreter": {
    "hash": "916dbcbb3f70747c44a77c7bcd40155683ae19c65e1c03b4aa3499c5328201f1"
   }
  }
 },
 "nbformat": 4,
 "nbformat_minor": 2
}

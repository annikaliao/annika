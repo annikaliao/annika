{
 "cells": [
  {
   "cell_type": "code",
   "execution_count": null,
   "metadata": {},
   "outputs": [],
   "source": [
    "function Person(name, FavSong, FavArtist) {\n",
    "    this.name = name;\n",
    "    this.FavSong = FavSong;\n",
    "    this.FavArtist = FavArtist;\n",
    "    this.role = \"\";\n",
    "}\n",
    "\n",
    "// define a setter for role in Person data\n",
    "Person.prototype.setRole = function(role) {\n",
    "    this.role = role;\n",
    "}\n",
    "\n",
    "// define a JSON conversion \"method\" associated with Person\n",
    "Person.prototype.toJSON = function() {\n",
    "    const obj = {name: this.name, FavSong: this.FavSong, FavArtist: this.FavArtist, role: this.role};\n",
    "    const json = JSON.stringify(obj);\n",
    "    return json;\n",
    "}\n",
    "\n",
    "// make a new Person and assign to variable teacher\n",
    "var teacher = new Person(\"Mr M\", \"jm1021\", 1977);  // object type is easy to work with in JavaScript\n",
    "logItType(teacher);  // before role\n",
    "logItType(teacher.toJSON());  // ok to do this even though role is not yet defined\n",
    "\n",
    "// output of Object and JSON/string associated with Teacher\n",
    "teacher.setRole(\"Teacher\");   // set the role\n",
    "logItType(teacher); \n",
    "logItType(teacher.toJSON());"
   ]
  }
 ],
 "metadata": {
  "kernelspec": {
   "display_name": "JavaScript (Node.js)",
   "language": "javascript",
   "name": "javascript"
  },
  "language_info": {
   "name": "javascript",
   "version": "3.8.10"
  },
  "orig_nbformat": 4,
  "vscode": {
   "interpreter": {
    "hash": "916dbcbb3f70747c44a77c7bcd40155683ae19c65e1c03b4aa3499c5328201f1"
   }
  }
 },
 "nbformat": 4,
 "nbformat_minor": 2
}

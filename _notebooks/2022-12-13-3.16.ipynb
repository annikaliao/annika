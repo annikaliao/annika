{
 "cells": [
  {
   "attachments": {},
   "cell_type": "markdown",
   "metadata": {},
   "source": [
    "# Lesson 3.16 - Simulations\n",
    "> Notes, questions, and hacks\n",
    "\n",
    "- toc: true \n",
    "- badges: true\n",
    "- comments: false\n",
    "- title: Lesson 3.16\n",
    "- categories: [jupyter]"
   ]
  },
  {
   "attachments": {},
   "cell_type": "markdown",
   "metadata": {},
   "source": [
    "## Notes\n",
    "\n",
    "- **simulation**: a simulation is an imitation of a situation or process\n",
    "  - i.e., testing cars, games, train routes, etc.\n",
    "  - Advantages\n",
    "    - safer\n",
    "    - cost-efficient\n",
    "    - time-efficient\n",
    "  - Disadvantages\n",
    "    - not as accurate\n",
    "    - outside factors not included\n",
    "- **experiment**: procedure undertaken to make a discovery, test a hypothesis, or demonstrate a known fact\n",
    "- do NOT use simulation when: \n",
    "  - data is already set and cannot change\n",
    "    - i.e. score, statistics\n",
    "- Class simulation vs code:\n",
    "  - Mr. Mortensen = random.randint\n",
    "  - if statement = if player is out\n",
    "  - else = safe\n",
    "  - while loop = repeat process until winner\n"
   ]
  },
  {
   "attachments": {},
   "cell_type": "markdown",
   "metadata": {},
   "source": [
    "## Hacks\n",
    "\n",
    "### Hack #1\n",
    "Rock Paper Scissors Simulation\n",
    "\n",
    "You are Player A. You can input whether you want to shoot rock, paper or scissors. At random, either rock, paper, or scissors, will be assigned to Player B. If the two players' values are equal, then they will both receive a point. If one player gets rock and the other paper, paper will win, and that player will receive a point. This will also apply to scissors beating paper and rock beating scissors. The first player to receive 3 points wins the game, and the simulation stops. \n",
    "\n",
    "### Hack #2\n",
    "![](https://i.imgur.com/6Kc5NmS.jpg)\n",
    "\n",
    "### Hack #3\n",
    "\n",
    "The rolling dice simulator asks the user to choose an amount of dice to roll (1 through 6). Then, once there is an input, the simulator outputs dice rolls (a value 1 through 6), the number of times chosen by the user. For example, I chose 2 dice, and I received the values 6 and 1. This simulates the dice rolls I would roll on 2 dice in real life. \n",
    "\n",
    "### Hack #4"
   ]
  },
  {
   "cell_type": "code",
   "execution_count": 66,
   "metadata": {},
   "outputs": [
    {
     "name": "stdout",
     "output_type": "stream",
     "text": [
      "you rolled: [1, 9, 6, 10]\n",
      "sum: 26\n"
     ]
    }
   ],
   "source": [
    "def parse_input(input_string):\n",
    "    if input_string.strip() in {\"1\", \"2\", \"3\",\"4\", \"5\", \"6\"}:\n",
    "        return int(input_string)\n",
    "    else:\n",
    "        print(\"Please enter a number from 1 to 6.\")\n",
    "        raise SystemExit(1)\n",
    "\n",
    "import random\n",
    "\n",
    "def roll_dice(num_dice):\n",
    "    roll_results = []\n",
    "    for _ in range(num_dice):\n",
    "        roll = random.randint(1, 10)\n",
    "        roll_results.append(roll)\n",
    "    return roll_results\n",
    "\n",
    "def sumOfList(list, size):\n",
    "    if (size == 0):\n",
    "        return 0\n",
    "    else:\n",
    "        return list[size - 1] + sumOfList(list, size - 1)\n",
    "\n",
    "num_dice_input = input(\"How many dice do you want to roll? [1-6] \")\n",
    "num_dice = parse_input(num_dice_input)\n",
    "roll_results = roll_dice(num_dice)\n",
    "total = sumOfList(roll_results, len(roll_results))\n",
    " \n",
    "print(\"you rolled:\", roll_results) \n",
    "print(\"sum:\", total)\n"
   ]
  },
  {
   "attachments": {},
   "cell_type": "markdown",
   "metadata": {},
   "source": [
    "I modified the dice into a 10 sided dice, then I added a function that adds all the dice roll values together. Now the code outputs both the list of values rolled for the amount of dice inputted, as well as its sum. "
   ]
  },
  {
   "attachments": {},
   "cell_type": "markdown",
   "metadata": {},
   "source": [
    "### Extra"
   ]
  },
  {
   "cell_type": "code",
   "execution_count": 25,
   "metadata": {},
   "outputs": [
    {
     "name": "stdout",
     "output_type": "stream",
     "text": [
      "\n",
      "Round 1\n",
      "You: rock\n",
      "Annika: scissors\n",
      "Rock smashes scissors!\n",
      "\n",
      "Your score: 1\n",
      "Annika's score: 0\n",
      "\n",
      "Round 2\n",
      "You: paper\n",
      "Annika: rock\n",
      "Paper covers rock!\n",
      "\n",
      "Your score: 2\n",
      "Annika's score: 0\n",
      "\n",
      "Round 3\n",
      "You: scissors\n",
      "Annika: paper\n",
      "Scissors cuts paper!\n",
      "\n",
      "Your score: 3\n",
      "Annika's score: 0\n",
      "Game over!\n"
     ]
    }
   ],
   "source": [
    "import random\n",
    "\n",
    "round = 1\n",
    "a = 0\n",
    "b = 0\n",
    "\n",
    "for a in range(0, 3) or b in range(0, 4):\n",
    "    print(\"\\nRound\", round)\n",
    "\n",
    "    throwA = input(\"Would you like to throw rock, paper, or scissors?\") \n",
    "    print(\"You:\", throwA)\n",
    "\n",
    "    throws = ['rock', 'paper', 'scissors']\n",
    "    throwB = random.choice(throws)\n",
    "    print(\"Annika:\", throwB)\n",
    "\n",
    "    if throwA == throwB:\n",
    "        a += 1\n",
    "        b += 1\n",
    "        print(\"Tie, you both selected \" + throwA + \". You both receive a point.\")\n",
    "    elif throwA == \"rock\":\n",
    "        if throwB == \"scissors\":\n",
    "            a += 1\n",
    "            print(\"Rock smashes scissors!\")\n",
    "        else:\n",
    "            b += 1\n",
    "            print(\"Paper covers rock!\")\n",
    "    elif throwA == \"paper\":\n",
    "        if throwB == \"rock\":\n",
    "            a += 1\n",
    "            print(\"Paper covers rock!\")\n",
    "        else:\n",
    "            b += 1\n",
    "            print(\"Scissors cuts paper!\")\n",
    "    elif throwA == \"scissors\":\n",
    "        if throwB == \"paper\":\n",
    "            a += 1\n",
    "            print(\"Scissors cuts paper!\")\n",
    "        else:\n",
    "            b += 1\n",
    "            print(\"Rock smashes scissors!\")\n",
    "    print(\"\\nYour score:\", a)\n",
    "    print(\"Annika's score:\", b)\n",
    "    round +=1\n",
    "\n",
    "print(\"Game over!\")\n",
    "\n"
   ]
  },
  {
   "attachments": {},
   "cell_type": "markdown",
   "metadata": {},
   "source": [
    "I coded the simulation that I had described in Hack 1. I coded a rock paper scissors game where you are playing against a computer with randomized outputs. The first one to score 3 points wins! You score a point when your throw beats the computer. Rock wins scissors, paper wins rock, and scissors wins paper. If tied, you both score a point. This may not be authentic to a real life experiment, because the machine doesn't take in outside factors, such as the other player's strategies. They could throw late, allowing them to see you you throw before throwing themselves. "
   ]
  }
 ],
 "metadata": {
  "kernelspec": {
   "display_name": "Python 3",
   "language": "python",
   "name": "python3"
  },
  "language_info": {
   "codemirror_mode": {
    "name": "ipython",
    "version": 3
   },
   "file_extension": ".py",
   "mimetype": "text/x-python",
   "name": "python",
   "nbconvert_exporter": "python",
   "pygments_lexer": "ipython3",
   "version": "3.8.10"
  },
  "orig_nbformat": 4,
  "vscode": {
   "interpreter": {
    "hash": "916dbcbb3f70747c44a77c7bcd40155683ae19c65e1c03b4aa3499c5328201f1"
   }
  }
 },
 "nbformat": 4,
 "nbformat_minor": 2
}

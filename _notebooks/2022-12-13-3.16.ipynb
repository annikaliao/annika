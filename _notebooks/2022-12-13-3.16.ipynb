{
 "cells": [
  {
   "attachments": {},
   "cell_type": "markdown",
   "metadata": {},
   "source": [
    "# Lesson 3.16 - Simulations\n",
    "> Notes, questions, and hacks\n",
    "\n",
    "- toc: true \n",
    "- badges: true\n",
    "- comments: false\n",
    "- title: Lesson 3.16\n",
    "- categories: [jupyter]"
   ]
  },
  {
   "attachments": {},
   "cell_type": "markdown",
   "metadata": {},
   "source": [
    "## Notes\n",
    "\n",
    "- **simulation**: a simulation is an imitation of a situation or process\n",
    "  - i.e., testing cars, games, train routes, etc.\n",
    "  - Advantages\n",
    "    - safer\n",
    "    - cost-efficient\n",
    "    - time-efficient\n",
    "  - Disadvantages\n",
    "    - not as accurate\n",
    "    - outside factors not included\n",
    "- **experiment**: procedure undertaken to make a discovery, test a hypothesis, or demonstrate a known fact\n",
    "- do NOT use simulation when: \n",
    "  - data is already set and cannot change\n",
    "    - i.e. score, statistics\n",
    "- Class simulation vs code:\n",
    "  - Mr. Mortensen = random.randint\n",
    "  - if statement = if player is out\n",
    "  - else = safe\n",
    "  - while loop = repeat process until winner\n"
   ]
  },
  {
   "attachments": {},
   "cell_type": "markdown",
   "metadata": {},
   "source": [
    "## Hacks\n",
    "\n",
    "### Hack #1\n",
    "Rock Paper Scissors Simulation\n",
    "\n",
    "You are Player A. You can input whether you want to shoot rock, paper or scissors. At random, either rock, paper, or scissors, will be assigned to Player B. If the two players' values are equal, then they will both receive a point. If one player gets rock and the other paper, paper will win, and that player will receive a point. This will also apply to scissors beating paper and rock beating scissors. The first player to receive 3 points wins the game, and the simulation stops. \n",
    "\n",
    "### Hack #2\n",
    "![](https://i.imgur.com/6Kc5NmS.jpg)\n",
    "\n",
    "### Hack #3\n",
    "\n",
    "The rolling dice simulator asks the user to choose an amount of dice to roll (1 through 6). Then, once there is an input, the simulator outputs dice rolls (a value 1 through 6), the number of times chosen by the user. For example, I chose 2 dice, and I received the values 6 and 1. This simulates the dice rolls I would roll on 2 dice in real life. \n",
    "\n",
    "### Hack #4"
   ]
  },
  {
   "cell_type": "code",
   "execution_count": 66,
   "metadata": {},
   "outputs": [
    {
     "name": "stdout",
     "output_type": "stream",
     "text": [
      "you rolled: [1, 9, 6, 10]\n",
      "sum: 26\n"
     ]
    }
   ],
   "source": [
    "def parse_input(input_string):\n",
    "    if input_string.strip() in {\"1\", \"2\", \"3\",\"4\", \"5\", \"6\"}:\n",
    "        return int(input_string)\n",
    "    else:\n",
    "        print(\"Please enter a number from 1 to 6.\")\n",
    "        raise SystemExit(1)\n",
    "\n",
    "import random\n",
    "\n",
    "def roll_dice(num_dice):\n",
    "    roll_results = []\n",
    "    for _ in range(num_dice):\n",
    "        roll = random.randint(1, 10)\n",
    "        roll_results.append(roll)\n",
    "    return roll_results\n",
    "\n",
    "def sumOfList(list, size):\n",
    "    if (size == 0):\n",
    "        return 0\n",
    "    else:\n",
    "        return list[size - 1] + sumOfList(list, size - 1)\n",
    "\n",
    "num_dice_input = input(\"How many dice do you want to roll? [1-6] \")\n",
    "num_dice = parse_input(num_dice_input)\n",
    "roll_results = roll_dice(num_dice)\n",
    "total = sumOfList(roll_results, len(roll_results))\n",
    " \n",
    "print(\"you rolled:\", roll_results) \n",
    "print(\"sum:\", total)\n"
   ]
  },
  {
   "attachments": {},
   "cell_type": "markdown",
   "metadata": {},
   "source": [
    "I modified the dice into a 10 sided dice, then I added a function that adds all the dice roll values together. Now the code outputs both the list of values rolled for the amount of dice inputted, as well as its sum. "
   ]
  },
  {
   "attachments": {},
   "cell_type": "markdown",
   "metadata": {},
   "source": [
    "You are Player A. You can input whether you want to shoot rock, paper or scissors. At random, either rock, paper, or scissors, will be assigned to Player B. If the two players' values are equal, then they will both receive a point. If one player gets rock and the other paper, paper will win, and that player will receive a point. This will also apply to scissors beating paper and rock beating scissors. The first player to receive 3 points wins the game, and the simulation stops. "
   ]
  },
  {
   "cell_type": "code",
   "execution_count": 13,
   "metadata": {},
   "outputs": [
    {
     "name": "stdout",
     "output_type": "stream",
     "text": [
      "Round 1\n",
      "You: rock\n",
      "Player: scissors\n",
      "Round 2\n"
     ]
    },
    {
     "ename": "KeyboardInterrupt",
     "evalue": "Interrupted by user",
     "output_type": "error",
     "traceback": [
      "\u001b[0;31m---------------------------------------------------------------------------\u001b[0m",
      "\u001b[0;31mKeyboardInterrupt\u001b[0m                         Traceback (most recent call last)",
      "\u001b[1;32m/home/annikaliao/vscode/annika/_notebooks/2022-12-13-3.16.ipynb Cell 7\u001b[0m in \u001b[0;36m<cell line: 5>\u001b[0;34m()\u001b[0m\n\u001b[1;32m      <a href='vscode-notebook-cell://wsl%2Bubuntu/home/annikaliao/vscode/annika/_notebooks/2022-12-13-3.16.ipynb#W6sdnNjb2RlLXJlbW90ZQ%3D%3D?line=4'>5</a>\u001b[0m \u001b[39mfor\u001b[39;00m \u001b[39mround\u001b[39m \u001b[39min\u001b[39;00m \u001b[39mrange\u001b[39m(\u001b[39m1\u001b[39m, \u001b[39m3\u001b[39m):\n\u001b[1;32m      <a href='vscode-notebook-cell://wsl%2Bubuntu/home/annikaliao/vscode/annika/_notebooks/2022-12-13-3.16.ipynb#W6sdnNjb2RlLXJlbW90ZQ%3D%3D?line=5'>6</a>\u001b[0m     \u001b[39mprint\u001b[39m(\u001b[39m\"\u001b[39m\u001b[39mRound\u001b[39m\u001b[39m\"\u001b[39m, \u001b[39mround\u001b[39m)\n\u001b[0;32m----> <a href='vscode-notebook-cell://wsl%2Bubuntu/home/annikaliao/vscode/annika/_notebooks/2022-12-13-3.16.ipynb#W6sdnNjb2RlLXJlbW90ZQ%3D%3D?line=7'>8</a>\u001b[0m     throwA \u001b[39m=\u001b[39m \u001b[39minput\u001b[39;49m(\u001b[39m\"\u001b[39;49m\u001b[39mWould you like to throw rock, paper, or scissors?\u001b[39;49m\u001b[39m\"\u001b[39;49m) \n\u001b[1;32m      <a href='vscode-notebook-cell://wsl%2Bubuntu/home/annikaliao/vscode/annika/_notebooks/2022-12-13-3.16.ipynb#W6sdnNjb2RlLXJlbW90ZQ%3D%3D?line=8'>9</a>\u001b[0m     \u001b[39mprint\u001b[39m(\u001b[39m\"\u001b[39m\u001b[39mYou:\u001b[39m\u001b[39m\"\u001b[39m, throwA)\n\u001b[1;32m     <a href='vscode-notebook-cell://wsl%2Bubuntu/home/annikaliao/vscode/annika/_notebooks/2022-12-13-3.16.ipynb#W6sdnNjb2RlLXJlbW90ZQ%3D%3D?line=10'>11</a>\u001b[0m     b \u001b[39m=\u001b[39m [\u001b[39m'\u001b[39m\u001b[39mrock\u001b[39m\u001b[39m'\u001b[39m, \u001b[39m'\u001b[39m\u001b[39mpaper\u001b[39m\u001b[39m'\u001b[39m, \u001b[39m'\u001b[39m\u001b[39mscissors\u001b[39m\u001b[39m'\u001b[39m]\n",
      "File \u001b[0;32m~/.local/lib/python3.8/site-packages/ipykernel/kernelbase.py:1177\u001b[0m, in \u001b[0;36mKernel.raw_input\u001b[0;34m(self, prompt)\u001b[0m\n\u001b[1;32m   1173\u001b[0m \u001b[39mif\u001b[39;00m \u001b[39mnot\u001b[39;00m \u001b[39mself\u001b[39m\u001b[39m.\u001b[39m_allow_stdin:\n\u001b[1;32m   1174\u001b[0m     \u001b[39mraise\u001b[39;00m StdinNotImplementedError(\n\u001b[1;32m   1175\u001b[0m         \u001b[39m\"\u001b[39m\u001b[39mraw_input was called, but this frontend does not support input requests.\u001b[39m\u001b[39m\"\u001b[39m\n\u001b[1;32m   1176\u001b[0m     )\n\u001b[0;32m-> 1177\u001b[0m \u001b[39mreturn\u001b[39;00m \u001b[39mself\u001b[39;49m\u001b[39m.\u001b[39;49m_input_request(\n\u001b[1;32m   1178\u001b[0m     \u001b[39mstr\u001b[39;49m(prompt),\n\u001b[1;32m   1179\u001b[0m     \u001b[39mself\u001b[39;49m\u001b[39m.\u001b[39;49m_parent_ident[\u001b[39m\"\u001b[39;49m\u001b[39mshell\u001b[39;49m\u001b[39m\"\u001b[39;49m],\n\u001b[1;32m   1180\u001b[0m     \u001b[39mself\u001b[39;49m\u001b[39m.\u001b[39;49mget_parent(\u001b[39m\"\u001b[39;49m\u001b[39mshell\u001b[39;49m\u001b[39m\"\u001b[39;49m),\n\u001b[1;32m   1181\u001b[0m     password\u001b[39m=\u001b[39;49m\u001b[39mFalse\u001b[39;49;00m,\n\u001b[1;32m   1182\u001b[0m )\n",
      "File \u001b[0;32m~/.local/lib/python3.8/site-packages/ipykernel/kernelbase.py:1219\u001b[0m, in \u001b[0;36mKernel._input_request\u001b[0;34m(self, prompt, ident, parent, password)\u001b[0m\n\u001b[1;32m   1216\u001b[0m             \u001b[39mbreak\u001b[39;00m\n\u001b[1;32m   1217\u001b[0m \u001b[39mexcept\u001b[39;00m \u001b[39mKeyboardInterrupt\u001b[39;00m:\n\u001b[1;32m   1218\u001b[0m     \u001b[39m# re-raise KeyboardInterrupt, to truncate traceback\u001b[39;00m\n\u001b[0;32m-> 1219\u001b[0m     \u001b[39mraise\u001b[39;00m \u001b[39mKeyboardInterrupt\u001b[39;00m(\u001b[39m\"\u001b[39m\u001b[39mInterrupted by user\u001b[39m\u001b[39m\"\u001b[39m) \u001b[39mfrom\u001b[39;00m \u001b[39mNone\u001b[39m\n\u001b[1;32m   1220\u001b[0m \u001b[39mexcept\u001b[39;00m \u001b[39mException\u001b[39;00m:\n\u001b[1;32m   1221\u001b[0m     \u001b[39mself\u001b[39m\u001b[39m.\u001b[39mlog\u001b[39m.\u001b[39mwarning(\u001b[39m\"\u001b[39m\u001b[39mInvalid Message:\u001b[39m\u001b[39m\"\u001b[39m, exc_info\u001b[39m=\u001b[39m\u001b[39mTrue\u001b[39;00m)\n",
      "\u001b[0;31mKeyboardInterrupt\u001b[0m: Interrupted by user"
     ]
    }
   ],
   "source": [
    "import random\n",
    "\n",
    "round = 0\n",
    "a = 0\n",
    "b = 0\n",
    "\n",
    "for round in range(1, 3):\n",
    "    print(\"Round\", round)\n",
    "\n",
    "    throwA = input(\"Would you like to throw rock, paper, or scissors?\") \n",
    "    print(\"You:\", throwA)\n",
    "\n",
    "    throws = ['rock', 'paper', 'scissors']\n",
    "    throwB = random.choice(throws)\n",
    "    print(\"Player:\", throwB)\n",
    "\n",
    "    if throwA == throwB:\n",
    "        a += 1\n",
    "        b += 1\n",
    "        print(\"Tie! You both receive a point.\")\n",
    "\n",
    "print(\"Game over!\")\n",
    "\n"
   ]
  }
 ],
 "metadata": {
  "kernelspec": {
   "display_name": "Python 3",
   "language": "python",
   "name": "python3"
  },
  "language_info": {
   "codemirror_mode": {
    "name": "ipython",
    "version": 3
   },
   "file_extension": ".py",
   "mimetype": "text/x-python",
   "name": "python",
   "nbconvert_exporter": "python",
   "pygments_lexer": "ipython3",
   "version": "3.8.10"
  },
  "orig_nbformat": 4,
  "vscode": {
   "interpreter": {
    "hash": "916dbcbb3f70747c44a77c7bcd40155683ae19c65e1c03b4aa3499c5328201f1"
   }
  }
 },
 "nbformat": 4,
 "nbformat_minor": 2
}

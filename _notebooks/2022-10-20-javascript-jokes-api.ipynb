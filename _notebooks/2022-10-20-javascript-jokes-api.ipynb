{
 "cells": [
  {
   "attachments": {},
   "cell_type": "markdown",
   "metadata": {},
   "source": [
    "# Javascript Web Page using an API\n",
    "> Breaking down the rapidapi code\n",
    "\n",
    "- title: Javascript Web Page using an API\n",
    "- badges: true\n",
    "- toc: true\n",
    "- categories: [jupyter, week9]"
   ]
  },
  {
   "cell_type": "code",
   "execution_count": null,
   "metadata": {
    "vscode": {
     "languageId": "html"
    }
   },
   "outputs": [],
   "source": [
    "<!-- HTML table fragment for page -->\n",
    "<table>\n",
    "    <thead>\n",
    "    <tr>\n",
    "      <th>Time</th>\n",
    "      <th>All-time Cases</th>\n",
    "      <th>Recorded Deaths</th>\n",
    "      <th>Active Cases</th>\n",
    "    </tr>\n",
    "    </thead>\n",
    "    <tbody>\n",
    "      <td id=\"time\"></td>\n",
    "      <td id=\"total_cases\"></td>\n",
    "      <td id=\"total_deaths\"></td>\n",
    "      <td id=\"active_cases\"></td>\n",
    "    </tbody>\n",
    "  </table>\n",
    "  \n",
    "  <table>\n",
    "    <thead>\n",
    "    <tr>\n",
    "      <th>Country</th>\n",
    "      <th>All-time Cases</th>\n",
    "      <th>Recorded Deaths</th>\n",
    "      <th>Active Cases</th>\n",
    "    </tr>\n",
    "    </thead>\n",
    "    <tbody id=\"result\">\n",
    "      <!-- generated rows -->\n",
    "    </tbody>\n",
    "  </table>"
   ]
  },
  {
   "cell_type": "markdown",
   "metadata": {},
   "source": [
    "Constant variables are declared here with keyword const\n",
    "\n",
    "Key things to know:\n",
    "- The document object \"result\" represents table body in the HTML above.\n",
    "- If you want to access any element in an HTML page in JavaScript, you always start by accessing the document object.  In this case, we are accessing \"result\" and defining a \"resultContainer\"\n",
    "- In the code, in following cells, document elements are created and organized for each Joke, each is added to the \"resultContainer\" as a row in the table body\n",
    "- Accessing the api is done using the variables url and options, this is setup to fetch the Covid data from the backend"
   ]
  }
 ],
 "metadata": {
  "kernelspec": {
   "display_name": "Python 3.8.10 64-bit",
   "language": "python",
   "name": "python3"
  },
  "language_info": {
   "name": "python",
   "version": "3.8.10 (default, Jun 22 2022, 20:18:18) \n[GCC 9.4.0]"
  },
  "orig_nbformat": 4,
  "vscode": {
   "interpreter": {
    "hash": "916dbcbb3f70747c44a77c7bcd40155683ae19c65e1c03b4aa3499c5328201f1"
   }
  }
 },
 "nbformat": 4,
 "nbformat_minor": 2
}

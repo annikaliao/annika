{
 "cells": [
  {
   "attachments": {},
   "cell_type": "markdown",
   "metadata": {},
   "source": [
    "# Lesson 3.12 and 3.13\n",
    "> Notes, questions, and hacks\n",
    "\n",
    "- toc: true \n",
    "- badges: true\n",
    "- comments: false\n",
    "- categories: [jupyter]"
   ]
  },
  {
   "attachments": {},
   "cell_type": "markdown",
   "metadata": {},
   "source": [
    "## Notes\n",
    "\n",
    " - A **procedure** is a named set of instructions that can take in parameters and return values\n",
    "    - May be called \"method\" or \"function\" in different programming languages\n",
    "- **Parameters** are independent variables used in the procedure to produce a result\n",
    "    - Allows procedure to execute without initially knowing specific input values\n",
    "    - used to make functions work with multiple different inputs\n",
    "- To call a procedure you write the name of the procedure followed by the parentheses with the parameters\n",
    "    - procedureName(parameter1, parameter2, ...)\n",
    "    - Procedures do not require parameters, but parentheses is required\n",
    "- Using syntax, you can determine the result with **function parameters** and **return value** and **statements**\n",
    "    - To use function parameters, paremeters used when calling the function in order to get result,you would have to write the syntax name of function followed by parameters in parentheses\n",
    "- A return statement exits a function and instructs python to continue executing the program and return a certain value\n",
    "    - Value can be string, tuple, etc. being sent back to the main program\n",
    "- **Modularity**: the practive of breaking a complex program into smaller, independent parts that can be used/reused in different parts of the program\n",
    "- **Abstraction**: the practice of hiding the details of how a code/system works, only exposing essential functions necessary for other parts of the program\n",
    "- **Duplication**: Having multiple duplicate code blocks decreasing efficiancy\n",
    "- **Logic**: the sequence of steps that a computer follows to execute a program\n",
    "- **Procedure Name**: name that is given to a procedure, to call it\n",
    "- **Arguments**: way to provide info to a function, defined outside a function then imported into a function with parameters\n",
    "- in python, **def** defines function"
   ]
  },
  {
   "cell_type": "code",
   "execution_count": null,
   "metadata": {},
   "outputs": [],
   "source": []
  },
  {
   "attachments": {},
   "cell_type": "markdown",
   "metadata": {},
   "source": [
    "## Hacks\n",
    "\n",
    "### Topic 3.12 (3.A)\n",
    "\n",
    "1. Define procedure and parameter in your own words\n",
    "\n",
    "**procedure**: a section of code that takes parameters and returns values<br>\n",
    "**parameter**: a variable used in a function to produce a result\n",
    "\n",
    "2. Paste a screenshot of completion of the quiz\n",
    "\n",
    "![Quiz Score](https://i.imgur.com/JFRDE18.jpeg)\n",
    "\n",
    "3. Define Return Values and Output Parameters in your own words\n",
    "\n",
    "**return values**: the result of a function returned to the caller <br>\n",
    "**output parameters**: parameters used for output, passed into a function or method call that are modified during the function\n",
    "\n",
    "4. Code a procedure that finds the square root of any given number. (make sure to call and return the function)\n"
   ]
  },
  {
   "cell_type": "code",
   "execution_count": 17,
   "metadata": {},
   "outputs": [
    {
     "name": "stdout",
     "output_type": "stream",
     "text": [
      "9.0\n"
     ]
    }
   ],
   "source": [
    "import math\n",
    "\n",
    "num = int(input(\"Find the square root of:\"))\n",
    "\n",
    "def sqrt(num):\n",
    "    result = math.sqrt(num)\n",
    "    return result\n",
    "    \n",
    "print(sqrt(num))"
   ]
  },
  {
   "attachments": {},
   "cell_type": "markdown",
   "metadata": {},
   "source": [
    "### Topic 3.13 (3.B)\n",
    "\n",
    "1. Explain, in your own words, why abstracting away your program logic into separate, modular functions is effective\n",
    "\n",
    "Abstraction makes your code easier to manage and understand. It allows you to focus on the real purpose of the function.\n",
    "\n",
    "2. Create a procedure that uses other sub-procedures (other functions) within it and explain why the abstraction was needed (conciseness, shared behavior, etc.)"
   ]
  },
  {
   "cell_type": "code",
   "execution_count": 54,
   "metadata": {},
   "outputs": [
    {
     "name": "stdout",
     "output_type": "stream",
     "text": [
      "Find the hypotenuse of a right triangle!\n",
      "Side a = 3\n",
      "Side b = 4\n",
      "5.0\n"
     ]
    }
   ],
   "source": [
    "import math\n",
    "\n",
    "print(\"Find the hypotenuse of a right triangle!\")\n",
    "\n",
    "a = int(input(\"Input side a\"))\n",
    "print(\"Side a =\", a)\n",
    "b = int(input(\"Input side b\"))\n",
    "print(\"Side b =\", b)\n",
    "\n",
    "def side(x):\n",
    "    return x * x\n",
    "def equation(a, b):\n",
    "    a = side(a)\n",
    "    b = side(b)\n",
    "    result = math.sqrt(a + b)\n",
    "    return result\n",
    "\n",
    "print(equation(a, b))"
   ]
  },
  {
   "attachments": {},
   "cell_type": "markdown",
   "metadata": {},
   "source": [
    "Both side a and b were to be squared, so by creating the side() function, I do not have to repeat that step, instead assigning it to each, producing a result instantly. I could call this function in my next function to be efficient."
   ]
  },
  {
   "attachments": {},
   "cell_type": "markdown",
   "metadata": {},
   "source": [
    "3. Add another layer of abstraction to the word counter program (HINT: create a function that can count the number of words starting with ANY character in a given string -- how can we leverage parameters for this?)"
   ]
  },
  {
   "attachments": {},
   "cell_type": "markdown",
   "metadata": {},
   "source": [
    "### Topic 3.13 (3.C)\n",
    "\n",
    "1. Define procedure names and arguments in your own words.\n",
    "\n",
    "**procedure names**: the name of a function or procedure that can called anywhere in the program <br>\n",
    "**arguments**: provides information to a function, imported into a function with parameters (defined outside function)\n",
    "\n",
    "2. Code some procedures that use arguments and parameters with Javascript and HTML (make sure they are interactive on your hacks page, allowing the user to input numbers and click a button to produce an output)\n",
    "    - Add two numbers\n",
    "    - Subtract two numbers\n",
    "    - Multiply two numbers\n",
    "    - Divide two numbers"
   ]
  }
 ],
 "metadata": {
  "kernelspec": {
   "display_name": "Python 3.8.10 64-bit",
   "language": "python",
   "name": "python3"
  },
  "language_info": {
   "codemirror_mode": {
    "name": "ipython",
    "version": 3
   },
   "file_extension": ".py",
   "mimetype": "text/x-python",
   "name": "python",
   "nbconvert_exporter": "python",
   "pygments_lexer": "ipython3",
   "version": "3.8.10"
  },
  "orig_nbformat": 4,
  "vscode": {
   "interpreter": {
    "hash": "916dbcbb3f70747c44a77c7bcd40155683ae19c65e1c03b4aa3499c5328201f1"
   }
  }
 },
 "nbformat": 4,
 "nbformat_minor": 2
}

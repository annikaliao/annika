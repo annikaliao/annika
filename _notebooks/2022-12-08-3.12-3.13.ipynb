{
 "cells": [
  {
   "attachments": {},
   "cell_type": "markdown",
   "metadata": {},
   "source": [
    "# Lesson 3.12 and 3.13\n",
    "> Notes, questions, and hacks\n",
    "\n",
    "- toc: true \n",
    "- badges: true\n",
    "- comments: false\n",
    "- categories: [jupyter]"
   ]
  },
  {
   "attachments": {},
   "cell_type": "markdown",
   "metadata": {},
   "source": [
    "## Notes\n",
    "\n",
    " - A **procedure** is a named set of instructions that can take in parameters and return values\n",
    "    - May be called \"method\" or \"function\" in different programming languages\n",
    "- **Parameters** are independent variables used in the procedure to produce a result\n",
    "    - Allows procedure to execute without initially knowing specific input values\n",
    "    - used to make functions work with multiple different inputs\n",
    "- To call a procedure you write the name of the procedure followed by the parentheses with the parameters\n",
    "    - procedureName(parameter1, parameter2, ...)\n",
    "    - Procedures do not require parameters, but parentheses is required\n",
    "- Using syntax, you can determine the result with **function parameters** and **return value** and **statements**\n",
    "    - To use function parameters, paremeters used when calling the function in order to get result,you would have to write the syntax name of function followed by parameters in parentheses\n",
    "- A return statement exits a function and instructs python to continue executing the program and return a certain value\n",
    "    - Value can be string, tuple, etc. being sent back to the main program\n",
    "- **Modularity**: the practive of breaking a complex program into smaller, independent parts that can be used/reused in different parts of the program\n",
    "- **Abstraction**: the practice of hiding the details of how a code/system works, only exposing essential functions necessary for other parts of the program\n",
    "- **Duplication**: Having multiple duplicate code blocks decreasing efficiancy\n",
    "- **Logic**: the sequence of steps that a computer follows to execute a program\n",
    "- **Procedure Name**: name that is given to a procedure, to call it\n",
    "- **Arguments**: way to provide info to a function, defined outside a function then imported into a function with parameters\n",
    "- in python, **def** defines function\n",
    "- "
   ]
  },
  {
   "attachments": {},
   "cell_type": "markdown",
   "metadata": {},
   "source": [
    "## Hacks\n",
    "\n",
    "### 3.12 \n",
    "\n",
    "procedure "
   ]
  },
  {
   "cell_type": "code",
   "execution_count": null,
   "metadata": {},
   "outputs": [],
   "source": []
  }
 ],
 "metadata": {
  "kernelspec": {
   "display_name": "Python 3.8.10 64-bit",
   "language": "python",
   "name": "python3"
  },
  "language_info": {
   "name": "python",
   "version": "3.8.10"
  },
  "orig_nbformat": 4,
  "vscode": {
   "interpreter": {
    "hash": "916dbcbb3f70747c44a77c7bcd40155683ae19c65e1c03b4aa3499c5328201f1"
   }
  }
 },
 "nbformat": 4,
 "nbformat_minor": 2
}

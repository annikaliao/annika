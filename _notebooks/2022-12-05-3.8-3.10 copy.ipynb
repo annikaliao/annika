{
 "cells": [
  {
   "cell_type": "markdown",
   "metadata": {},
   "source": [
    "# Lesson 3.8 and 3.10\n",
    "> Notes, questions, and hacks\n",
    "\n",
    "- toc: true \n",
    "- badges: true\n",
    "- comments: false\n",
    "- categories: [jupyter]"
   ]
  },
  {
   "cell_type": "markdown",
   "metadata": {},
   "source": [
    "## Notes\n",
    "- Iteration: a repeating portion of an algorithm, repeats a specified number of times or until a given condition is met\n",
    "- Iteration Statements: change the sequential flow of control by repeating a set of statements zero or more times, until a stopping condition is met\n",
    "- Repeat Until: if the condition evaluates to true initially, the loop body is not executed at all, due to the condition being checked before the loop\n",
    "- Range function: use variable to represent what the range of numbers the output can show. Use with for loop\n",
    "    - when using the range function, the last number, or the ending value, is not included in the output, therefore we would have to add 1 to receive the correct output\n",
    "- For loop: process stops if next element meets statement\n",
    "- While loop: process is repeated until statement is met\n",
    "- In lists: \n",
    "    - append(): adding element to the end of the list\n",
    "    - insert(): adding an element in a specific position\n",
    "    - remove(): remove an item from a list\n",
    "    - len(): returns number of items in a list\n",
    "    - sort(): permanently changes order of list \n",
    "    - sorted(): returns copy of list, leaving original copy unchanged\n",
    "    - range(): range of number able to use, makes working with numbers more efficient\n",
    "    - min(): find the least value in a list\n",
    "    - max(): find highest value in a list\n",
    "    - sum(): sum of all values in a list\n",
    "- Traversing a list is process of visiting each element in a list in a sequential order. Used to access, search for, and modify elements in the list\n",
    "    - Complete Traversal: All elements in a list are assessed \n",
    "    - Partial Traversal: Only a given portion of elements are assessed\n",
    "    - Iterative Traversal: When loops are used to iterate through a list and to access each single element at a time.\n"
   ]
  },
  {
   "cell_type": "markdown",
   "metadata": {},
   "source": [
    "## Hacks \n",
    "\n",
    "### Section 3.8.1\n",
    "\n",
    "Iteration: part of an algorithm that is repeated until a certain condition is met\n",
    "\n",
    "![](https://i.imgur.com/L3ZUnJb.png)\n",
    "\n",
    "1. Start\n",
    "2. The number of pretzels in the pack is 6\n",
    "3. Eat one fruit snack, number of pretzels in pack goes down by 1\n",
    "4. How many pretzels are left?\n",
    "4. Repeat step 3 until number of pretzels is 0\n",
    "5. Display that pack is empty\n",
    "6. Finish"
   ]
  },
  {
   "cell_type": "code",
   "execution_count": 12,
   "metadata": {},
   "outputs": [
    {
     "name": "stdout",
     "output_type": "stream",
     "text": [
      "5\n",
      "4\n",
      "3\n",
      "2\n",
      "1\n",
      "0\n",
      "All done!\n"
     ]
    }
   ],
   "source": [
    "pretzel = 6\n",
    "while (pretzel > 0):\n",
    "    pretzel -= 1\n",
    "    print(pretzel)\n",
    "    if pretzel == 0:\n",
    "        print(\"All done!\")"
   ]
  },
  {
   "cell_type": "markdown",
   "metadata": {},
   "source": [
    "### Section 3.8.2\n",
    "\n",
    "Iteration Statement: statements to be executed zero or more times, unless a stopping condition is met"
   ]
  },
  {
   "cell_type": "code",
   "execution_count": 4,
   "metadata": {},
   "outputs": [
    {
     "name": "stdout",
     "output_type": "stream",
     "text": [
      "5\n",
      "4\n",
      "3\n"
     ]
    }
   ],
   "source": [
    "nums = [5, 4, 3, 2, 1]\n",
    "for i in nums:\n",
    "    if i <= 2:\n",
    "        break\n",
    "    print(i)"
   ]
  },
  {
   "cell_type": "code",
   "execution_count": 11,
   "metadata": {},
   "outputs": [
    {
     "name": "stdout",
     "output_type": "stream",
     "text": [
      "3\n",
      "16\n",
      "29\n",
      "42\n",
      "55\n",
      "68\n",
      "81\n"
     ]
    }
   ],
   "source": [
    "number = 3\n",
    "while number <= 81:\n",
    "    print(number)\n",
    "    number += 13\n",
    "number = 0 "
   ]
  },
  {
   "cell_type": "markdown",
   "metadata": {},
   "source": [
    "### 3.10"
   ]
  },
  {
   "cell_type": "code",
   "execution_count": 19,
   "metadata": {},
   "outputs": [
    {
     "name": "stdout",
     "output_type": "stream",
     "text": [
      "38\n"
     ]
    }
   ],
   "source": [
    "nums = [38, 45, 67, 83, 78]\n",
    "\n",
    "min = 40\n",
    "\n",
    "for num in nums:\n",
    "    if num < min:\n",
    "        min = num\n",
    "\n",
    "print(min)"
   ]
  },
  {
   "cell_type": "markdown",
   "metadata": {},
   "source": [
    "**APCSP Reference Page Notes**\n",
    "\n",
    "- PROCEDURE procName(parameter1, <br>\n",
    " parameter2, ...) <br>\n",
    "{ <br>\n",
    " <# block of statements> <br>\n",
    "}\n",
    "    - procName: a procedure that takes zero or more arguments\n",
    "    - procedure procName can be called using \"procName(arg1, arg2, ...)\", where arg1 is assigned to parameter1, arg2 is assigned to parameter2, etc.\n",
    "<br><br>\n",
    "- PROCEDURE procName(parameter1, <br>\n",
    " parameter2, ...) <br>\n",
    "{ <br>\n",
    " <# block of statements> <br>\n",
    " RETURN(expression) <br>\n",
    "} \n",
    "    - return statement may appear at any point inside the procedure and causes an immediate return from the procedure back to the calling statement.\n",
    "    - value returned by the procedure procName can be assigned to the variable result using \"result ← procName(arg1, arg2, ...)\"\n",
    "<br><br>\n",
    "- APPEND(aList, value) \n",
    "    - length of aList is increased by 1, and value is placed at the end of aList\n",
    "<br><br>    \n",
    "- REPEAT UNTIL(condition) <br>\n",
    "{ <br>\n",
    " <# block of statements> <br>\n",
    "} \n",
    "    - code is repeated until the Boolean condition evaluates to true\n",
    "\n",
    "\n",
    "![Quiz Score](https://i.imgur.com/JR6bHdk.png)"
   ]
  }
 ],
 "metadata": {
  "kernelspec": {
   "display_name": "Python 3.8.10 64-bit",
   "language": "python",
   "name": "python3"
  },
  "language_info": {
   "codemirror_mode": {
    "name": "ipython",
    "version": 3
   },
   "file_extension": ".py",
   "mimetype": "text/x-python",
   "name": "python",
   "nbconvert_exporter": "python",
   "pygments_lexer": "ipython3",
   "version": "3.8.10 (default, Jun 22 2022, 20:18:18) \n[GCC 9.4.0]"
  },
  "orig_nbformat": 4,
  "vscode": {
   "interpreter": {
    "hash": "916dbcbb3f70747c44a77c7bcd40155683ae19c65e1c03b4aa3499c5328201f1"
   }
  }
 },
 "nbformat": 4,
 "nbformat_minor": 2
}

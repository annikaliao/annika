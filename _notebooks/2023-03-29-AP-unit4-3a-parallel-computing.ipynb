{
 "cells": [
  {
   "attachments": {},
   "cell_type": "markdown",
   "metadata": {},
   "source": [
    "#  Unit 4.3a Parallel Computing\n",
    "> Observe an algorithm using parallel computing in Python Code.  Monitor processes on host.\n",
    "- toc: true\n",
    "- image: /images/python.png\n",
    "- categories: []\n",
    "- type: ap\n",
    "- week: 28"
   ]
  },
  {
   "attachments": {},
   "cell_type": "markdown",
   "metadata": {},
   "source": [
    "## Analyzing Parallel Computing\n",
    "> Once again we will use image lab, this time to review Parallel Computing.\n",
    "- Change baseWidth in this line in code to increase computation requirements: ```def process_image(image, baseWidth=512):```  For instance 320, 512, 1024, 2048, 4096.\n",
    "- Compare Sequential and Parallel computing code and time to achieve outputs"
   ]
  },
  {
   "cell_type": "code",
   "execution_count": 29,
   "metadata": {},
   "outputs": [],
   "source": [
    "from IPython.display import HTML, display\n",
    "from pathlib import Path  # https://medium.com/@ageitgey/python-3-quick-tip-the-easy-way-to-deal-with-file-paths-on-windows-mac-and-linux-11a072b58d5f\n",
    "from PIL import Image as pilImage # as PIL Image is used to avoid conflicts\n",
    "from io import BytesIO\n",
    "import base64\n",
    "import numpy as np\n",
    "\n",
    "\n",
    "# prepares a series of images\n",
    "def image_data(path=Path(\"images/\"), images=None):  # path of static images is defaulted\n",
    "    if images is None:  # default image\n",
    "        images = [\n",
    "            {'source': \"Internet\", 'label': \"Green Square\", 'file': \"green-square-16.png\"},\n",
    "            {'source': \"Peter Carolin\", 'label': \"Clouds Impression\", 'file': \"clouds-impression.png\"},\n",
    "            {'source': \"Peter Carolin\", 'label': \"Lassen Volcano\", 'file': \"lassen-volcano.jpg\"}\n",
    "        ]\n",
    "    for image in images:\n",
    "        # File to open\n",
    "        image['filename'] = path / image['file']  # file with path\n",
    "    return images\n",
    "\n",
    "# Scale to baseWidth\n",
    "def scale_image(img, baseWidth):\n",
    "    scalePercent = (baseWidth/float(img.size[0]))\n",
    "    scaleHeight = int((float(img.size[1])*float(scalePercent)))\n",
    "    scale = (baseWidth, scaleHeight)\n",
    "    return img.resize(scale)\n",
    "\n",
    "# PIL image converted to base64\n",
    "def image_to_base64(img, format):\n",
    "    with BytesIO() as buffer:\n",
    "        img.save(buffer, format)\n",
    "        return base64.b64encode(buffer.getvalue()).decode()\n",
    "    \n",
    "# Convert pixels to Grey Scale\n",
    "def grey_pixel(pixel):\n",
    "    average = (pixel[0] + pixel[1] + pixel[2]) // 3  # average pixel values and use // for integer division\n",
    "    if len(pixel) > 3:\n",
    "        return( (average, average, average, pixel[3]) ) # PNG format\n",
    "    else:\n",
    "        return( (average, average, average) )\n",
    "    \n",
    "# Convert pixels to Red Scale\n",
    "def red_pixel(pixel):\n",
    "    if len(pixel) > 3:\n",
    "        return( (pixel[0], 0, 0, pixel[3]) ) # PNG format\n",
    "    else:\n",
    "        return( (pixel[0], 0, 0) )\n",
    "    \n",
    "# Convert pixels to Red Scale\n",
    "def green_pixel(pixel):\n",
    "    if len(pixel) > 3:\n",
    "        return( (0, pixel[1], 0, pixel[3]) ) # PNG format\n",
    "    else:\n",
    "        return( (0, pixel[1], 0) )\n",
    "    \n",
    "# Convert pixels to Red Scale\n",
    "def blue_pixel(pixel):\n",
    "    if len(pixel) > 3:\n",
    "        return( (0, 0, pixel[2], pixel[3]) ) # PNG format\n",
    "    else:\n",
    "        return( (0, 0, pixel[2]) )\n",
    "        \n",
    "# Set Properties of Image, Scale, and convert to Base64\n",
    "def image_management(image, baseWidth):  # path of static images is defaulted        \n",
    "    # Image open return PIL image object\n",
    "    img = pilImage.open(image['filename'])\n",
    "    \n",
    "    # Python Image Library operations\n",
    "    image['format'] = img.format\n",
    "    image['mode'] = img.mode\n",
    "    image['size'] = img.size\n",
    "    # Scale the Image\n",
    "    img = scale_image(img, baseWidth)\n",
    "    image['pil'] = img\n",
    "    image['scaled_size'] = img.size\n",
    "    image['numpy'] = np.array(img.getdata())\n",
    "    # Scaled HTML\n",
    "    image['html'] = '<img src=\"data:image/png;base64,%s\">' % image_to_base64(image['pil'], image['format'])\n",
    "    \n",
    "    # Grey HTML\n",
    "    # each pixel in numpy array is turned to grey \n",
    "    # then resulting list, using List Comprehension, is put back into img    \n",
    "    img.putdata([grey_pixel(pixel) for pixel in image['numpy']])\n",
    "    image['html_grey'] =  '<img src=\"data:image/png;base64,%s\">' % image_to_base64(img, image['format'])\n",
    "    \n",
    "    # Red HTML\n",
    "    img.putdata([red_pixel(pixel) for pixel in image['numpy']])\n",
    "    image['html_red'] =  '<img src=\"data:image/png;base64,%s\">' % image_to_base64(img, image['format'])\n",
    "    \n",
    "    # Green HTML\n",
    "    img.putdata([green_pixel(pixel) for pixel in image['numpy']])\n",
    "    image['html_green'] =  '<img src=\"data:image/png;base64,%s\">' % image_to_base64(img, image['format'])\n",
    "    \n",
    "    # Blue HTML\n",
    "    img.putdata([blue_pixel(pixel) for pixel in image['numpy']])\n",
    "    image['html_blue'] =  '<img src=\"data:image/png;base64,%s\">' % image_to_base64(img, image['format'])\n",
    "    \n",
    "    \n",
    "def process_image(image, baseWidth=2048):\n",
    "    image_management(image, baseWidth)\n",
    "    print(\"---- meta data -----\")\n",
    "    print(image['label'])\n",
    "    print(image['source'])\n",
    "    print(image['format'])\n",
    "    print(image['mode'])\n",
    "    print(\"Original size: \", image['size'])\n",
    "    print(\"Scaled size: \", image['scaled_size'])\n",
    "    \n",
    "    print(\"-- images --\")\n",
    "    display(HTML(image['html'])) \n",
    "    display(HTML(image['html_grey'])) \n",
    "    display(HTML(image['html_red'])) \n",
    "    display(HTML(image['html_green'])) \n",
    "    display(HTML(image['html_blue'])) \n"
   ]
  },
  {
   "attachments": {},
   "cell_type": "markdown",
   "metadata": {},
   "source": [
    "## Sequential Processing \n",
    "> The for loop iterates over the list of images and processes them one at a time, in order."
   ]
  },
  {
   "cell_type": "code",
   "execution_count": 30,
   "metadata": {},
   "outputs": [
    {
     "ename": "AttributeError",
     "evalue": "'PosixPath' object has no attribute 'read'",
     "output_type": "error",
     "traceback": [
      "\u001b[0;31m---------------------------------------------------------------------------\u001b[0m",
      "\u001b[0;31mAttributeError\u001b[0m                            Traceback (most recent call last)",
      "\u001b[1;32m/home/annikaliao/vscode/annika/_notebooks/2023-03-29-AP-unit4-3a-parallel-computing.ipynb Cell 5\u001b[0m in \u001b[0;36m<cell line: 2>\u001b[0;34m()\u001b[0m\n\u001b[1;32m      <a href='vscode-notebook-cell://wsl%2Bubuntu/home/annikaliao/vscode/annika/_notebooks/2023-03-29-AP-unit4-3a-parallel-computing.ipynb#W4sdnNjb2RlLXJlbW90ZQ%3D%3D?line=5'>6</a>\u001b[0m \u001b[39m# Sequential Processing    \u001b[39;00m\n\u001b[1;32m      <a href='vscode-notebook-cell://wsl%2Bubuntu/home/annikaliao/vscode/annika/_notebooks/2023-03-29-AP-unit4-3a-parallel-computing.ipynb#W4sdnNjb2RlLXJlbW90ZQ%3D%3D?line=6'>7</a>\u001b[0m \u001b[39mfor\u001b[39;00m image \u001b[39min\u001b[39;00m images:\n\u001b[0;32m----> <a href='vscode-notebook-cell://wsl%2Bubuntu/home/annikaliao/vscode/annika/_notebooks/2023-03-29-AP-unit4-3a-parallel-computing.ipynb#W4sdnNjb2RlLXJlbW90ZQ%3D%3D?line=7'>8</a>\u001b[0m     process_image(image)\n\u001b[1;32m     <a href='vscode-notebook-cell://wsl%2Bubuntu/home/annikaliao/vscode/annika/_notebooks/2023-03-29-AP-unit4-3a-parallel-computing.ipynb#W4sdnNjb2RlLXJlbW90ZQ%3D%3D?line=9'>10</a>\u001b[0m \u001b[39mprint\u001b[39m()\n",
      "\u001b[1;32m/home/annikaliao/vscode/annika/_notebooks/2023-03-29-AP-unit4-3a-parallel-computing.ipynb Cell 5\u001b[0m in \u001b[0;36mprocess_image\u001b[0;34m(image, baseWidth)\u001b[0m\n\u001b[1;32m    <a href='vscode-notebook-cell://wsl%2Bubuntu/home/annikaliao/vscode/annika/_notebooks/2023-03-29-AP-unit4-3a-parallel-computing.ipynb#W4sdnNjb2RlLXJlbW90ZQ%3D%3D?line=99'>100</a>\u001b[0m \u001b[39mdef\u001b[39;00m \u001b[39mprocess_image\u001b[39m(image, baseWidth\u001b[39m=\u001b[39m\u001b[39m2048\u001b[39m):\n\u001b[0;32m--> <a href='vscode-notebook-cell://wsl%2Bubuntu/home/annikaliao/vscode/annika/_notebooks/2023-03-29-AP-unit4-3a-parallel-computing.ipynb#W4sdnNjb2RlLXJlbW90ZQ%3D%3D?line=100'>101</a>\u001b[0m     image_management(image, baseWidth)\n\u001b[1;32m    <a href='vscode-notebook-cell://wsl%2Bubuntu/home/annikaliao/vscode/annika/_notebooks/2023-03-29-AP-unit4-3a-parallel-computing.ipynb#W4sdnNjb2RlLXJlbW90ZQ%3D%3D?line=101'>102</a>\u001b[0m     \u001b[39mprint\u001b[39m(\u001b[39m\"\u001b[39m\u001b[39m---- meta data -----\u001b[39m\u001b[39m\"\u001b[39m)\n\u001b[1;32m    <a href='vscode-notebook-cell://wsl%2Bubuntu/home/annikaliao/vscode/annika/_notebooks/2023-03-29-AP-unit4-3a-parallel-computing.ipynb#W4sdnNjb2RlLXJlbW90ZQ%3D%3D?line=102'>103</a>\u001b[0m     \u001b[39mprint\u001b[39m(image[\u001b[39m'\u001b[39m\u001b[39mlabel\u001b[39m\u001b[39m'\u001b[39m])\n",
      "\u001b[1;32m/home/annikaliao/vscode/annika/_notebooks/2023-03-29-AP-unit4-3a-parallel-computing.ipynb Cell 5\u001b[0m in \u001b[0;36mimage_management\u001b[0;34m(image, baseWidth)\u001b[0m\n\u001b[1;32m     <a href='vscode-notebook-cell://wsl%2Bubuntu/home/annikaliao/vscode/annika/_notebooks/2023-03-29-AP-unit4-3a-parallel-computing.ipynb#W4sdnNjb2RlLXJlbW90ZQ%3D%3D?line=64'>65</a>\u001b[0m \u001b[39mdef\u001b[39;00m \u001b[39mimage_management\u001b[39m(image, baseWidth):  \u001b[39m# path of static images is defaulted        \u001b[39;00m\n\u001b[1;32m     <a href='vscode-notebook-cell://wsl%2Bubuntu/home/annikaliao/vscode/annika/_notebooks/2023-03-29-AP-unit4-3a-parallel-computing.ipynb#W4sdnNjb2RlLXJlbW90ZQ%3D%3D?line=65'>66</a>\u001b[0m     \u001b[39m# Image open return PIL image object\u001b[39;00m\n\u001b[0;32m---> <a href='vscode-notebook-cell://wsl%2Bubuntu/home/annikaliao/vscode/annika/_notebooks/2023-03-29-AP-unit4-3a-parallel-computing.ipynb#W4sdnNjb2RlLXJlbW90ZQ%3D%3D?line=66'>67</a>\u001b[0m     img \u001b[39m=\u001b[39m pilImage\u001b[39m.\u001b[39;49mopen(image[\u001b[39m'\u001b[39;49m\u001b[39mfilename\u001b[39;49m\u001b[39m'\u001b[39;49m])\n\u001b[1;32m     <a href='vscode-notebook-cell://wsl%2Bubuntu/home/annikaliao/vscode/annika/_notebooks/2023-03-29-AP-unit4-3a-parallel-computing.ipynb#W4sdnNjb2RlLXJlbW90ZQ%3D%3D?line=68'>69</a>\u001b[0m     \u001b[39m# Python Image Library operations\u001b[39;00m\n\u001b[1;32m     <a href='vscode-notebook-cell://wsl%2Bubuntu/home/annikaliao/vscode/annika/_notebooks/2023-03-29-AP-unit4-3a-parallel-computing.ipynb#W4sdnNjb2RlLXJlbW90ZQ%3D%3D?line=69'>70</a>\u001b[0m     image[\u001b[39m'\u001b[39m\u001b[39mformat\u001b[39m\u001b[39m'\u001b[39m] \u001b[39m=\u001b[39m img\u001b[39m.\u001b[39mformat\n",
      "File \u001b[0;32m~/anaconda3/lib/python3.9/site-packages/PIL/Image.py:1978\u001b[0m, in \u001b[0;36mopen\u001b[0;34m(fp, mode)\u001b[0m\n\u001b[1;32m   1975\u001b[0m \u001b[39melse\u001b[39;00m:\n\u001b[1;32m   1976\u001b[0m     filename \u001b[39m=\u001b[39m \u001b[39m\"\u001b[39m\u001b[39m\"\u001b[39m\n\u001b[0;32m-> 1978\u001b[0m prefix \u001b[39m=\u001b[39m fp\u001b[39m.\u001b[39;49mread(\u001b[39m16\u001b[39m)\n\u001b[1;32m   1980\u001b[0m preinit()\n\u001b[1;32m   1982\u001b[0m \u001b[39mfor\u001b[39;00m i \u001b[39min\u001b[39;00m ID:\n",
      "\u001b[0;31mAttributeError\u001b[0m: 'PosixPath' object has no attribute 'read'"
     ]
    }
   ],
   "source": [
    "# Jupyter Notebook Visualization of Images\n",
    "if __name__ == \"__main__\":\n",
    "    # setup default images\n",
    "    images = image_data()\n",
    "\n",
    "    # Sequential Processing    \n",
    "    for image in images:\n",
    "        process_image(image)\n",
    "        \n",
    "    print()"
   ]
  },
  {
   "attachments": {},
   "cell_type": "markdown",
   "metadata": {},
   "source": [
    "## Parallel Computing\n",
    "\n",
    " > In parallel or concurrent mode, the ThreadPoolExecutor is used to submit each image to a separate worker thread, allowing multiple images to be processed simultaneously. Multithreading allows multiple concurrent tasks of a process at the same time. The executor.map() method is used to apply the process_image function to each image in the images list.  \n",
    " - The order in which the images are processed is not guaranteed, as threads are performed simultaneously."
   ]
  },
  {
   "cell_type": "code",
   "execution_count": 5,
   "metadata": {},
   "outputs": [
    {
     "name": "stdout",
     "output_type": "stream",
     "text": [
      "\n"
     ]
    }
   ],
   "source": [
    "import concurrent.futures\n",
    "\n",
    "# Jupyter Notebook Visualization of Images\n",
    "if __name__ == \"__main__\":\n",
    "    # setup default images\n",
    "    images = image_data()\n",
    "    \n",
    "    # Parallel Processsing\n",
    "    # executor allocates threads, it considers core execution capability of machine\n",
    "    with concurrent.futures.ThreadPoolExecutor() as executor:\n",
    "        executor.map(process_image, images)  # order is not predictable\n",
    "        \n",
    "    print()"
   ]
  },
  {
   "attachments": {},
   "cell_type": "markdown",
   "metadata": {},
   "source": [
    "## Observing Parallel Computing and Threads\n",
    "> You can observe Processes, CPU Percentage, and Threads with Tools on your machine. Common tools to monitor performance are Activity Monitor on MacOS or Task Manager on Windows.   \n",
    "\n",
    "- This example is using ```top``` launched in VSCode Terminal. (mac)\n",
    "- Try ```top -H``` for linux.\n",
    "    - PID is Process ID.  \n",
    "    - COMMAND is task running on machine.  Python is activated when running this Jupyter notebook.\n",
    "    - #TH is number of threads.   This increases from 15/1 to 18/1 on my machine when running python parallel computing example.\n"
   ]
  },
  {
   "attachments": {},
   "cell_type": "markdown",
   "metadata": {},
   "source": [
    "## Hacks\n",
    "> AP Classroom. Provide answers and thoughts on theoritical question form college board Video in section 4.3.  They start at about the 9 minute mark.\n",
    "- Example 1\n",
    "![](https://i.imgur.com/nfNrriv.jpg)\n",
    "\n",
    "30 seconds. If the 10 second and 30 second processors run at the same time, the 10 second one will finish running while the 30 second on eis still running. Then, once that one finishes running, both have executed, and in 30 seconds. \n",
    "\n",
    "- Example 2\n",
    "![](https://i.imgur.com/oKTGkOv.jpg)\n",
    "\n",
    "If you run them one after another, the execution times are the sum of the two, because they're being run separately. I fyou ran them together, the process with the longer execution time would be the total time, because the other process will finish running in that time. \n",
    "\n",
    "> Data Structures.  Build a List Comprehension example\n",
    "- list = [calc(item) for item in items]"
   ]
  },
  {
   "cell_type": "code",
   "execution_count": 1,
   "metadata": {},
   "outputs": [
    {
     "name": "stdout",
     "output_type": "stream",
     "text": [
      "[1, 4, 9, 16, 25]\n"
     ]
    }
   ],
   "source": [
    "items = [1, 2, 3, 4, 5]\n",
    "\n",
    "# Define a function to perform calculation on each item\n",
    "def calc(x):\n",
    "    return x ** 2\n",
    "\n",
    "# Use a list comprehension to apply the function to each item in the original list\n",
    "squares = [calc(item) for item in items]\n",
    "\n",
    "# Output the resulting list\n",
    "print(squares)  "
   ]
  }
 ],
 "metadata": {
  "kernelspec": {
   "display_name": "base",
   "language": "python",
   "name": "python3"
  },
  "language_info": {
   "codemirror_mode": {
    "name": "ipython",
    "version": 3
   },
   "file_extension": ".py",
   "mimetype": "text/x-python",
   "name": "python",
   "nbconvert_exporter": "python",
   "pygments_lexer": "ipython3",
   "version": "3.9.12"
  },
  "orig_nbformat": 4,
  "vscode": {
   "interpreter": {
    "hash": "d30da7273725b8b2b4fe92b6bcb866e703d5b63516f810051271bd70b23e7219"
   }
  }
 },
 "nbformat": 4,
 "nbformat_minor": 2
}

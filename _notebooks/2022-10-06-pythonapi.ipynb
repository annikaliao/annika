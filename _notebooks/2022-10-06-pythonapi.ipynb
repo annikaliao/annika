{
 "cells": [
  {
   "cell_type": "markdown",
   "metadata": {},
   "source": [
    "# API Exploration\n",
    "> Experimenting with APIs\n",
    "\n",
    "- title: API Exploration\n",
    "- toc: false\n",
    "- categories: [jupyter] \n",
    "- tags: [python]"
   ]
  },
  {
   "cell_type": "code",
   "execution_count": 26,
   "metadata": {},
   "outputs": [
    {
     "name": "stdout",
     "output_type": "stream",
     "text": [
      "{\"fname\":\"Alex Turner\",\"sname\":\"Annika Liao\",\"percentage\":\"99\",\"result\":\"Congratulations! Good choice\"}\n"
     ]
    }
   ],
   "source": [
    "import requests\n",
    "\n",
    "url = \"https://love-calculator.p.rapidapi.com/getPercentage\"\n",
    "\n",
    "querystring = {\"sname\":\"Annika Liao\",\"fname\":\"Alex Turner\"}\n",
    "\n",
    "headers = {\n",
    "\t\"X-RapidAPI-Key\": \"26fd9549c8msh64e7e2f5ac3301fp18259djsn17ca48c66a6a\",\n",
    "\t\"X-RapidAPI-Host\": \"love-calculator.p.rapidapi.com\"\n",
    "}\n",
    "\n",
    "response = requests.request(\"GET\", url, headers=headers, params=querystring)\n",
    "\n",
    "print(response.text)"
   ]
  }
 ],
 "metadata": {
  "kernelspec": {
   "display_name": "Python 3.8.10 64-bit",
   "language": "python",
   "name": "python3"
  },
  "language_info": {
   "codemirror_mode": {
    "name": "ipython",
    "version": 3
   },
   "file_extension": ".py",
   "mimetype": "text/x-python",
   "name": "python",
   "nbconvert_exporter": "python",
   "pygments_lexer": "ipython3",
   "version": "3.8.10"
  },
  "orig_nbformat": 4,
  "vscode": {
   "interpreter": {
    "hash": "916dbcbb3f70747c44a77c7bcd40155683ae19c65e1c03b4aa3499c5328201f1"
   }
  }
 },
 "nbformat": 4,
 "nbformat_minor": 2
}

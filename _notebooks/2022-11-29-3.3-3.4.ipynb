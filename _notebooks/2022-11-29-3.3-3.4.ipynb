{
 "cells": [
  {
   "cell_type": "markdown",
   "metadata": {},
   "source": [
    "# Lesson 3.3-3.4 Algorithms\n",
    "> Notes, questions, and hacks\n",
    "\n",
    "- toc: true \n",
    "- badges: true\n",
    "- comments: false\n",
    "- categories: [jupyter]"
   ]
  },
  {
   "cell_type": "markdown",
   "metadata": {},
   "source": [
    "## Notes\n",
    "- An algorithm is a finite set of instruction that accomplish a task\n",
    "    - it can be expressed by natural language, diagrams, etc.\n",
    "    - Every algorithm can be created by a mixture of sequencing, selection, and iteration\n",
    "- A sequence is the order of how to do something to achieve a result\n",
    "    - i.e. how you follow the instructions from a teacher\n",
    "- A selection allows an algorithm to make a decision based on if a condition is met\n",
    "    - i.e. when your car is out of fuel, you go to the gas station to fill your car, but if your car is full you wouldn't go to the gas station\n",
    "- An iteration is a loop and doing something again until a condition is met\n",
    "    - i.e. you put away your computer when you are finished with your work\n",
    "- Sequential statements are used in processes to specify how signals are assigned\n",
    "- After all the sequential statements in the process are executed the signals are assigned in order their new values\n",
    "- Arithmetic operator is language that use addition (+), subtraction (-), multiplication (*), division(/), and modulus (%)\n",
    "- String concatenation joins two or more strings end-to-end to make a new string\n",
    "- A substring is part of an existing string"
   ]
  },
  {
   "cell_type": "markdown",
   "metadata": {},
   "source": [
    "## Hacks\n",
    "\n",
    "### #1 Describe the parts of an algorithm\n",
    "\n",
    "Sequencing: The whole algorithm together is an example of sequencing \n",
    "\n",
    "Selection: 3. If number = item, display \"item found\" \n",
    "\n",
    "Iteration: 4. If there are more numbers in the list, go back to Step 2 \n",
    "\n",
    "### #2 Evaluate the arithmetic expression \n",
    "\n",
    "num1 = 5 <br>\n",
    "num2 = 5 * 3 = 15 <br>\n",
    "num3 = 15 / 5 * (9 % 2) * 4 = 3 * 1 * 4 = 12 <br>\n",
    "result = (12 % 5 + 15) % 12 * 3 / 5 = 17 % 12 * 3 / 5 = 3<br><br>\n",
    "The answer is 3\n",
    "\n",
    "### #3 Crossword puzzle \n",
    "\n",
    "1. down - iteration\n",
    "2. down - selection\n",
    "3. across - sequence\n",
    "\n",
    "### #4 Quiz\n",
    "![](https://mail.google.com/mail/u/0?ui=2&ik=307c2bfad8&attid=0.2&permmsgid=msg-a:r20327790267697811&th=184c55c3314da017&view=fimg&fur=ip&sz=s0-l75-ft&attbid=ANGjdJ-bUIfNrxVyH1ZJEuBI-5iLC38aI-aJIWk6Dtz4CW-fZGHN5PdFBoDlAlIoio71bSi8yQhvjoMk6irO0hsgVQuERL4PJNuysZiwv6cWWDacLpEFD36KyAqGaTg&disp=emb&realattid=ii_lb2r2pd01)"
   ]
  }
 ],
 "metadata": {
  "kernelspec": {
   "display_name": "Python 3.8.10 64-bit",
   "language": "python",
   "name": "python3"
  },
  "language_info": {
   "codemirror_mode": {
    "name": "ipython",
    "version": 3
   },
   "file_extension": ".py",
   "mimetype": "text/x-python",
   "name": "python",
   "nbconvert_exporter": "python",
   "pygments_lexer": "ipython3",
   "version": "3.8.10 (default, Jun 22 2022, 20:18:18) \n[GCC 9.4.0]"
  },
  "orig_nbformat": 4,
  "vscode": {
   "interpreter": {
    "hash": "916dbcbb3f70747c44a77c7bcd40155683ae19c65e1c03b4aa3499c5328201f1"
   }
  }
 },
 "nbformat": 4,
 "nbformat_minor": 2
}

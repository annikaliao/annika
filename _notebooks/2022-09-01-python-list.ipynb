{
 "cells": [
  {
   "cell_type": "markdown",
   "metadata": {},
   "source": [
    "# Python List \n",
    "> Exploring lists\n",
    "\n",
    "- title: Python List\n",
    "- toc: false\n",
    "- categories: [jupyter] \n",
    "- tags: [python]"
   ]
  },
  {
   "cell_type": "code",
   "execution_count": 74,
   "metadata": {},
   "outputs": [
    {
     "name": "stdout",
     "output_type": "stream",
     "text": [
      "Hello, you will be asked a few questions.\n",
      "Are you ready?\n",
      "What is your name?\n",
      "Hello Haeryn! How old are you?\n",
      "15! Alright, what's your favorite color?\n",
      "Yellow? I love that color too!\n",
      "\n",
      "Thanks for doing my quiz! Here is your info:\n",
      "\n",
      "Name Haeryn\n",
      "Age: 15\n",
      "Favorite Color: Yellow\n"
     ]
    }
   ],
   "source": [
    "InfoDb = []\n",
    "\n",
    "print (\"Hello, you will be asked a few questions.\\nAre you ready?\")\n",
    "rsp = input (\"Are you ready?\")\n",
    "if rsp == \"yes\":\n",
    "    print (\"Great!\\n\")\n",
    "if rsp == \"no\" :\n",
    "    print (\"That's too bad.\\n\")  \n",
    "\n",
    "print (\"What is your name?\")\n",
    "name = input ('What is your name?\\n')\n",
    "\n",
    "print (\"Hello \" + name + \"! How old are you?\")\n",
    "age = input ('How old are you?\\n')\n",
    "\n",
    "print (age + \"! Alright, what's your favorite color?\")\n",
    "color = input (\"What's your favorite color?\\n\")\n",
    "\n",
    "print (color +\"? I love that color too!\")\n",
    "\n",
    "print (\"\\nThanks for doing my quiz! Here is your info:\\n\")\n",
    "\n",
    "InfoDb.append({\n",
    "    \"Name\" : name,\n",
    "    \"Age\" : age,\n",
    "    \"Favorite color\" : color\n",
    "})\n",
    "\n",
    "def print_data(d_rec):\n",
    "    print(\"Name:\", d_rec[\"Name\"])  # using comma puts space between values\n",
    "    print(\"Age:\", d_rec[\"Age\"])\n",
    "    print(\"Favorite Color:\", d_rec[\"Favorite color\"], end=\"\")  # end=\"\" make sure no return occurs\n",
    "    print()\n",
    "\n",
    "def for_loop():\n",
    "    for record in InfoDb:\n",
    "        print_data(record)\n",
    "\n",
    "for_loop()"
   ]
  }
 ],
 "metadata": {
  "kernelspec": {
   "display_name": "Python 3.8.10 64-bit",
   "language": "python",
   "name": "python3"
  },
  "language_info": {
   "codemirror_mode": {
    "name": "ipython",
    "version": 3
   },
   "file_extension": ".py",
   "mimetype": "text/x-python",
   "name": "python",
   "nbconvert_exporter": "python",
   "pygments_lexer": "ipython3",
   "version": "3.8.10"
  },
  "orig_nbformat": 4,
  "vscode": {
   "interpreter": {
    "hash": "916dbcbb3f70747c44a77c7bcd40155683ae19c65e1c03b4aa3499c5328201f1"
   }
  }
 },
 "nbformat": 4,
 "nbformat_minor": 2
}
